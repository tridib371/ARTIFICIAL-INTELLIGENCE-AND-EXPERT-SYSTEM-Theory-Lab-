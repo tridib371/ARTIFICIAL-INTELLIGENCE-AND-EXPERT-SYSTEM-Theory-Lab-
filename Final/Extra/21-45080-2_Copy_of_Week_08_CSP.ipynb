{
  "cells": [
    {
      "cell_type": "code",
      "execution_count": 1,
      "metadata": {
        "id": "hYW2TIWObnCK"
      },
      "outputs": [],
      "source": [
        "# Define a new cgraph\n",
        "cgraph = {'WA': ['SA', 'NT'],\n",
        "          'Q': ['SA', 'NT', 'NSW'],\n",
        "          'T': [],\n",
        "          'V': ['SA', 'NSW'],\n",
        "          'SA': ['WA', 'NT', 'Q', 'NSW','V'],\n",
        "          'NT': ['Q', 'WA', 'SA'],\n",
        "          'NSW': ['Q', 'V', 'SA']}"
      ]
    },
    {
      "cell_type": "code",
      "execution_count": 2,
      "metadata": {
        "id": "9O9871h6bnCN"
      },
      "outputs": [],
      "source": [
        "import random\n",
        "def get_color(node, rv, cg):\n",
        "    if not rv[node]:\n",
        "      return 'no color'\n",
        "    color = random.choice(rv[node])\n",
        "    rv.pop(node)\n",
        "    # update remaining values for neihbouring node\n",
        "    adjList = cg[node]\n",
        "    for adj in adjList:\n",
        "        if adj in rv.keys() and color in rv[adj]:\n",
        "            rv[adj].remove(color)\n",
        "    #print(adjList)\n",
        "    return color"
      ]
    },
    {
      "cell_type": "markdown",
      "metadata": {
        "id": "j8ywr8eQbnCN"
      },
      "source": [
        "## Highest Degree Node"
      ]
    },
    {
      "cell_type": "code",
      "execution_count": 3,
      "metadata": {
        "id": "hDpTD2onbnCO"
      },
      "outputs": [],
      "source": [
        "# write a method to get the highest degree node\n",
        "def get_hdnode(cg, solved):\n",
        "    mnode = ''\n",
        "    degree = -1\n",
        "    for k in cg.keys():\n",
        "        if len(cg[k])  > degree and k not in solved.keys():\n",
        "            #print(k)\n",
        "            degree = len(cg[k])\n",
        "            mnode = k\n",
        "    return mnode"
      ]
    },
    {
      "cell_type": "code",
      "source": [
        "get_hdnode(cgraph, {'SA':'B'})"
      ],
      "metadata": {
        "colab": {
          "base_uri": "https://localhost:8080/",
          "height": 35
        },
        "id": "hn_4jQ7U0C9K",
        "outputId": "cc9709cf-f043-4b19-8232-8d3e596f3dfa"
      },
      "execution_count": 7,
      "outputs": [
        {
          "output_type": "execute_result",
          "data": {
            "text/plain": [
              "'Q'"
            ],
            "application/vnd.google.colaboratory.intrinsic+json": {
              "type": "string"
            }
          },
          "metadata": {},
          "execution_count": 7
        }
      ]
    },
    {
      "cell_type": "markdown",
      "metadata": {
        "id": "ylzC1XBQbnCP"
      },
      "source": [
        "Color the nodes using Highest degree heuristic"
      ]
    },
    {
      "cell_type": "code",
      "execution_count": 9,
      "metadata": {
        "id": "iHlkL3lJbnCP",
        "outputId": "a76cc5e8-edd6-4fa5-d2f4-ab2f1d1b2218",
        "colab": {
          "base_uri": "https://localhost:8080/"
        }
      },
      "outputs": [
        {
          "output_type": "stream",
          "name": "stdout",
          "text": [
            "rv: {'WA': ['R', 'G', 'B'], 'Q': ['R', 'G', 'B'], 'T': ['R', 'G', 'B'], 'V': ['R', 'G', 'B'], 'NT': ['R', 'G', 'B'], 'SA': ['R', 'G', 'B'], 'NSW': ['R', 'G', 'B']}\n",
            "Selected Node: SA\n",
            "assigned: {'SA': 'B'}\n",
            "rv: {'WA': ['R', 'G'], 'Q': ['R', 'G'], 'T': ['R', 'G', 'B'], 'V': ['R', 'G'], 'NT': ['R', 'G'], 'NSW': ['R', 'G']}\n",
            "Selected Node: Q\n",
            "assigned: {'SA': 'B', 'Q': 'G'}\n",
            "rv: {'WA': ['R', 'G'], 'T': ['R', 'G', 'B'], 'V': ['R', 'G'], 'NT': ['R'], 'NSW': ['R']}\n",
            "Selected Node: NT\n",
            "assigned: {'SA': 'B', 'Q': 'G', 'NT': 'R'}\n",
            "rv: {'WA': ['G'], 'T': ['R', 'G', 'B'], 'V': ['R', 'G'], 'NSW': ['R']}\n",
            "Selected Node: NSW\n",
            "assigned: {'SA': 'B', 'Q': 'G', 'NT': 'R', 'NSW': 'R'}\n",
            "rv: {'WA': ['G'], 'T': ['R', 'G', 'B'], 'V': ['G']}\n",
            "Selected Node: WA\n",
            "assigned: {'SA': 'B', 'Q': 'G', 'NT': 'R', 'NSW': 'R', 'WA': 'G'}\n",
            "rv: {'T': ['R', 'G', 'B'], 'V': ['G']}\n",
            "Selected Node: V\n",
            "assigned: {'SA': 'B', 'Q': 'G', 'NT': 'R', 'NSW': 'R', 'WA': 'G', 'V': 'G'}\n",
            "rv: {'T': ['R', 'G', 'B']}\n",
            "Selected Node: T\n",
            "assigned: {'SA': 'B', 'Q': 'G', 'NT': 'R', 'NSW': 'R', 'WA': 'G', 'V': 'G', 'T': 'B'}\n"
          ]
        }
      ],
      "source": [
        "assigned = {} # store assigned variables with colors\n",
        "remainingValues = {'WA': ['R','G','B'],\n",
        "                    'Q': ['R','G','B'],\n",
        "                    'T': ['R','G','B'],\n",
        "                    'V':  ['R','G','B'],\n",
        "                    'NT': ['R','G','B'],\n",
        "                    'SA': ['R','G','B'],\n",
        "                    'NSW': ['R','G','B']}\n",
        "\n",
        "for i in range(len(cgraph)):\n",
        "    print('rv: ', end=\"\")\n",
        "    print(remainingValues)\n",
        "    # assign color to the highest degree node\n",
        "    selectedNode = get_hdnode(cgraph, assigned)\n",
        "    # hdNode = random.choice(list(remainingValues.keys()))\n",
        "    print('Selected Node: '+selectedNode)\n",
        "    color = get_color(selectedNode, remainingValues, cgraph)\n",
        "\n",
        "    if color == 'no color':\n",
        "        print('Failed: There is No color available for node ' + selectedNode)\n",
        "        break\n",
        "\n",
        "    assigned[selectedNode]= color\n",
        "    print('assigned: ', end=\"\")\n",
        "    print(assigned)\n",
        "\n"
      ]
    },
    {
      "cell_type": "code",
      "source": [
        "remainingValues.keys()"
      ],
      "metadata": {
        "colab": {
          "base_uri": "https://localhost:8080/"
        },
        "id": "eR8KeOPlNi-o",
        "outputId": "335f1687-3a87-4e1b-edc9-86a25ce0748d"
      },
      "execution_count": 10,
      "outputs": [
        {
          "output_type": "execute_result",
          "data": {
            "text/plain": [
              "dict_keys([])"
            ]
          },
          "metadata": {},
          "execution_count": 10
        }
      ]
    },
    {
      "cell_type": "markdown",
      "metadata": {
        "id": "c7h2vdiTbnCQ"
      },
      "source": [
        "## Minimum Remaining Value"
      ]
    },
    {
      "cell_type": "code",
      "execution_count": 11,
      "metadata": {
        "id": "zYiGg6q1bnCQ"
      },
      "outputs": [],
      "source": [
        "# define a method to select a node by MRV\n",
        "def get_MRVnode(rv, assigned):\n",
        "    mrv_node = None\n",
        "    # Set to positive infinity initially\n",
        "    min_remaining_values = float('inf')\n",
        "\n",
        "    for node, values in rv.items():\n",
        "        if len(values) < min_remaining_values and values and node not in assigned:\n",
        "            min_remaining_values = len(values)\n",
        "            mrv_node = node\n",
        "\n",
        "    return mrv_node"
      ]
    },
    {
      "cell_type": "markdown",
      "metadata": {
        "id": "4CHiqApobnCR"
      },
      "source": [
        "Color the nodes using MRV heuristic"
      ]
    },
    {
      "cell_type": "code",
      "execution_count": 13,
      "metadata": {
        "id": "-WkGNPrsbnCR",
        "colab": {
          "base_uri": "https://localhost:8080/"
        },
        "outputId": "ffd4682a-b610-4881-c561-2092707cc25c"
      },
      "outputs": [
        {
          "output_type": "stream",
          "name": "stdout",
          "text": [
            "{'WA': ['R', 'G', 'B'], 'Q': ['R', 'G', 'B'], 'T': ['R', 'G', 'B'], 'V': ['R', 'G', 'B'], 'NT': ['R', 'G', 'B'], 'SA': ['R', 'G', 'B'], 'NSW': ['R', 'G', 'B']}\n",
            "{'WA': 'B'}\n",
            "{'Q': ['R', 'G', 'B'], 'T': ['R', 'G', 'B'], 'V': ['R', 'G', 'B'], 'NT': ['R', 'G'], 'SA': ['R', 'G'], 'NSW': ['R', 'G', 'B']}\n",
            "{'WA': 'B', 'NT': 'R'}\n",
            "{'Q': ['G', 'B'], 'T': ['R', 'G', 'B'], 'V': ['R', 'G', 'B'], 'SA': ['G'], 'NSW': ['R', 'G', 'B']}\n",
            "{'WA': 'B', 'NT': 'R', 'SA': 'G'}\n",
            "{'Q': ['B'], 'T': ['R', 'G', 'B'], 'V': ['R', 'B'], 'NSW': ['R', 'B']}\n",
            "{'WA': 'B', 'NT': 'R', 'SA': 'G', 'Q': 'B'}\n",
            "{'T': ['R', 'G', 'B'], 'V': ['R', 'B'], 'NSW': ['R']}\n",
            "{'WA': 'B', 'NT': 'R', 'SA': 'G', 'Q': 'B', 'NSW': 'R'}\n",
            "{'T': ['R', 'G', 'B'], 'V': ['B']}\n",
            "{'WA': 'B', 'NT': 'R', 'SA': 'G', 'Q': 'B', 'NSW': 'R', 'V': 'B'}\n",
            "{'T': ['R', 'G', 'B']}\n",
            "{'WA': 'B', 'NT': 'R', 'SA': 'G', 'Q': 'B', 'NSW': 'R', 'V': 'B', 'T': 'G'}\n"
          ]
        }
      ],
      "source": [
        "assigned = {}\n",
        "\n",
        "remainingValues = {'WA': ['R','G','B'],\n",
        "                    'Q': ['R','G','B'],\n",
        "                    'T': ['R','G','B'],\n",
        "                    'V':  ['R','G','B'],\n",
        "                    'NT': ['R','G','B'],\n",
        "                    'SA': ['R','G','B'],\n",
        "                    'NSW': ['R','G','B']}\n",
        "\n",
        "for i in range(len(cgraph)):\n",
        "    # assign color to the highest degree node\n",
        "    print(remainingValues)\n",
        "    selectedNode = get_MRVnode(remainingValues, assigned)\n",
        "    color = get_color(selectedNode, remainingValues, cgraph)\n",
        "\n",
        "    if color == 'no color':\n",
        "        print('Failure: color not available for ' + selectedNode)\n",
        "        break\n",
        "\n",
        "    assigned[selectedNode]= color\n",
        "    print(assigned)"
      ]
    },
    {
      "cell_type": "markdown",
      "source": [
        "**Select node randomly**"
      ],
      "metadata": {
        "id": "_6OdvTP0Yna3"
      }
    },
    {
      "cell_type": "code",
      "source": [
        "def get_RandomNode(rv):\n",
        "    remaining_nodes = [k for k in rv.keys()]\n",
        "    node = random.choice(remaining_nodes)\n",
        "    return node"
      ],
      "metadata": {
        "id": "kHundyKLY0Zd"
      },
      "execution_count": 15,
      "outputs": []
    },
    {
      "cell_type": "code",
      "source": [
        "assigned = {}\n",
        "\n",
        "remainingValues = {'WA': ['R','G','B'],\n",
        "                    'Q': ['R','G','B'],\n",
        "                    'T': ['R','G','B'],\n",
        "                    'V':  ['R','G','B'],\n",
        "                    'NT': ['R','G','B'],\n",
        "                    'SA': ['R','G','B'],\n",
        "                    'NSW': ['R','G','B']}\n",
        "\n",
        "for i in range(len(cgraph)):\n",
        "    # assign color to the highest degree node\n",
        "    print(remainingValues)\n",
        "    selectedNode = get_RandomNode(remainingValues)\n",
        "    print('Selected Node: '+selectedNode)\n",
        "    color = get_color(selectedNode, remainingValues, cgraph)\n",
        "\n",
        "    if color == 'no color':\n",
        "        print('Failure: color not available for ' + selectedNode)\n",
        "        break\n",
        "\n",
        "    assigned[selectedNode]= color\n",
        "    print(assigned)"
      ],
      "metadata": {
        "id": "nfG3_fuUYt3-",
        "colab": {
          "base_uri": "https://localhost:8080/"
        },
        "outputId": "04f2a611-8924-4f77-decb-11b24c4716d0"
      },
      "execution_count": 16,
      "outputs": [
        {
          "output_type": "stream",
          "name": "stdout",
          "text": [
            "{'WA': ['R', 'G', 'B'], 'Q': ['R', 'G', 'B'], 'T': ['R', 'G', 'B'], 'V': ['R', 'G', 'B'], 'NT': ['R', 'G', 'B'], 'SA': ['R', 'G', 'B'], 'NSW': ['R', 'G', 'B']}\n",
            "Selected Node: WA\n",
            "{'WA': 'B'}\n",
            "{'Q': ['R', 'G', 'B'], 'T': ['R', 'G', 'B'], 'V': ['R', 'G', 'B'], 'NT': ['R', 'G'], 'SA': ['R', 'G'], 'NSW': ['R', 'G', 'B']}\n",
            "Selected Node: NT\n",
            "{'WA': 'B', 'NT': 'G'}\n",
            "{'Q': ['R', 'B'], 'T': ['R', 'G', 'B'], 'V': ['R', 'G', 'B'], 'SA': ['R'], 'NSW': ['R', 'G', 'B']}\n",
            "Selected Node: SA\n",
            "{'WA': 'B', 'NT': 'G', 'SA': 'R'}\n",
            "{'Q': ['B'], 'T': ['R', 'G', 'B'], 'V': ['G', 'B'], 'NSW': ['G', 'B']}\n",
            "Selected Node: Q\n",
            "{'WA': 'B', 'NT': 'G', 'SA': 'R', 'Q': 'B'}\n",
            "{'T': ['R', 'G', 'B'], 'V': ['G', 'B'], 'NSW': ['G']}\n",
            "Selected Node: T\n",
            "{'WA': 'B', 'NT': 'G', 'SA': 'R', 'Q': 'B', 'T': 'R'}\n",
            "{'V': ['G', 'B'], 'NSW': ['G']}\n",
            "Selected Node: NSW\n",
            "{'WA': 'B', 'NT': 'G', 'SA': 'R', 'Q': 'B', 'T': 'R', 'NSW': 'G'}\n",
            "{'V': ['B']}\n",
            "Selected Node: V\n",
            "{'WA': 'B', 'NT': 'G', 'SA': 'R', 'Q': 'B', 'T': 'R', 'NSW': 'G', 'V': 'B'}\n"
          ]
        }
      ]
    }
  ],
  "metadata": {
    "kernelspec": {
      "display_name": "Python 3",
      "language": "python",
      "name": "python3"
    },
    "language_info": {
      "codemirror_mode": {
        "name": "ipython",
        "version": 3
      },
      "file_extension": ".py",
      "mimetype": "text/x-python",
      "name": "python",
      "nbconvert_exporter": "python",
      "pygments_lexer": "ipython3",
      "version": "3.8.5"
    },
    "colab": {
      "provenance": []
    }
  },
  "nbformat": 4,
  "nbformat_minor": 0
}