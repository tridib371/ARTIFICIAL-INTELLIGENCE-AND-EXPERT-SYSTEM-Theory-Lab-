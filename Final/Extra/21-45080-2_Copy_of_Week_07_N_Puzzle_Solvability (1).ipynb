{
  "cells": [
    {
      "cell_type": "markdown",
      "metadata": {
        "id": "nz8Q6nBSaf7k"
      },
      "source": [
        "###### To solve a puzzle, you are given an initial state and a goal state.\n",
        "###### Target is to reach goal state from initial state using puzzle rules.\n",
        "######  We can move blank tile only on left, right, up, and down\n",
        "![Capture.JPG](attachment:Capture.JPG)"
      ]
    },
    {
      "cell_type": "markdown",
      "metadata": {
        "id": "SaqziTVFaf7s"
      },
      "source": [
        "# Generate an intial state of NPuzzle"
      ]
    },
    {
      "cell_type": "code",
      "execution_count": 1,
      "metadata": {
        "scrolled": true,
        "id": "iTX34gUNaf7t"
      },
      "outputs": [],
      "source": [
        "import numpy as np\n",
        "import random\n",
        "def get_state(N):\n",
        "    state = [item for item in range(N*N)]# [0,1,2,...,15]\n",
        "    random.shuffle(state)\n",
        "    tmp = np.array(state)\n",
        "    print(tmp.reshape(N,N))\n",
        "    return state"
      ]
    },
    {
      "cell_type": "code",
      "execution_count": 2,
      "metadata": {
        "colab": {
          "base_uri": "https://localhost:8080/"
        },
        "id": "QKTU1E1Iaf7v",
        "outputId": "e9e54c46-6715-4911-e2be-5357e372596e"
      },
      "outputs": [
        {
          "output_type": "stream",
          "name": "stdout",
          "text": [
            "[[7 6 3]\n",
            " [2 0 5]\n",
            " [1 4 8]]\n"
          ]
        },
        {
          "output_type": "execute_result",
          "data": {
            "text/plain": [
              "[7, 6, 3, 2, 0, 5, 1, 4, 8]"
            ]
          },
          "metadata": {},
          "execution_count": 2
        }
      ],
      "source": [
        "get_state(3)"
      ]
    },
    {
      "cell_type": "markdown",
      "metadata": {
        "id": "3hD4ieUaaf7x"
      },
      "source": [
        "# Calculate inversion"
      ]
    },
    {
      "cell_type": "markdown",
      "metadata": {
        "id": "CkoMv0C8af7y"
      },
      "source": [
        "Inversion is a pair of tiles that are in the reverse order from where they ought to be. In our case, the bigger number is in front of the smaller one.\n",
        "\n"
      ]
    },
    {
      "cell_type": "markdown",
      "metadata": {
        "id": "JcfDN45Caf7y"
      },
      "source": [
        "![Capture.JPG](attachment:Capture.JPG)"
      ]
    },
    {
      "cell_type": "code",
      "execution_count": 3,
      "metadata": {
        "id": "-W9FOmneaf7z"
      },
      "outputs": [],
      "source": [
        "def count_inversion(s):\n",
        "    count = 0\n",
        "    for i in range(len(s)):\n",
        "        for j in range(i+1,len(s)):\n",
        "            if s[j]!=0 and s[i] > s[j]: count += 1\n",
        "    return count"
      ]
    },
    {
      "cell_type": "code",
      "execution_count": 50,
      "metadata": {
        "colab": {
          "base_uri": "https://localhost:8080/"
        },
        "id": "sWAiuZfjaf71",
        "outputId": "0fb0142b-c281-48d2-9c05-c3464a448ed8"
      },
      "outputs": [
        {
          "output_type": "stream",
          "name": "stdout",
          "text": [
            "[[ 9  0  4  8]\n",
            " [13 10 12 11]\n",
            " [ 3  1 14  5]\n",
            " [ 2 15  7  6]]\n",
            "[9, 0, 4, 8, 13, 10, 12, 11, 3, 1, 14, 5, 2, 15, 7, 6]\n",
            "55\n"
          ]
        }
      ],
      "source": [
        "s = get_state(4)\n",
        "print(s)\n",
        "print(count_inversion(s))"
      ]
    },
    {
      "cell_type": "code",
      "source": [
        "S  = [9,1,0,2,3]\n",
        "S.index(0)"
      ],
      "metadata": {
        "colab": {
          "base_uri": "https://localhost:8080/"
        },
        "id": "znluowb7Jot_",
        "outputId": "21f662e3-2214-4c7d-9e09-3e4d7620274a"
      },
      "execution_count": null,
      "outputs": [
        {
          "output_type": "execute_result",
          "data": {
            "text/plain": [
              "2"
            ]
          },
          "metadata": {},
          "execution_count": 16
        }
      ]
    },
    {
      "cell_type": "markdown",
      "source": [
        "# **Find blank row**"
      ],
      "metadata": {
        "id": "EDn9_ODN1RFU"
      }
    },
    {
      "cell_type": "code",
      "source": [
        "# find row position of the blank tile\n",
        "def get_blank_row(s):\n",
        "    size = int(len(s) ** 0.5)  # Assuming the puzzle is a square grid\n",
        "    blank_index = s.index(0)    # Assuming 0 represents the blank tile\n",
        "\n",
        "    # Calculate the row position of the blank tile from the bottom\n",
        "    row_position = size - (blank_index // size)\n",
        "\n",
        "    return row_position\n",
        ""
      ],
      "metadata": {
        "id": "R4irIxjEXN_L"
      },
      "execution_count": 52,
      "outputs": []
    },
    {
      "cell_type": "code",
      "source": [
        "    get_blank_row(s)"
      ],
      "metadata": {
        "colab": {
          "base_uri": "https://localhost:8080/"
        },
        "id": "-P-RA2vabkJo",
        "outputId": "de9ecdd1-61e3-48fe-f6da-40336d4f4c40"
      },
      "execution_count": 53,
      "outputs": [
        {
          "output_type": "execute_result",
          "data": {
            "text/plain": [
              "4"
            ]
          },
          "metadata": {},
          "execution_count": 53
        }
      ]
    },
    {
      "cell_type": "markdown",
      "metadata": {
        "id": "8bTLG_ZQaf73"
      },
      "source": [
        "# Solvability Rules"
      ]
    },
    {
      "cell_type": "code",
      "execution_count": null,
      "metadata": {
        "id": "0ciw2n-uaf77"
      },
      "outputs": [],
      "source": [
        "# apply the rules to decide solvability\n",
        "#  N, I, R\n",
        "# define a method to return solvability (input S)\n",
        "# return True if solvable or False if not\n",
        "\n",
        "def get_blank_row(s):\n",
        "    size = int(len(s) ** 0.5)  # Assuming the puzzle is a square grid\n",
        "    blank_index = s.index(0)    # Assuming 0 represents the blank tile\n",
        "\n",
        "    # Calculate the row position of the blank tile\n",
        "    row_position = size - (blank_index // size)\n",
        "\n",
        "    return row_position\n",
        "\n",
        "\n",
        "\n",
        "def isSolvable(s):\n",
        "    N = int(len(s)**0.5)\n",
        "    I = count_inversion(s)\n",
        "    R = get_blank_row(s)\n",
        "\n",
        "    if (N % 2 != 0) and (I % 2 == 0):\n",
        "        return True\n",
        "    elif (N % 2 == 0) and (R % 2 != 0) and (I % 2 == 0):\n",
        "        return True\n",
        "    elif (N % 2 == 0) and (R % 2 == 0) and (I % 2 != 0):\n",
        "        return True\n",
        "    else:\n",
        "        return False\n",
        "\n"
      ]
    },
    {
      "cell_type": "code",
      "source": [
        "    S = get_state(4)\n",
        "    isSolvable(S)\n"
      ],
      "metadata": {
        "id": "u2TGpQfNhnP2",
        "colab": {
          "base_uri": "https://localhost:8080/"
        },
        "outputId": "a26c70f2-70aa-4416-97f3-90a27c07435d"
      },
      "execution_count": 64,
      "outputs": [
        {
          "output_type": "stream",
          "name": "stdout",
          "text": [
            "[[ 8  0  2  9]\n",
            " [ 3  1 15  7]\n",
            " [11  5 12  4]\n",
            " [10 14 13  6]]\n"
          ]
        },
        {
          "output_type": "execute_result",
          "data": {
            "text/plain": [
              "True"
            ]
          },
          "metadata": {},
          "execution_count": 64
        }
      ]
    }
  ],
  "metadata": {
    "kernelspec": {
      "display_name": "Python 3",
      "language": "python",
      "name": "python3"
    },
    "language_info": {
      "codemirror_mode": {
        "name": "ipython",
        "version": 3
      },
      "file_extension": ".py",
      "mimetype": "text/x-python",
      "name": "python",
      "nbconvert_exporter": "python",
      "pygments_lexer": "ipython3",
      "version": "3.8.5"
    },
    "colab": {
      "provenance": []
    }
  },
  "nbformat": 4,
  "nbformat_minor": 0
}