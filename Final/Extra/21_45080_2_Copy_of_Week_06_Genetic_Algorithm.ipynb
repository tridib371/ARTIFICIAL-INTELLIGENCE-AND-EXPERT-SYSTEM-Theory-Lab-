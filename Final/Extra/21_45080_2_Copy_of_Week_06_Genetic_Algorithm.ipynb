{
  "cells": [
    {
      "cell_type": "markdown",
      "metadata": {
        "id": "O5x7T2XxRqdv"
      },
      "source": [
        "### Problem: Maximize f(x) = x<sup>2</sup> - 11x + 150 when x = 0 to 255"
      ]
    },
    {
      "cell_type": "markdown",
      "metadata": {
        "id": "ywY6mjLkRqd2"
      },
      "source": [
        "Representation or ecoding solution:\n",
        "x can be represented using 8 bits binary number."
      ]
    },
    {
      "cell_type": "markdown",
      "metadata": {
        "id": "h_AzBq1MRqd3"
      },
      "source": [
        "# Step 1: Initialize Population"
      ]
    },
    {
      "cell_type": "code",
      "execution_count": null,
      "metadata": {
        "_cell_guid": "b1076dfc-b9ad-4769-8c92-a6c4dae69d19",
        "_uuid": "8f2839f25d086af736a60e9eeb907d3b93b6e0e5",
        "id": "1bOfcsluRqd4"
      },
      "outputs": [],
      "source": [
        "import random\n",
        "def initPopulation(b=8, n =10): # n is the number of solutions, b is the length\n",
        "    p = [random.choices([0,1],k = b) for i in range(n)]\n",
        "    return p"
      ]
    },
    {
      "cell_type": "code",
      "source": [
        "[random.choices([0,1],k=5) for i in range(6)]"
      ],
      "metadata": {
        "colab": {
          "base_uri": "https://localhost:8080/"
        },
        "id": "IXuSyo6PDI6G",
        "outputId": "d2d7380b-a695-4315-9bef-571d5b8b3a79"
      },
      "execution_count": null,
      "outputs": [
        {
          "output_type": "execute_result",
          "data": {
            "text/plain": [
              "[[1, 1, 1, 1, 0],\n",
              " [1, 0, 0, 0, 1],\n",
              " [1, 1, 1, 1, 0],\n",
              " [0, 1, 1, 0, 0],\n",
              " [1, 1, 0, 1, 1],\n",
              " [1, 0, 1, 1, 1]]"
            ]
          },
          "metadata": {},
          "execution_count": 47
        }
      ]
    },
    {
      "cell_type": "code",
      "execution_count": null,
      "metadata": {
        "colab": {
          "base_uri": "https://localhost:8080/"
        },
        "id": "xqpElpd6Rqd7",
        "outputId": "0a525c2c-31bd-4c34-84dd-39e736d509e3"
      },
      "outputs": [
        {
          "output_type": "execute_result",
          "data": {
            "text/plain": [
              "[[1, 1, 0, 0, 1],\n",
              " [1, 0, 1, 1, 0],\n",
              " [1, 0, 0, 1, 1],\n",
              " [1, 0, 0, 0, 1],\n",
              " [1, 1, 0, 1, 0],\n",
              " [1, 1, 0, 0, 0]]"
            ]
          },
          "metadata": {},
          "execution_count": 48
        }
      ],
      "source": [
        "initPopulation(5,6)\n"
      ]
    },
    {
      "cell_type": "markdown",
      "metadata": {
        "id": "295Y_a8JRqd8"
      },
      "source": [
        "# Step 2: Reproduction or Parent Selection"
      ]
    },
    {
      "cell_type": "markdown",
      "metadata": {
        "id": "Q-2xm1Y0Rqd9"
      },
      "source": [
        "Fitness Calculation"
      ]
    },
    {
      "cell_type": "code",
      "execution_count": null,
      "metadata": {
        "id": "GeSnMD0hRqd_"
      },
      "outputs": [],
      "source": [
        "def binToDecimal(binList):\n",
        "  decValue = 0 # decimel value\n",
        "  power = len(binList)\n",
        "  for digit in binList: # binary to decimel\n",
        "    decValue += digit*2**(power-1)\n",
        "    power -= 1\n",
        "  return decValue\n",
        "\n",
        "def func(x):\n",
        "  return x**2 - 11*x + 150\n",
        "\n",
        "def getFitness(p): # p is the whole population\n",
        "    f = [] # to store fitness values\n",
        "    for sol in p:\n",
        "        d = binToDecimal(sol)\n",
        "        v = func(d)\n",
        "        if v< 0: f.append(0)\n",
        "        else: f.append(v) # fitness function\n",
        "    return f"
      ]
    },
    {
      "cell_type": "code",
      "source": [
        "binToDecimal([1,0,0,1,0])"
      ],
      "metadata": {
        "colab": {
          "base_uri": "https://localhost:8080/"
        },
        "id": "MOwrOP2vnDIh",
        "outputId": "65f4ff3b-c566-4115-eb3a-fcc572c8b567"
      },
      "execution_count": null,
      "outputs": [
        {
          "output_type": "execute_result",
          "data": {
            "text/plain": [
              "18"
            ]
          },
          "metadata": {},
          "execution_count": 50
        }
      ]
    },
    {
      "cell_type": "code",
      "source": [
        "func(18)"
      ],
      "metadata": {
        "colab": {
          "base_uri": "https://localhost:8080/"
        },
        "id": "0qwDc6M5wW0u",
        "outputId": "c135c523-6211-4bab-8002-375219a50c5a"
      },
      "execution_count": null,
      "outputs": [
        {
          "output_type": "execute_result",
          "data": {
            "text/plain": [
              "276"
            ]
          },
          "metadata": {},
          "execution_count": 51
        }
      ]
    },
    {
      "cell_type": "code",
      "execution_count": null,
      "metadata": {
        "colab": {
          "base_uri": "https://localhost:8080/"
        },
        "id": "bDE-fRdFRqeB",
        "outputId": "8f48c0f0-3bff-47b3-d3a2-dc8d917fed16"
      },
      "outputs": [
        {
          "output_type": "execute_result",
          "data": {
            "text/plain": [
              "[47862, 30920, 26852, 19860, 17676, 10626]"
            ]
          },
          "metadata": {},
          "execution_count": 53
        }
      ],
      "source": [
        "population = initPopulation(8,6)\n",
        "getFitness(population)"
      ]
    },
    {
      "cell_type": "markdown",
      "metadata": {
        "id": "MuyfwGTDRqeC"
      },
      "source": [
        "calculate probability and select parents"
      ]
    },
    {
      "cell_type": "code",
      "execution_count": null,
      "metadata": {
        "id": "lK4uQOsrRqeC"
      },
      "outputs": [],
      "source": [
        "import numpy as np\n",
        "def select_parent(n, pop): # probability, parent selection\n",
        "    # probability\n",
        "    fitness = getFitness(pop)\n",
        "    total_fitness = sum(fitness)\n",
        "    prob = [f/total_fitness for f in fitness]\n",
        "    cumSumProb = np.cumsum(prob)\n",
        "    #print(cumSumProb)\n",
        "    # parent selection\n",
        "    parents = []\n",
        "    for i in range(n):\n",
        "        # roullete wheel, generate a random number\n",
        "        r = random.random()\n",
        "        #print(r)\n",
        "        # check bin number of r\n",
        "        for j in range(len(cumSumProb)):\n",
        "            if r <= cumSumProb[j] :#checking the bin\n",
        "                #print(j)\n",
        "                parents.append(pop[j])\n",
        "                break\n",
        "    return parents"
      ]
    },
    {
      "cell_type": "code",
      "execution_count": null,
      "metadata": {
        "colab": {
          "base_uri": "https://localhost:8080/"
        },
        "id": "3-lCH3ZoRqeD",
        "outputId": "17769426-91eb-411f-85fe-2b740cefb379"
      },
      "outputs": [
        {
          "output_type": "stream",
          "name": "stdout",
          "text": [
            "[1, 1, 0, 1, 0, 0, 0, 0]\n",
            "[0, 0, 1, 1, 0, 0, 1, 1]\n",
            "[0, 0, 1, 1, 1, 1, 1, 0]\n",
            "[1, 1, 1, 1, 1, 1, 0, 1]\n",
            "[1, 0, 0, 1, 0, 1, 1, 0]\n",
            "[0, 0, 1, 1, 1, 1, 1, 1]\n",
            "[0, 0, 1, 1, 0, 0, 1, 0]\n",
            "[0, 0, 0, 0, 0, 0, 0, 1]\n",
            "[1, 1, 0, 0, 0, 1, 1, 0]\n",
            "[1, 0, 0, 1, 0, 1, 0, 0]\n",
            "Parents:\n",
            "[1, 1, 1, 1, 1, 1, 0, 1]\n",
            "[1, 0, 0, 1, 0, 1, 0, 0]\n",
            "[1, 1, 0, 1, 0, 0, 0, 0]\n",
            "[1, 1, 0, 0, 0, 1, 1, 0]\n"
          ]
        }
      ],
      "source": [
        "population = initPopulation(8,10)\n",
        "for p in population:\n",
        "  print(p)\n",
        "print('Parents:')\n",
        "parents = select_parent(4, population)\n",
        "for p in parents:\n",
        "  print(p)"
      ]
    },
    {
      "cell_type": "markdown",
      "metadata": {
        "id": "HTf2wgA_RqeE"
      },
      "source": [
        "# Step 3: Crossover"
      ]
    },
    {
      "cell_type": "code",
      "execution_count": null,
      "metadata": {
        "id": "PwgF2uv6RqeF"
      },
      "outputs": [],
      "source": [
        "# define a method crossover (input is parents set)\n",
        "def cross(p):\n",
        "  num_cross = len(p)//2\n",
        "  # print(num_cross)\n",
        "  offsprings = []\n",
        "  #  for loop to perform crossovers\n",
        "  for i in range(num_cross):\n",
        "   cp = random.choice(range(3,6))\n",
        "   # print(cp)\n",
        "   # perform crossover\n",
        "   x,y = p[i],p[i+1]\n",
        "   # modify the above line as the parents will be different for each crossover\n",
        "   off1 = x[:cp] + y[cp:]\n",
        "   offsprings.append(off1)\n",
        "   off2 = x[cp:] + y[:cp]\n",
        "   offsprings.append(off2)\n",
        "\n",
        "  return offsprings"
      ]
    },
    {
      "cell_type": "code",
      "source": [
        "off = cross(parents)\n",
        "off"
      ],
      "metadata": {
        "colab": {
          "base_uri": "https://localhost:8080/"
        },
        "id": "gNH0V9eRRGHy",
        "outputId": "91357aec-fc60-4a6c-e14d-28df07ddb392"
      },
      "execution_count": null,
      "outputs": [
        {
          "output_type": "execute_result",
          "data": {
            "text/plain": [
              "[[1, 1, 1, 1, 0, 1, 0, 0],\n",
              " [1, 1, 0, 1, 1, 0, 0, 1],\n",
              " [1, 0, 0, 1, 0, 0, 0, 0],\n",
              " [1, 0, 0, 1, 1, 0, 1, 0]]"
            ]
          },
          "metadata": {},
          "execution_count": 57
        }
      ]
    },
    {
      "cell_type": "markdown",
      "source": [
        "# Step 4: Mutation"
      ],
      "metadata": {
        "id": "96AgRoxSVaV2"
      }
    },
    {
      "cell_type": "code",
      "source": [
        "# Perform mutation with 3% probability\n",
        "# def mutate(offsp, pr = 0.03):\n",
        "import random\n",
        "\n",
        "def mutate(offsp, pr=0.03):\n",
        "    mutated_offsp = []\n",
        "\n",
        "    for solution in offsp:\n",
        "        mutated_solution = list(solution)\n",
        "\n",
        "        for i in range(len(mutated_solution)):\n",
        "            if random.random() < pr:\n",
        "                # Flip the bit with the specified probability\n",
        "                mutated_solution[i] = 1 - mutated_solution[i]\n",
        "\n",
        "        mutated_offsp.append(mutated_solution)\n",
        "\n",
        "    return mutated_offsp\n"
      ],
      "metadata": {
        "id": "CDun2Et1VdZe"
      },
      "execution_count": null,
      "outputs": []
    },
    {
      "cell_type": "markdown",
      "metadata": {
        "id": "Zx8t0GLTRqeG"
      },
      "source": [
        "# Step 5: Select Survivor\n",
        "The selected survivors (solutions) will be added to population"
      ]
    },
    {
      "cell_type": "markdown",
      "metadata": {
        "id": "aTh52_9WRqeG"
      },
      "source": [
        "Select top 2 offspring based on fitness value and add them to population."
      ]
    },
    {
      "cell_type": "code",
      "execution_count": null,
      "metadata": {
        "id": "MhgbFzZHRqeH"
      },
      "outputs": [],
      "source": [
        "# define a method to select top offsprings (input offsprings, top)\n",
        "def select_survivor(offsp):\n",
        "  topOffsp = []\n",
        "  f = getFitness(offsp)\n",
        "  mInd = f.index(max(f))\n",
        "  topOffsp.append(offsp[mInd])\n",
        "  f.pop(mInd)\n",
        "  #print(f)\n",
        "  mInd = f.index(max(f))\n",
        "  topOffsp.append(offsp[mInd])\n",
        "  return topOffsp"
      ]
    },
    {
      "cell_type": "code",
      "source": [
        "select_survivor(off)"
      ],
      "metadata": {
        "colab": {
          "base_uri": "https://localhost:8080/"
        },
        "id": "9_-3CouTRm7E",
        "outputId": "c36c44a1-bad3-4c94-e86e-b69567ecb4eb"
      },
      "execution_count": null,
      "outputs": [
        {
          "output_type": "execute_result",
          "data": {
            "text/plain": [
              "[[1, 1, 1, 1, 0, 1, 0, 0], [1, 1, 1, 1, 0, 1, 0, 0]]"
            ]
          },
          "metadata": {},
          "execution_count": 62
        }
      ]
    },
    {
      "cell_type": "code",
      "source": [
        "def best(p):\n",
        "  f = getFitness(p)\n",
        "  mInd = f.index(max(f))\n",
        "  return p[mInd], max(f)"
      ],
      "metadata": {
        "id": "7Gm7ebem3dh1"
      },
      "execution_count": null,
      "outputs": []
    },
    {
      "cell_type": "markdown",
      "source": [
        "# **Complete iteration**"
      ],
      "metadata": {
        "id": "G4tLqF-TRyS5"
      }
    },
    {
      "cell_type": "code",
      "source": [
        "# modify the below code to iterate the process for 3 generations\n",
        "# in each generation show the best solution in population with fitness value\n",
        "population = initPopulation(8,10)\n",
        "print(best(population))\n",
        "parents = select_parent(6, population)\n",
        "offsprings = cross(parents)\n",
        "# call mutation here\n",
        "survivors = select_survivor(offsprings)\n",
        "updatedPopulation = population + survivors\n",
        "updatedPopulation"
      ],
      "metadata": {
        "colab": {
          "base_uri": "https://localhost:8080/"
        },
        "id": "fIOX062HPMSc",
        "outputId": "184b1871-a29a-415f-82bf-2b79331f4381"
      },
      "execution_count": null,
      "outputs": [
        {
          "output_type": "stream",
          "name": "stdout",
          "text": [
            "([1, 1, 0, 1, 1, 1, 0, 0], 46130)\n"
          ]
        },
        {
          "output_type": "execute_result",
          "data": {
            "text/plain": [
              "[[1, 0, 1, 1, 0, 0, 0, 1],\n",
              " [0, 1, 0, 1, 0, 1, 0, 0],\n",
              " [1, 1, 0, 1, 1, 1, 0, 0],\n",
              " [0, 1, 1, 0, 0, 0, 1, 0],\n",
              " [1, 0, 1, 0, 1, 1, 1, 1],\n",
              " [0, 1, 1, 1, 0, 1, 0, 0],\n",
              " [0, 1, 1, 1, 0, 0, 1, 1],\n",
              " [1, 0, 0, 0, 0, 1, 1, 0],\n",
              " [0, 1, 0, 0, 0, 0, 0, 0],\n",
              " [0, 1, 1, 1, 1, 1, 1, 0],\n",
              " [1, 1, 1, 1, 0, 1, 1, 1],\n",
              " [1, 0, 1, 0, 0, 0, 1, 1]]"
            ]
          },
          "metadata": {},
          "execution_count": 64
        }
      ]
    }
  ],
  "metadata": {
    "kernelspec": {
      "display_name": "Python 3",
      "language": "python",
      "name": "python3"
    },
    "language_info": {
      "codemirror_mode": {
        "name": "ipython",
        "version": 3
      },
      "file_extension": ".py",
      "mimetype": "text/x-python",
      "name": "python",
      "nbconvert_exporter": "python",
      "pygments_lexer": "ipython3",
      "version": "3.8.5"
    },
    "colab": {
      "provenance": []
    }
  },
  "nbformat": 4,
  "nbformat_minor": 0
}