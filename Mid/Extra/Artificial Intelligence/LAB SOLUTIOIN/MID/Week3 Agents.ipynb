{
 "cells": [
  {
   "cell_type": "markdown",
   "metadata": {},
   "source": [
    "# Table driven agent"
   ]
  },
  {
   "cell_type": "markdown",
   "metadata": {},
   "source": [
    "Agent and Environment with locations A and B"
   ]
  },
  {
   "cell_type": "code",
   "execution_count": 1,
   "metadata": {},
   "outputs": [
    {
     "name": "stdout",
     "output_type": "stream",
     "text": [
      "Perception Received: ('B', 'good')\n",
      "Action Performed: Left\n",
      "Get Perception (yes/no): yes\n",
      "Perception Received: ('A', 'good')\n",
      "Action Performed: Right\n",
      "Get Perception (yes/no): yes\n",
      "Perception Received: ('B', 'bad')\n",
      "Action Performed: uncomfortable\n",
      "Get Perception (yes/no): no\n"
     ]
    }
   ],
   "source": [
    "# how many sensors? Ans: 2 (Location and, Condition)\n",
    "# Location -> A or B\n",
    "# Condition -> good or bad\n",
    "# how many different perecept sequences? Ans: 4 (A,good) (A,bad) \n",
    "# ... (B,good) (B,bad)\n",
    "# how many actions and what are the actions? 3 (Right, Left, and uncomfortable)\n",
    "# AGENT FUNCTION: map the percept sequences to actions\n",
    "\n",
    "table={('A','good'):'Right',\n",
    "       ('A','bad'):'uncomfortable',\n",
    "       ('B','good'):'Left',\n",
    "       ('B','bad'):'uncomfortable'}\n",
    "\n",
    "percepts=[]  # to store percet sequence  \n",
    "def table_driven_agent(percept):\n",
    "    print('Perception Received: '+ str(percept))\n",
    "    percepts.append(percept) # updating percept history\n",
    "    action = lookup(percept,table) # searching for action\n",
    "    return action\n",
    "\n",
    "def lookup(percept,table):\n",
    "    #for key in table:\n",
    "    #    if key == percept:\n",
    "    #        return table[key]\n",
    "    return table[percept]\n",
    "\n",
    "# lets simulate the agent\n",
    "import random\n",
    "Location = random.choice(['A','B'])\n",
    "Condition = random.choice(['good','bad'])\n",
    "\n",
    "while True: # to perceieve environment repeatedly\n",
    "    action = table_driven_agent((Location, Condition))\n",
    "    print('Action Performed: '+ action)\n",
    "    cmd = input('Get Perception (yes/no): ')\n",
    "    if(cmd == 'no' or cmd != 'yes'): break\n",
    "    if action == 'Right':\n",
    "        Location = 'B'\n",
    "        Condition = random.choice(['good','bad'])\n",
    "    elif action == 'Left':\n",
    "        Location = 'A'\n",
    "        Condition = random.choice(['good','bad'])\n",
    "    else:\n",
    "        Condition = ''   "
   ]
  },
  {
   "cell_type": "markdown",
   "metadata": {},
   "source": [
    "# Simple reflex agent"
   ]
  },
  {
   "cell_type": "code",
   "execution_count": 2,
   "metadata": {},
   "outputs": [
    {
     "name": "stdout",
     "output_type": "stream",
     "text": [
      "Perception Received: ('B', 'bad')\n",
      "Action Performed: uncomfortable\n",
      "Get Perception (yes/no): yes\n",
      "Perception Received: ('B', 'good')\n",
      "Action Performed: Left\n",
      "Get Perception (yes/no): yes\n",
      "Perception Received: ('A', 'bad')\n",
      "Action Performed: uncomfortable\n",
      "Get Perception (yes/no): no\n"
     ]
    }
   ],
   "source": [
    "def simple_reflex_agent(percept):\n",
    "    print('Perception Received: '+ str(percept))\n",
    "    location = percept[0]\n",
    "    status = percept[1]\n",
    "    if status =='bad':\n",
    "        action = 'uncomfortable'\n",
    "    elif location == 'A':\n",
    "        action = 'Right'\n",
    "    elif location =='B':\n",
    "        action = 'Left'\n",
    "    return action\n",
    "\n",
    "import random\n",
    "Location = random.choice(['A','B'])\n",
    "Condition = random.choice(['good','bad'])\n",
    "\n",
    "while True:\n",
    "    action= simple_reflex_agent((Location,Condition))\n",
    "    print('Action Performed: '+ action)\n",
    "    cmd = input('Get Perception (yes/no): ')\n",
    "    if(cmd == 'no' or cmd != 'yes'): break\n",
    "    if action == 'Right':\n",
    "        Location = 'B'\n",
    "        Condition = random.choice(['good','bad'])\n",
    "    elif action== 'Left':\n",
    "        Location = 'A'\n",
    "        Condition = random.choice(['good','bad'])\n",
    "    else:\n",
    "        Condition = 'good'\n",
    "\n",
    "    "
   ]
  },
  {
   "cell_type": "markdown",
   "metadata": {},
   "source": [
    "# Model based agent"
   ]
  },
  {
   "cell_type": "code",
   "execution_count": 1,
   "metadata": {},
   "outputs": [
    {
     "name": "stdout",
     "output_type": "stream",
     "text": [
      "*****\n",
      "Perception: ('B', 'bad')\n",
      "Action Performed: uncomfortable\n",
      "Model: {'A': 'Unknown', 'B': 'bad'}\n",
      "State: Bad\n",
      "*****\n",
      "Perception: ('B', 'good')\n",
      "Action Performed: Left\n",
      "Model: {'A': 'Unknown', 'B': 'good'}\n",
      "State: Bad\n",
      "*****\n",
      "Perception: ('A', 'bad')\n",
      "Action Performed: uncomfortable\n",
      "Model: {'A': 'bad', 'B': 'good'}\n",
      "State: Bad\n",
      "*****\n",
      "Perception: ('A', 'good')\n",
      "Action Performed: Right\n",
      "Model: {'A': 'good', 'B': 'good'}\n",
      "State: Good\n",
      "*****\n",
      "Stopped. Do restart? (yes/no): yes\n",
      "*****\n",
      "Perception: ('A', 'bad')\n",
      "Action Performed: uncomfortable\n",
      "Model: {'A': 'bad', 'B': 'Unknown'}\n",
      "State: Bad\n",
      "*****\n",
      "Perception: ('A', 'good')\n",
      "Action Performed: Right\n",
      "Model: {'A': 'good', 'B': 'Unknown'}\n",
      "State: Bad\n",
      "*****\n",
      "Perception: ('B', 'good')\n",
      "Action Performed: Left\n",
      "Model: {'A': 'good', 'B': 'good'}\n",
      "State: Good\n",
      "*****\n",
      "Stopped. Do restart? (yes/no): no\n"
     ]
    }
   ],
   "source": [
    "model = {'A':'Unknown', 'B':'Unknown'}\n",
    "world_state = 'Bad'\n",
    "action = 'Unknown'\n",
    "\n",
    "def update_state(action, percept, model):\n",
    "    location = percept[0]\n",
    "    status = percept[1]\n",
    "    model[location] = status #udate the model based on current perception\n",
    "    \n",
    "    global world_state\n",
    "    if action == 'uncomfortable':\n",
    "        model[location]='bad'\n",
    "    if model['A']=='good' and model['B']=='good': # model checking\n",
    "        world_state = 'Good'\n",
    "    else:\n",
    "        world_state = 'Bad'\n",
    "    return world_state\n",
    "        \n",
    "\n",
    "def model_based_reflex_agent(percept):\n",
    "    location = percept[0]\n",
    "    status = percept[1]\n",
    "    \n",
    "    global world_state,action,model\n",
    "    \n",
    "    if world_state == 'Good':\n",
    "        action = 'Pause'\n",
    "        return action\n",
    "    elif status == 'bad':\n",
    "        action = 'uncomfortable'\n",
    "    elif location == 'A':\n",
    "        action = 'Right'\n",
    "    elif location == 'B':\n",
    "        action = 'Left'\n",
    "    world_state = update_state(action, percept, model)\n",
    "    print('Perception: '+str(percept)) \n",
    "    print('Action Performed: '+ action)    \n",
    "    print('Model: '+str(model))   \n",
    "    print('State: '+str(world_state))    \n",
    "    return action\n",
    "\n",
    "\n",
    "import random\n",
    "Location = random.choice(['A','B'])\n",
    "Condition= random.choice(['good','bad'])\n",
    "\n",
    "while True:\n",
    "    print('*****')\n",
    "    action = model_based_reflex_agent((Location,Condition))\n",
    "    if action == 'Right':\n",
    "        Location = 'B'\n",
    "        Condition = random.choice(['good','bad'])\n",
    "    elif action == 'Left':\n",
    "        Location = 'A'\n",
    "        Condition = random.choice(['good','bad'])\n",
    "    elif action == 'uncomfortable':\n",
    "        Condition = 'good'\n",
    "    elif action == 'Pause':\n",
    "        cmd = input('Stopped. Do restart? (yes/no): ')\n",
    "        if(cmd == 'no' or cmd != 'yes'): break\n",
    "        Location = random.choice(['A','B'])\n",
    "        Condition = random.choice(['good','bad'])\n",
    "        model = {'A':'Unknown', 'B':'Unknown'}\n",
    "        world_state = 'Bad'\n",
    "        action = 'Unknown'\n",
    "        \n",
    "\n",
    "    "
   ]
  },
  {
   "cell_type": "markdown",
   "metadata": {},
   "source": [
    "## Task"
   ]
  },
  {
   "cell_type": "markdown",
   "metadata": {},
   "source": [
    "Implement diffierent types of agent implementation to do certain task of your choice. \n",
    "1. Table Driven Agent\n",
    "2. Simple Reflex Agent\n",
    "3. Model Based Agent"
   ]
  },
  {
   "cell_type": "markdown",
   "metadata": {},
   "source": [
    "PEAS desription\n",
    "\n",
    "Agent Description:\n",
    "The aim of the agent .....\n",
    "\n",
    "List the actions:\n",
    "List the sensors:\n",
    "Agent function: perception --> action"
   ]
  },
  {
   "cell_type": "code",
   "execution_count": null,
   "metadata": {},
   "outputs": [],
   "source": []
  }
 ],
 "metadata": {
  "kernelspec": {
   "display_name": "Python 3",
   "language": "python",
   "name": "python3"
  },
  "language_info": {
   "codemirror_mode": {
    "name": "ipython",
    "version": 3
   },
   "file_extension": ".py",
   "mimetype": "text/x-python",
   "name": "python",
   "nbconvert_exporter": "python",
   "pygments_lexer": "ipython3",
   "version": "3.8.8"
  }
 },
 "nbformat": 4,
 "nbformat_minor": 4
}
