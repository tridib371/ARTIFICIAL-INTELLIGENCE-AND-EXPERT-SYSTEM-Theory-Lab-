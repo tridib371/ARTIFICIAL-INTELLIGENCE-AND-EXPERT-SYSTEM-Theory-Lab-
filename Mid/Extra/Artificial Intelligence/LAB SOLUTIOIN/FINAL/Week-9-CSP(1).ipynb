{
 "cells": [
  {
   "cell_type": "code",
   "execution_count": 3,
   "metadata": {},
   "outputs": [],
   "source": [
    "# Define a new cgraph\n",
    "cgraph = {'WA': ['SA', 'NT'], \n",
    "          'Q': ['SA', 'NT', 'NSW'], \n",
    "          'T': [],\n",
    "          'V': ['SA', 'NSW'], \n",
    "          'SA': ['WA', 'NT', 'Q', 'NSW','V'], \n",
    "          'NT': ['Q', 'WA', 'SA'], \n",
    "          'NSW': ['Q', 'V', 'SA']}\n",
    "okColor={}\n",
    "colorstochooselist={'WA': ['red','green', 'blue'], \n",
    "                    'Q': ['red','green', 'blue'],\n",
    "                    'T': ['red', 'green', 'blue'],\n",
    "                    'V':  ['red','green', 'blue'], \n",
    "                    'NT': ['red','green', 'blue'],\n",
    "                    'SA': ['red','green', 'blue'],                    \n",
    "                    'NSW': ['red','green', 'blue']}"
   ]
  },
  {
   "cell_type": "code",
   "execution_count": 4,
   "metadata": {},
   "outputs": [],
   "source": [
    "import random\n",
    "def get_color(node):\n",
    "    #node=hdNode\n",
    "    print('get_color node:',node)\n",
    "    #print ('node length: ',len(node))\n",
    "    # check colorstochooselist[node] is empty or not\n",
    "    # return 'no color'\n",
    "    #print(bool(colorstochooselist))\n",
    "    #print('Colour count of ctcl[n]:',len(colorstochooselist[node]))\n",
    "    print('Has node in keys?:',node in colorstochooselist)\n",
    "    if (len(node)!=0 and node in colorstochooselist):\n",
    "        if (len(colorstochooselist[node])!=0):\n",
    "            color = random.choice(colorstochooselist[node])\n",
    "            colorstochooselist.pop(node)\n",
    "            # update color options\n",
    "            adjList = cgraph[node]\n",
    "            for adj in adjList:\n",
    "                if(adj in colorstochooselist.keys()):\n",
    "                    colorstochooselist[adj].remove(color)\n",
    "            #print(adjList)\n",
    "            return color\n",
    "        else :\n",
    "            print ('No Color')\n",
    "            return 0\n",
    "    else :\n",
    "            print ('No Color')\n",
    "            return 0"
   ]
  },
  {
   "cell_type": "markdown",
   "metadata": {},
   "source": [
    "## Highest Degree Node"
   ]
  },
  {
   "cell_type": "code",
   "execution_count": 5,
   "metadata": {},
   "outputs": [
    {
     "data": {
      "text/plain": [
       "'SA'"
      ]
     },
     "execution_count": 5,
     "metadata": {},
     "output_type": "execute_result"
    }
   ],
   "source": [
    "# write a method to get the highest degree node\n",
    "\n",
    "def get_node_hd():\n",
    "    mnode = ''\n",
    "    length = -1 #value changed to -1 from 0 because T has length 0 at the first place \n",
    "    #print('cgraph: ',cgraph)\n",
    "    #print('okColor: ',okColor)\n",
    "    for k in cgraph.keys():\n",
    "        if(len(cgraph[k])>length and k not in okColor.keys()):\n",
    "            length = len(cgraph[k])\n",
    "            mnode = k\n",
    "    return mnode\n",
    "get_node_hd()"
   ]
  },
  {
   "cell_type": "markdown",
   "metadata": {},
   "source": [
    "Color the nodes using Highest degree heuristic"
   ]
  },
  {
   "cell_type": "code",
   "execution_count": 27,
   "metadata": {},
   "outputs": [
    {
     "name": "stdout",
     "output_type": "stream",
     "text": [
      "get_color node: \n",
      "Has node in keys?: False\n",
      "No Color\n",
      "failure\n",
      "Choice list:  {}\n",
      "Ok colours:  {'SA': 'red', 'Q': 'green', 'NT': 'blue', 'NSW': 'red', 'WA': 'green', 'V': 'red', 'T': 'blue', '': 0}\n",
      "{'WA': ['R', 'G', 'B'], 'Q': ['R', 'G', 'B'], 'T': ['R', 'G', 'B'], 'V': ['R', 'G', 'B'], 'NT': ['R', 'G', 'B'], 'SA': ['R', 'G', 'B'], 'NSW': ['Q', 'V', 'SA']}\n",
      "{}\n",
      "get_color node: \n",
      "Has node in keys?: False\n",
      "No Color\n",
      "failure\n",
      "Choice list:  {}\n",
      "Ok colours:  {'SA': 'red', 'Q': 'green', 'NT': 'blue', 'NSW': 'red', 'WA': 'green', 'V': 'red', 'T': 'blue', '': 0}\n",
      "{'WA': ['R', 'G', 'B'], 'Q': ['R', 'G', 'B'], 'T': ['R', 'G', 'B'], 'V': ['R', 'G', 'B'], 'NT': ['R', 'G', 'B'], 'SA': ['R', 'G', 'B'], 'NSW': ['Q', 'V', 'SA']}\n",
      "{}\n",
      "get_color node: \n",
      "Has node in keys?: False\n",
      "No Color\n",
      "failure\n",
      "Choice list:  {}\n",
      "Ok colours:  {'SA': 'red', 'Q': 'green', 'NT': 'blue', 'NSW': 'red', 'WA': 'green', 'V': 'red', 'T': 'blue', '': 0}\n",
      "{'WA': ['R', 'G', 'B'], 'Q': ['R', 'G', 'B'], 'T': ['R', 'G', 'B'], 'V': ['R', 'G', 'B'], 'NT': ['R', 'G', 'B'], 'SA': ['R', 'G', 'B'], 'NSW': ['Q', 'V', 'SA']}\n",
      "{}\n",
      "get_color node: \n",
      "Has node in keys?: False\n",
      "No Color\n",
      "failure\n",
      "Choice list:  {}\n",
      "Ok colours:  {'SA': 'red', 'Q': 'green', 'NT': 'blue', 'NSW': 'red', 'WA': 'green', 'V': 'red', 'T': 'blue', '': 0}\n",
      "{'WA': ['R', 'G', 'B'], 'Q': ['R', 'G', 'B'], 'T': ['R', 'G', 'B'], 'V': ['R', 'G', 'B'], 'NT': ['R', 'G', 'B'], 'SA': ['R', 'G', 'B'], 'NSW': ['Q', 'V', 'SA']}\n",
      "{}\n",
      "get_color node: \n",
      "Has node in keys?: False\n",
      "No Color\n",
      "failure\n",
      "Choice list:  {}\n",
      "Ok colours:  {'SA': 'red', 'Q': 'green', 'NT': 'blue', 'NSW': 'red', 'WA': 'green', 'V': 'red', 'T': 'blue', '': 0}\n",
      "{'WA': ['R', 'G', 'B'], 'Q': ['R', 'G', 'B'], 'T': ['R', 'G', 'B'], 'V': ['R', 'G', 'B'], 'NT': ['R', 'G', 'B'], 'SA': ['R', 'G', 'B'], 'NSW': ['Q', 'V', 'SA']}\n",
      "{}\n",
      "get_color node: \n",
      "Has node in keys?: False\n",
      "No Color\n",
      "failure\n",
      "Choice list:  {}\n",
      "Ok colours:  {'SA': 'red', 'Q': 'green', 'NT': 'blue', 'NSW': 'red', 'WA': 'green', 'V': 'red', 'T': 'blue', '': 0}\n",
      "{'WA': ['R', 'G', 'B'], 'Q': ['R', 'G', 'B'], 'T': ['R', 'G', 'B'], 'V': ['R', 'G', 'B'], 'NT': ['R', 'G', 'B'], 'SA': ['R', 'G', 'B'], 'NSW': ['Q', 'V', 'SA']}\n",
      "{}\n",
      "get_color node: \n",
      "Has node in keys?: False\n",
      "No Color\n",
      "failure\n",
      "Choice list:  {}\n",
      "Ok colours:  {'SA': 'red', 'Q': 'green', 'NT': 'blue', 'NSW': 'red', 'WA': 'green', 'V': 'red', 'T': 'blue', '': 0}\n",
      "{'WA': ['R', 'G', 'B'], 'Q': ['R', 'G', 'B'], 'T': ['R', 'G', 'B'], 'V': ['R', 'G', 'B'], 'NT': ['R', 'G', 'B'], 'SA': ['R', 'G', 'B'], 'NSW': ['Q', 'V', 'SA']}\n",
      "{}\n"
     ]
    }
   ],
   "source": [
    "assigned = {} # store assignes variables with colors\n",
    "remainingValues = {'WA': ['R','G','B'], \n",
    "                    'Q': ['R','G','B'],\n",
    "                    'T': ['R','G','B'],\n",
    "                    'V':  ['R','G','B'], \n",
    "                    'NT': ['R','G','B'],\n",
    "                    'SA': ['R','G','B'],                    \n",
    "                    'NSW': ['Q', 'V', 'SA']}\n",
    "\n",
    "for i in range(len(cgraph)):\n",
    "    # assign color to the highest degree node\n",
    "    hdNode = get_node_hd()\n",
    "    okColor[hdNode]= get_color(hdNode)\n",
    "    print('failure')\n",
    "    print('Choice list: ',colorstochooselist)\n",
    "    print('Ok colours: ',okColor)\n",
    "    # CODE\n",
    "    # check if 'no color' is returned\n",
    "    # print failure\n",
    "    \n",
    "\n",
    "    #assigned[hdNode]= color\n",
    "    print(remainingValues)\n",
    "    print(assigned)"
   ]
  },
  {
   "cell_type": "markdown",
   "metadata": {},
   "source": [
    "## Minimum Remaining Value"
   ]
  },
  {
   "cell_type": "code",
   "execution_count": 7,
   "metadata": {},
   "outputs": [
    {
     "data": {
      "text/plain": [
       "'WA'"
      ]
     },
     "execution_count": 7,
     "metadata": {},
     "output_type": "execute_result"
    }
   ],
   "source": [
    "# define a method to select a node by MRV\n",
    "def get_node_MRV():\n",
    "    #implement the logic list\n",
    "    l=7\n",
    "    #print(l)\n",
    "    mnode = ''\n",
    "    for k in colorstochooselist.keys():\n",
    "        if ( len(colorstochooselist[k]) < l ):\n",
    "            l = len(colorstochooselist[k])\n",
    "            mnode = k\n",
    "    #print(colorstochooselist[mnode])\n",
    "    return mnode\n",
    "get_node_MRV()"
   ]
  },
  {
   "cell_type": "markdown",
   "metadata": {},
   "source": [
    "Color the nodes using MRV heuristic"
   ]
  },
  {
   "cell_type": "code",
   "execution_count": 8,
   "metadata": {},
   "outputs": [
    {
     "name": "stdout",
     "output_type": "stream",
     "text": [
      "7\n",
      "get_color node: WA\n",
      "Has node in keys?: True\n",
      "Choose color list:  {'Q': ['red', 'green', 'blue'], 'T': ['red', 'green', 'blue'], 'V': ['red', 'green', 'blue'], 'NT': ['green', 'blue'], 'SA': ['green', 'blue'], 'NSW': ['red', 'green', 'blue']}\n",
      "Ok color:  {'SA': 'red'}\n",
      "get_color node: NT\n",
      "Has node in keys?: True\n",
      "Choose color list:  {'Q': ['red', 'blue'], 'T': ['red', 'green', 'blue'], 'V': ['red', 'green', 'blue'], 'SA': ['blue'], 'NSW': ['red', 'green', 'blue']}\n",
      "Ok color:  {'SA': 'red', 'Q': 'green'}\n",
      "get_color node: SA\n",
      "Has node in keys?: True\n",
      "Choose color list:  {'Q': ['red'], 'T': ['red', 'green', 'blue'], 'V': ['red', 'green'], 'NSW': ['red', 'green']}\n",
      "Ok color:  {'SA': 'red', 'Q': 'green', 'NT': 'blue'}\n",
      "get_color node: Q\n",
      "Has node in keys?: True\n",
      "Choose color list:  {'T': ['red', 'green', 'blue'], 'V': ['red', 'green'], 'NSW': ['green']}\n",
      "Ok color:  {'SA': 'red', 'Q': 'green', 'NT': 'blue', 'NSW': 'red'}\n",
      "get_color node: NSW\n",
      "Has node in keys?: True\n",
      "Choose color list:  {'T': ['red', 'green', 'blue'], 'V': ['red']}\n",
      "Ok color:  {'SA': 'red', 'Q': 'green', 'NT': 'blue', 'NSW': 'red', 'WA': 'green'}\n",
      "get_color node: V\n",
      "Has node in keys?: True\n",
      "Choose color list:  {'T': ['red', 'green', 'blue']}\n",
      "Ok color:  {'SA': 'red', 'Q': 'green', 'NT': 'blue', 'NSW': 'red', 'WA': 'green', 'V': 'red'}\n",
      "get_color node: T\n",
      "Has node in keys?: True\n",
      "Choose color list:  {}\n",
      "Ok color:  {'SA': 'red', 'Q': 'green', 'NT': 'blue', 'NSW': 'red', 'WA': 'green', 'V': 'red', 'T': 'blue'}\n"
     ]
    }
   ],
   "source": [
    "L = len(colorstochooselist)\n",
    "print (L)\n",
    "for i in range (0,L):\n",
    "    # assign color to the Minimum Remaining Value\n",
    "    mrvNode = get_node_MRV()\n",
    "    selected_color = get_color(mrvNode)\n",
    "    # if no color returned then print failure\n",
    "    if (selected_color!=0):\n",
    "        hdNode = get_node_hd()  #there was no calling of get_node_hd() for inserting value in \"hdNode\" variable\n",
    "        okColor[hdNode]= selected_color\n",
    "        print('Choose color list: ',colorstochooselist)\n",
    "        print('Ok color: ',okColor)\n",
    "    else:\n",
    "        print ('Print failure!')"
   ]
  }
 ],
 "metadata": {
  "kernelspec": {
   "display_name": "Python 3",
   "language": "python",
   "name": "python3"
  },
  "language_info": {
   "codemirror_mode": {
    "name": "ipython",
    "version": 3
   },
   "file_extension": ".py",
   "mimetype": "text/x-python",
   "name": "python",
   "nbconvert_exporter": "python",
   "pygments_lexer": "ipython3",
   "version": "3.8.8"
  }
 },
 "nbformat": 4,
 "nbformat_minor": 4
}
