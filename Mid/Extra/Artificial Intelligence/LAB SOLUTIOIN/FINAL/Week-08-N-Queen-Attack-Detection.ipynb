{
 "cells": [
  {
   "cell_type": "markdown",
   "metadata": {},
   "source": [
    "# N Queen Attack Detection"
   ]
  },
  {
   "cell_type": "code",
   "execution_count": 8,
   "metadata": {},
   "outputs": [
    {
     "name": "stdout",
     "output_type": "stream",
     "text": [
      "Q1: 8,5\n",
      "Q2: 5,7\n",
      "Q3: 5,3\n",
      "Q4: 4,2\n",
      "Q5: 2,5\n",
      "Q6: 6,5\n",
      "Q7: 5,5\n",
      "Q8: 1,1\n",
      "[8, 5, 5, 4, 2, 6, 5, 1]\n",
      "[5, 7, 3, 2, 5, 5, 5, 1]\n"
     ]
    }
   ],
   "source": [
    "import random\n",
    "N = 8\n",
    "r = []\n",
    "c = []\n",
    "for i in range(1, N+1):\n",
    "    r.append(random.choice(range(1, N+1)))\n",
    "    c.append(random.choice(range(1, N+1)))\n",
    "    #check repetition of position\n",
    "    print('Q{}: {},{}'.format(i,r[-1],c[-1]))\n",
    "print(r)\n",
    "print(c)"
   ]
  },
  {
   "cell_type": "code",
   "execution_count": 9,
   "metadata": {},
   "outputs": [
    {
     "name": "stdout",
     "output_type": "stream",
     "text": [
      "row attack: row:5 column:7 and 3\n",
      "row attack: row:5 column:7 and 5\n",
      "row attack: row:5 column:3 and 5\n"
     ]
    }
   ],
   "source": [
    "# row attack\n",
    "for i in range(0,N):\n",
    "    for j in range(i+1,N):\n",
    "        if(r[i] == r[j]):\n",
    "            print('row attack: row:{} column:{} and {}'.format(r[i],c[i],c[j]))      "
   ]
  },
  {
   "cell_type": "code",
   "execution_count": 10,
   "metadata": {},
   "outputs": [
    {
     "name": "stdout",
     "output_type": "stream",
     "text": [
      "column attack: column:8 row:5 and 5\n",
      "column attack: column:8 row:5 and 5\n",
      "column attack: column:8 row:5 and 5\n",
      "column attack: column:2 row:5 and 5\n",
      "column attack: column:2 row:5 and 5\n",
      "column attack: column:6 row:5 and 5\n"
     ]
    }
   ],
   "source": [
    "#column attack\n",
    "for i in range(0,N):\n",
    "    for j in range(i+1,N):\n",
    "        if(c[i] == c[j]):\n",
    "            print('column attack: column:{} row:{} and {}'.format(r[i],c[i],c[j])) "
   ]
  },
  {
   "cell_type": "code",
   "execution_count": 11,
   "metadata": {},
   "outputs": [
    {
     "name": "stdout",
     "output_type": "stream",
     "text": [
      "diagonal attack: diagonal:5 row:7 and coloumn7\n",
      "diagonal attack: diagonal:5 row:7 and coloumn7\n",
      "diagonal attack: diagonal:5 row:3 and coloumn3\n"
     ]
    }
   ],
   "source": [
    "# diagonal atack\n",
    "import random\n",
    "for i in range(0,N):\n",
    "    for j in range(i+1,N):\n",
    "        if(r[i] == r[j]):\n",
    "            print('diagonal attack: diagonal:{} row:{} and coloumn{}'.format(r[i],c[i],c[i]))      \n",
    "    \n"
   ]
  },
  {
   "cell_type": "code",
   "execution_count": null,
   "metadata": {},
   "outputs": [],
   "source": [
    "# implement a method to print a state is valid or not\n",
    "# input r and c (two lists)\n",
    "\n"
   ]
  }
 ],
 "metadata": {
  "kernelspec": {
   "display_name": "Python 3",
   "language": "python",
   "name": "python3"
  },
  "language_info": {
   "codemirror_mode": {
    "name": "ipython",
    "version": 3
   },
   "file_extension": ".py",
   "mimetype": "text/x-python",
   "name": "python",
   "nbconvert_exporter": "python",
   "pygments_lexer": "ipython3",
   "version": "3.8.8"
  }
 },
 "nbformat": 4,
 "nbformat_minor": 4
}
