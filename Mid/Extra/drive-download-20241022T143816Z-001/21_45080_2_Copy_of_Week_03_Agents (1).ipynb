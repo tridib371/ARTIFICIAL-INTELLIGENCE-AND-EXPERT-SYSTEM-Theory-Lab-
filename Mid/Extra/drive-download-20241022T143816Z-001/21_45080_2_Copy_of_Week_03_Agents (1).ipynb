{
  "cells": [
    {
      "cell_type": "markdown",
      "metadata": {
        "id": "reej2tDWSyeX"
      },
      "source": [
        "Vaccum Cleaning Agent with locations A and B"
      ]
    },
    {
      "cell_type": "markdown",
      "metadata": {
        "id": "OmRycx4GSyeY"
      },
      "source": [
        "![vc.png](attachment:vc.png)"
      ]
    },
    {
      "cell_type": "markdown",
      "source": [
        "# Some important things:\n",
        "\n",
        "1. Agent Description: The aim of the agent .....\n",
        "2. List the sensors: Location, Status\n",
        "3. Sensors' values:\n",
        ">Location -> {A, B}, Status -> {Dirty, Clean}\n",
        "4. List the actions: Suck, Right, Left\n",
        "5. Agent function: **perception --> action**\n",
        "> [A, Clean] --> Right <br>\n",
        "> [A, Dirty] --> Suck<br>\n",
        "> [B, Clean] --> Left<br>\n",
        "> [B, Dirty] --> Suck<br>\n",
        "\n"
      ],
      "metadata": {
        "id": "JB_wyml9WUg4"
      }
    },
    {
      "cell_type": "markdown",
      "metadata": {
        "id": "jKEeqHbzSyeQ"
      },
      "source": [
        "# Table driven agent"
      ]
    },
    {
      "cell_type": "code",
      "source": [
        "table={('A','Clean'):'Right',\n",
        "       ('A','Dirty'):'Suck',\n",
        "       ('B','Clean'):'Left',\n",
        "       ('B','Dirty'):'Suck'}"
      ],
      "metadata": {
        "id": "sdVAkIfVfPLl"
      },
      "execution_count": null,
      "outputs": []
    },
    {
      "cell_type": "code",
      "source": [
        "percepts=[]  # to store percept sequence\n",
        "def table_driven_agent(percept):\n",
        "    print('Perception Received: '+ str(percept))\n",
        "    percepts.append(percept) # updating percept history\n",
        "    action = lookup(percept,table) # searching for action\n",
        "    return action\n",
        "\n",
        "def lookup(p,t):\n",
        "    return t[p]"
      ],
      "metadata": {
        "id": "-66u3QD8fbIj"
      },
      "execution_count": null,
      "outputs": []
    },
    {
      "cell_type": "code",
      "execution_count": null,
      "metadata": {
        "id": "oYvL-4cuSyeZ",
        "outputId": "094562c2-ff2d-4ec2-a09d-bbf48ace95f9",
        "colab": {
          "base_uri": "https://localhost:8080/"
        }
      },
      "outputs": [
        {
          "name": "stdout",
          "output_type": "stream",
          "text": [
            "Perception Received: ('B', 'Clean')\n",
            "Action Performed: Left\n",
            "Get Perception (yes/no): yes\n",
            "Perception Received: ('A', 'Dirty')\n",
            "Action Performed: Suck\n",
            "Get Perception (yes/no): yes\n",
            "Perception Received: ('A', 'Clean')\n",
            "Action Performed: Right\n",
            "Get Perception (yes/no): yes\n",
            "Perception Received: ('B', 'Dirty')\n",
            "Action Performed: Suck\n",
            "Get Perception (yes/no): yes\n",
            "Perception Received: ('B', 'Clean')\n",
            "Action Performed: Left\n",
            "Get Perception (yes/no): no\n"
          ]
        }
      ],
      "source": [
        "# lets simulate the agent\n",
        "import random\n",
        "Location = random.choice(['A','B'])\n",
        "Condition = random.choice(['Clean','Dirty'])\n",
        "\n",
        "while True: # to perceieve environment repeatedly\n",
        "    action = table_driven_agent((Location, Condition))\n",
        "    print('Action Performed: '+ action)\n",
        "    cmd = input('Get Perception (yes/no): ')\n",
        "    if(cmd != 'yes'): break\n",
        "    if action == 'Right':\n",
        "        Location = 'B'\n",
        "        Condition = random.choice(['Clean','Dirty'])\n",
        "    elif action == 'Left':\n",
        "        Location = 'A'\n",
        "        Condition = random.choice(['Clean','Dirty'])\n",
        "    else:\n",
        "        Condition = 'Clean'"
      ]
    },
    {
      "cell_type": "markdown",
      "metadata": {
        "id": "yfOFRdsmSyec"
      },
      "source": [
        "# Simple reflex agent"
      ]
    },
    {
      "cell_type": "code",
      "source": [
        "def simple_reflex_agent(percept):\n",
        "    print('Perception Received: '+ str(percept))\n",
        "    location = percept[0]\n",
        "    status = percept[1]\n",
        "    if status =='Dirty':\n",
        "        action = 'Suck'\n",
        "    elif location == 'A':\n",
        "        action = 'Right'\n",
        "    elif location =='B':\n",
        "        action = 'Left'\n",
        "    return action"
      ],
      "metadata": {
        "id": "WRQ3RsmchDht"
      },
      "execution_count": null,
      "outputs": []
    },
    {
      "cell_type": "code",
      "execution_count": null,
      "metadata": {
        "id": "GfEzFJTVSyed",
        "outputId": "dff0b6dd-5258-4082-8da0-02ee0f534ee4",
        "colab": {
          "base_uri": "https://localhost:8080/"
        }
      },
      "outputs": [
        {
          "name": "stdout",
          "output_type": "stream",
          "text": [
            "Perception Received: ('A', 'Clean')\n",
            "Action Performed: Right\n",
            "Get Perception (yes/no): yes\n",
            "Perception Received: ('B', 'Clean')\n",
            "Action Performed: Left\n",
            "Get Perception (yes/no): yes\n",
            "Perception Received: ('A', 'Clean')\n",
            "Action Performed: Right\n",
            "Get Perception (yes/no): yes\n",
            "Perception Received: ('B', 'Dirty')\n",
            "Action Performed: Suck\n",
            "Get Perception (yes/no): yes\n",
            "Perception Received: ('B', 'Clean')\n",
            "Action Performed: Left\n",
            "Get Perception (yes/no): yes\n",
            "Perception Received: ('A', 'Clean')\n",
            "Action Performed: Right\n",
            "Get Perception (yes/no): mm\n"
          ]
        }
      ],
      "source": [
        "import random\n",
        "Location = random.choice(['A','B'])\n",
        "Condition = random.choice(['Clean','Dirty'])\n",
        "\n",
        "while True:\n",
        "    action= simple_reflex_agent((Location,Condition))\n",
        "    print('Action Performed: '+ action)\n",
        "    cmd = input('Get Perception (yes/no): ')\n",
        "    if(cmd == 'no' or cmd != 'yes'): break\n",
        "    if action == 'Right':\n",
        "        Location = 'B'\n",
        "        Condition = random.choice(['Clean','Dirty'])\n",
        "    elif action== 'Left':\n",
        "        Location = 'A'\n",
        "        Condition = random.choice(['Clean','Dirty'])\n",
        "    else:\n",
        "        Condition = 'Clean'"
      ]
    },
    {
      "cell_type": "markdown",
      "metadata": {
        "id": "wA7yF32tSyee"
      },
      "source": [
        "# Model based agent"
      ]
    },
    {
      "cell_type": "code",
      "source": [
        "model = {'A':'Unknown', 'B':'Unknown'}\n",
        "world_state = 'Bad'\n",
        "action = 'Unknown'\n",
        "\n",
        "def update_state(action, percept, model):\n",
        "    location = percept[0]\n",
        "    status = percept[1]\n",
        "    model[location] = status #udate the model based on current perception\n",
        "\n",
        "    global world_state\n",
        "    #udate the model based on action\n",
        "    if action == 'Suck':\n",
        "        model[location]='Clean'\n",
        "    # model checking to update world state\n",
        "    if model['A']=='Clean' and model['B']=='Clean':\n",
        "        world_state = 'Good'\n",
        "    else:\n",
        "        world_state = 'Bad'\n",
        "    return world_state\n",
        "\n",
        "\n",
        "def model_based_reflex_agent(percept):\n",
        "    location = percept[0]\n",
        "    status = percept[1]\n",
        "\n",
        "    global world_state,action,model\n",
        "\n",
        "    if world_state == 'Good':\n",
        "        action = 'Pause'\n",
        "        return action\n",
        "    elif status == 'Dirty':\n",
        "        action = 'Suck'\n",
        "    elif location == 'A':\n",
        "        action = 'Right'\n",
        "    elif location == 'B':\n",
        "        action = 'Left'\n",
        "    world_state = update_state(action, percept, model)\n",
        "    print('Perception: '+str(percept))\n",
        "    print('Action Performed: '+ action)\n",
        "    print('Model: '+str(model))\n",
        "    print('State: '+str(world_state))\n",
        "    return action"
      ],
      "metadata": {
        "id": "KGvoakXKiaqT"
      },
      "execution_count": null,
      "outputs": []
    },
    {
      "cell_type": "code",
      "execution_count": null,
      "metadata": {
        "id": "djwVDNKgSyef",
        "outputId": "c65035a4-cca8-4f52-81ba-8c7ef2b5bab9",
        "colab": {
          "base_uri": "https://localhost:8080/"
        }
      },
      "outputs": [
        {
          "name": "stdout",
          "output_type": "stream",
          "text": [
            "*****\n",
            "Perception: ('B', 'Dirty')\n",
            "Action Performed: Suck\n",
            "Model: {'A': 'Unknown', 'B': 'Clean'}\n",
            "State: Bad\n",
            "*****\n",
            "Perception: ('B', 'Clean')\n",
            "Action Performed: Left\n",
            "Model: {'A': 'Unknown', 'B': 'Clean'}\n",
            "State: Bad\n",
            "*****\n",
            "Perception: ('A', 'Dirty')\n",
            "Action Performed: Suck\n",
            "Model: {'A': 'Clean', 'B': 'Clean'}\n",
            "State: Good\n",
            "*****\n",
            "Stopped. Do restart? (yes/no): yes\n",
            "*****\n",
            "Perception: ('A', 'Clean')\n",
            "Action Performed: Right\n",
            "Model: {'A': 'Clean', 'B': 'Unknown'}\n",
            "State: Bad\n",
            "*****\n",
            "Perception: ('B', 'Clean')\n",
            "Action Performed: Left\n",
            "Model: {'A': 'Clean', 'B': 'Clean'}\n",
            "State: Good\n",
            "*****\n",
            "Stopped. Do restart? (yes/no): no\n"
          ]
        }
      ],
      "source": [
        "import random\n",
        "Location = random.choice(['A','B'])\n",
        "Condition= random.choice(['Clean','Dirty'])\n",
        "\n",
        "while True:\n",
        "    print('*****')\n",
        "    action = model_based_reflex_agent((Location,Condition))\n",
        "    if action == 'Right':\n",
        "        Location = 'B'\n",
        "        Condition = random.choice(['Clean','Dirty'])\n",
        "    elif action == 'Left':\n",
        "        Location = 'A'\n",
        "        Condition = random.choice(['Clean','Dirty'])\n",
        "    elif action == 'Suck':\n",
        "        Condition = 'Clean'\n",
        "    elif action == 'Pause':\n",
        "        cmd = input('Stopped. Do restart? (yes/no): ')\n",
        "        if(cmd == 'no' or cmd != 'yes'): break\n",
        "        Location = random.choice(['A','B'])\n",
        "        Condition = random.choice(['Clean','Dirty'])\n",
        "        model = {'A':'Unknown', 'B':'Unknown'}\n",
        "        world_state = 'Bad'\n",
        "        action = 'Unknown'"
      ]
    },
    {
      "cell_type": "markdown",
      "metadata": {
        "id": "SduRNewjSyeg"
      },
      "source": [
        "# **Exercise 1**"
      ]
    },
    {
      "cell_type": "markdown",
      "metadata": {
        "id": "XQfOSnycSyeh"
      },
      "source": [
        "Implement diffierent types of agent implementation to do a certain task of your choice.\n",
        "1. Table Driven Agent\n",
        "2. Simple Reflex Agent\n",
        "\n",
        "<p><b>Before implementation describe the following:</b></p>\n",
        "\n",
        "1. Agent Description: The aim of the agent is to assist in managing a library's book lending system.\n",
        "2. List the sensors:Book Availability, User Request.\n",
        "3. Sensors' values:<br>\n",
        "> Book_Availability -->{Available, Not Available}<br>\n",
        "> User_Request -->{Book Request, No Request}\n",
        "3. List the actions:Lend Book, Book has already Lend\n",
        "4. Agent function: perception --> action <br>\n",
        "> [Available, Book Request] --> Lend Book<br>\n",
        "> [Available, No Request] --> No Action<br>\n",
        "> [Not Available, Book Request] --> Book has already Lend<br>\n",
        "> [Not Available, No Request] --> No Action\n",
        "   \n"
      ]
    },
    {
      "cell_type": "markdown",
      "metadata": {
        "id": "9s44XzAtSyei"
      },
      "source": []
    },
    {
      "cell_type": "code",
      "execution_count": null,
      "metadata": {
        "id": "uKEfWWEgSyei"
      },
      "outputs": [],
      "source": [
        "# Table\n",
        "table = {\n",
        "    ('Available', 'Book Request'): 'Lend Book',\n",
        "    ('Available', 'No Request'): 'No Action',\n",
        "    ('Not Available', 'Book Request'): 'Book has already Lend',\n",
        "    ('Not Available', 'No Request'): 'No Action'\n",
        "}"
      ]
    },
    {
      "cell_type": "code",
      "source": [
        "percepts=[]  # to store percept sequence\n",
        "def table_driven_agent(percept):\n",
        "    print('Perception Received: ' + str(percept))\n",
        "    percepts.append(percept)  # Updating percept history\n",
        "    action = lookup(percept, table)  # Searching for action\n",
        "    return action\n",
        "\n",
        "def lookup(p, t):\n",
        "    return t[p]"
      ],
      "metadata": {
        "id": "Vvv0230PIhj4"
      },
      "execution_count": null,
      "outputs": []
    },
    {
      "cell_type": "code",
      "source": [
        "import random\n",
        "\n",
        "# Initialize initial state\n",
        "\n",
        "book_availability = random.choice(['Available', 'Not Available'])\n",
        "user_request = random.choice(['Book Request', 'No Request'])\n",
        "\n",
        "while True: # to perceieve environment repeatedly\n",
        "  action = table_driven_agent((book_availability, user_request))\n",
        "  print('Action Perform: ' +action)\n",
        "\n",
        "  #Ask if we want to continue perceiving the environment.\n",
        "  cmd = input('Get Perception (yes/no): ')\n",
        "  if(cmd != 'yes'):\n",
        "    break\n",
        "\n",
        "  if(action == 'Lend Book'):\n",
        "    book_availability = 'Not Available'\n",
        "    user_request = random.choice(['Book Request', 'No Request'])\n",
        "\n",
        "  elif(action == 'Book has already Lend'):\n",
        "    book_availability = 'Available'\n",
        "    user_request = random.choice(['Book Request', 'No Request'])\n",
        "\n",
        "  else:\n",
        "    user_request = 'Book Request'\n"
      ],
      "metadata": {
        "colab": {
          "base_uri": "https://localhost:8080/"
        },
        "id": "-bQqvlsCItk1",
        "outputId": "c3c91e65-83de-4b4a-b109-55d941df13d5"
      },
      "execution_count": null,
      "outputs": [
        {
          "name": "stdout",
          "output_type": "stream",
          "text": [
            "Perception Received: ('Not Available', 'No Request')\n",
            "Action Perform: No Action\n",
            "Get Perception (yes/no): yes\n",
            "Perception Received: ('Not Available', 'Book Request')\n",
            "Action Perform: Book has already Lend\n",
            "Get Perception (yes/no): yes\n",
            "Perception Received: ('Available', 'Book Request')\n",
            "Action Perform: Lend Book\n",
            "Get Perception (yes/no): yes\n",
            "Perception Received: ('Not Available', 'Book Request')\n",
            "Action Perform: Book has already Lend\n",
            "Get Perception (yes/no): yes\n",
            "Perception Received: ('Available', 'No Request')\n",
            "Action Perform: No Action\n",
            "Get Perception (yes/no): no\n"
          ]
        }
      ]
    },
    {
      "cell_type": "code",
      "source": [
        "#Simple reflex agent\n",
        "def simple_reflex_agent(percept):\n",
        "  print('Perception Received: ' +str(percept))\n",
        "\n",
        "  book_availability, user_request = percept\n",
        "  if(book_availability == 'Available' and user_request == 'Book Request'):\n",
        "    action = 'Lend Book'\n",
        "  elif(book_availability == 'Not Available' and user_request == 'Book Request'):\n",
        "    action = 'Book has already Lend'\n",
        "  else:\n",
        "    return 'No Action'"
      ],
      "metadata": {
        "id": "lgXj1Xvo3qUo"
      },
      "execution_count": null,
      "outputs": []
    },
    {
      "cell_type": "code",
      "source": [
        "#Simple reflex agent\n",
        "import random\n",
        "book_availability = random.choice(['Available', 'Not Available'])\n",
        "user_request = random.choice(['Book Request', 'No Request'])\n",
        "\n",
        "while True:\n",
        "   action = table_driven_agent((book_availability, user_request))\n",
        "   print('Action Perform: ' +action)\n",
        "\n",
        "   cmd = input('Get Perception (yes/no): ')\n",
        "   if(cmd == 'no' or cmd != 'yes'):\n",
        "    break\n",
        "\n",
        "   if(action == 'Lend Book'):\n",
        "     book_availability = 'Not Available'\n",
        "     user_request = random.choice(['Book Request', 'No Request'])\n",
        "   elif(action == 'Book has already Lend'):\n",
        "     book_availability = 'Available'\n",
        "     user_request = random.choice(['Book Requset', 'No Request'])\n",
        "   else:\n",
        "     user_request = 'Book Request'\n"
      ],
      "metadata": {
        "colab": {
          "base_uri": "https://localhost:8080/"
        },
        "id": "o2uvlNeI4SCX",
        "outputId": "e3848b4e-3002-4d05-9188-1588070fc1cb"
      },
      "execution_count": null,
      "outputs": [
        {
          "name": "stdout",
          "output_type": "stream",
          "text": [
            "Perception Received: ('Available', 'Book Request')\n",
            "Action Perform: Lend Book\n",
            "Get Perception (yes/no): yes\n",
            "Perception Received: ('Not Available', 'Book Request')\n",
            "Action Perform: Book has already Lend\n",
            "Get Perception (yes/no): yes\n",
            "Perception Received: ('Available', 'No Request')\n",
            "Action Perform: No Action\n",
            "Get Perception (yes/no): yes\n",
            "Perception Received: ('Available', 'Book Request')\n",
            "Action Perform: Lend Book\n",
            "Get Perception (yes/no): yes\n",
            "Perception Received: ('Not Available', 'No Request')\n",
            "Action Perform: No Action\n",
            "Get Perception (yes/no): no\n"
          ]
        }
      ]
    }
  ],
  "metadata": {
    "kernelspec": {
      "display_name": "Python 3",
      "language": "python",
      "name": "python3"
    },
    "language_info": {
      "codemirror_mode": {
        "name": "ipython",
        "version": 3
      },
      "file_extension": ".py",
      "mimetype": "text/x-python",
      "name": "python",
      "nbconvert_exporter": "python",
      "pygments_lexer": "ipython3",
      "version": "3.8.8"
    },
    "colab": {
      "provenance": []
    }
  },
  "nbformat": 4,
  "nbformat_minor": 0
}