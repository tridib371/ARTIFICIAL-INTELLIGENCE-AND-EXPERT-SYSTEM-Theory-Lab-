{
  "cells": [
    {
      "cell_type": "markdown",
      "metadata": {
        "id": "d-DKmj30luYm"
      },
      "source": [
        "![map.JPG](attachment:map.JPG)"
      ]
    },
    {
      "cell_type": "code",
      "source": [
        "romanian_map = {\n",
        "    'Arad': {'Sibiu':140, 'Zerind':75, 'Timisoara':118},\n",
        "    'Zerind': {'Arad':75, 'Oradea':71},\n",
        "    'Oradea': {'Zerind':71, 'Sibiu': 151},\n",
        "    'Sibiu': {'Arad':140, 'Oradea':151, 'Fagaras':99, 'Rimnicu':80},\n",
        "    'Timisoara': {'Arad': 118, 'Lugoj':111},\n",
        "    'Lugoj': {'Timisoara':111, 'Mehadia':70},\n",
        "    'Mehadia': {'Lugoj': 70, 'Drobeta':75},\n",
        "    'Drobeta': {'Mehadia':75, 'Craiova':120},\n",
        "    'Craiova': {'Drobeta': 120, 'Rimnicu': 146, 'Pitesti': 138},\n",
        "    'Rimnicu': {'Sibiu': 80, 'Craiova': 146, 'Pitesti': 97},\n",
        "    'Fagaras': {'Sibiu':99, 'Bucharest':211},\n",
        "    'Pitesti': {'Rimnicu': 97, 'Craiova':138, 'Bucharest':101},\n",
        "    'Bucharest': {'Fagaras':211, 'Pitesti': 101, 'Giurgiu':90, 'Urziceni':85},\n",
        "    'Giurgiu': {'Bucharest': 90},\n",
        "    'Urziceni': {'Bucharest': 85, 'Vaslui':142, 'Hirsova':98},\n",
        "    'Hirsova': {'Urziceni':98, 'Eforie':86},\n",
        "    'Eforie': {'Hirsova':86},\n",
        "    'Vaslui': {'Iasi': 92, 'Urziceni':142},\n",
        "    'Iasi': {'Vaslui':92, 'Neamt': 87},\n",
        "    'Neamt': {'Iasi':87}\n",
        "}"
      ],
      "metadata": {
        "id": "PPSuvpBt3gqS"
      },
      "execution_count": null,
      "outputs": []
    },
    {
      "cell_type": "code",
      "source": [
        "EX1 = {\n",
        "    'S': {'A': 1,'B': 2,'C': 1},\n",
        "    'A':{'C':1,'D':2,'G':6},\n",
        "    'B': {'D':2,'E':3},\n",
        "    'C':{'G':8},\n",
        "    'D':{'E':1},\n",
        "    'E':{'G':1},\n",
        "    'G':{}\n",
        "}"
      ],
      "metadata": {
        "id": "QAsqNEF9Putu"
      },
      "execution_count": null,
      "outputs": []
    },
    {
      "cell_type": "markdown",
      "metadata": {
        "id": "KRCzk7hwluYx"
      },
      "source": [
        "# Uniform Cost Search"
      ]
    },
    {
      "cell_type": "code",
      "execution_count": null,
      "metadata": {
        "id": "Caz8BtEWluYy"
      },
      "outputs": [],
      "source": [
        "from queue import PriorityQueue\n",
        "\n",
        "def ucs(start, goal, G):\n",
        "    expanded = [] # to store expanded nodes\n",
        "    frontier = PriorityQueue()\n",
        "    frontier.put((0,start,[start]))\n",
        "    i = 1\n",
        "    while not frontier.empty():\n",
        "        node = frontier.get() # select a node for expansion\n",
        "        u = node[1]\n",
        "        if u in expanded:\n",
        "          continue\n",
        "        print()\n",
        "        print(u+ \" selected. Cost: \"+ str(node[0]))\n",
        "        if u == goal:# goal test\n",
        "            print(\"*** GOAL TEST SATISFIED ***\")\n",
        "            print()\n",
        "            return node # path\n",
        "        expanded.append(u)\n",
        "        print('['+str(i)+']: '+u+\" expanding...\")\n",
        "        i = i +1\n",
        "        for v in G[u].keys():#expanding\n",
        "            if v not in expanded:\n",
        "                pathcost = node[0] + G[u][v]\n",
        "                path = node[2] + [v]\n",
        "                frontier.put((pathcost,v,path))\n",
        "                print(u + \"->\"+v +\" : \" + str(G[u][v]))\n",
        "                #print(\"Path: \"+ str(path) + \", Cost:\"+ str(pathcost))\n",
        "        #print(frontier.queue)\n",
        "        for n in frontier.queue:\n",
        "          print(n[1]+': '+ str(n[0]))\n",
        "    print('Failed')"
      ]
    },
    {
      "cell_type": "code",
      "source": [
        "ucs('Arad', 'Bucharest', romanian_map)"
      ],
      "metadata": {
        "colab": {
          "base_uri": "https://localhost:8080/"
        },
        "id": "j6yU-uSz4tLi",
        "outputId": "bee159ec-b6cb-436f-8c1b-edc32b76f6b4"
      },
      "execution_count": null,
      "outputs": [
        {
          "output_type": "stream",
          "name": "stdout",
          "text": [
            "\n",
            "Arad selected. Cost: 0\n",
            "[1]: Arad expanding...\n",
            "Arad->Sibiu : 140\n",
            "Arad->Zerind : 75\n",
            "Arad->Timisoara : 118\n",
            "Zerind: 75\n",
            "Sibiu: 140\n",
            "Timisoara: 118\n",
            "\n",
            "Zerind selected. Cost: 75\n",
            "[2]: Zerind expanding...\n",
            "Zerind->Oradea : 71\n",
            "Timisoara: 118\n",
            "Sibiu: 140\n",
            "Oradea: 146\n",
            "\n",
            "Timisoara selected. Cost: 118\n",
            "[3]: Timisoara expanding...\n",
            "Timisoara->Lugoj : 111\n",
            "Sibiu: 140\n",
            "Oradea: 146\n",
            "Lugoj: 229\n",
            "\n",
            "Sibiu selected. Cost: 140\n",
            "[4]: Sibiu expanding...\n",
            "Sibiu->Oradea : 151\n",
            "Sibiu->Fagaras : 99\n",
            "Sibiu->Rimnicu : 80\n",
            "Oradea: 146\n",
            "Rimnicu: 220\n",
            "Oradea: 291\n",
            "Fagaras: 239\n",
            "Lugoj: 229\n",
            "\n",
            "Oradea selected. Cost: 146\n",
            "[5]: Oradea expanding...\n",
            "Rimnicu: 220\n",
            "Lugoj: 229\n",
            "Oradea: 291\n",
            "Fagaras: 239\n",
            "\n",
            "Rimnicu selected. Cost: 220\n",
            "[6]: Rimnicu expanding...\n",
            "Rimnicu->Craiova : 146\n",
            "Rimnicu->Pitesti : 97\n",
            "Lugoj: 229\n",
            "Fagaras: 239\n",
            "Oradea: 291\n",
            "Craiova: 366\n",
            "Pitesti: 317\n",
            "\n",
            "Lugoj selected. Cost: 229\n",
            "[7]: Lugoj expanding...\n",
            "Lugoj->Mehadia : 70\n",
            "Fagaras: 239\n",
            "Mehadia: 299\n",
            "Oradea: 291\n",
            "Craiova: 366\n",
            "Pitesti: 317\n",
            "\n",
            "Fagaras selected. Cost: 239\n",
            "[8]: Fagaras expanding...\n",
            "Fagaras->Bucharest : 211\n",
            "Oradea: 291\n",
            "Mehadia: 299\n",
            "Pitesti: 317\n",
            "Craiova: 366\n",
            "Bucharest: 450\n",
            "\n",
            "Mehadia selected. Cost: 299\n",
            "[9]: Mehadia expanding...\n",
            "Mehadia->Drobeta : 75\n",
            "Pitesti: 317\n",
            "Craiova: 366\n",
            "Bucharest: 450\n",
            "Drobeta: 374\n",
            "\n",
            "Pitesti selected. Cost: 317\n",
            "[10]: Pitesti expanding...\n",
            "Pitesti->Craiova : 138\n",
            "Pitesti->Bucharest : 101\n",
            "Craiova: 366\n",
            "Drobeta: 374\n",
            "Bucharest: 450\n",
            "Craiova: 455\n",
            "Bucharest: 418\n",
            "\n",
            "Craiova selected. Cost: 366\n",
            "[11]: Craiova expanding...\n",
            "Craiova->Drobeta : 120\n",
            "Drobeta: 374\n",
            "Bucharest: 418\n",
            "Bucharest: 450\n",
            "Craiova: 455\n",
            "Drobeta: 486\n",
            "\n",
            "Drobeta selected. Cost: 374\n",
            "[12]: Drobeta expanding...\n",
            "Bucharest: 418\n",
            "Craiova: 455\n",
            "Bucharest: 450\n",
            "Drobeta: 486\n",
            "\n",
            "Bucharest selected. Cost: 418\n",
            "*** GOAL TEST SATISFIED ***\n",
            "\n"
          ]
        },
        {
          "output_type": "execute_result",
          "data": {
            "text/plain": [
              "(418, 'Bucharest', ['Arad', 'Sibiu', 'Rimnicu', 'Pitesti', 'Bucharest'])"
            ]
          },
          "metadata": {},
          "execution_count": 4
        }
      ]
    },
    {
      "cell_type": "code",
      "execution_count": null,
      "metadata": {
        "colab": {
          "base_uri": "https://localhost:8080/"
        },
        "id": "IwXpwVbKluYz",
        "outputId": "551f7d7d-7e71-45ab-cf82-e3479c23a8c4"
      },
      "outputs": [
        {
          "output_type": "stream",
          "name": "stdout",
          "text": [
            "\n",
            "S selected. Cost: 0\n",
            "[1]: S expanding...\n",
            "S->A : 1\n",
            "S->B : 2\n",
            "S->C : 1\n",
            "A: 1\n",
            "B: 2\n",
            "C: 1\n",
            "\n",
            "A selected. Cost: 1\n",
            "[2]: A expanding...\n",
            "A->C : 1\n",
            "A->D : 2\n",
            "A->G : 6\n",
            "C: 1\n",
            "B: 2\n",
            "C: 2\n",
            "D: 3\n",
            "G: 7\n",
            "\n",
            "C selected. Cost: 1\n",
            "[3]: C expanding...\n",
            "C->G : 8\n",
            "B: 2\n",
            "D: 3\n",
            "C: 2\n",
            "G: 7\n",
            "G: 9\n",
            "\n",
            "B selected. Cost: 2\n",
            "[4]: B expanding...\n",
            "B->D : 2\n",
            "B->E : 3\n",
            "C: 2\n",
            "D: 3\n",
            "E: 5\n",
            "G: 7\n",
            "D: 4\n",
            "G: 9\n",
            "\n",
            "D selected. Cost: 3\n",
            "[5]: D expanding...\n",
            "D->E : 1\n",
            "D: 4\n",
            "E: 4\n",
            "E: 5\n",
            "G: 9\n",
            "G: 7\n",
            "\n",
            "E selected. Cost: 4\n",
            "[6]: E expanding...\n",
            "E->G : 1\n",
            "E: 5\n",
            "G: 5\n",
            "G: 9\n",
            "G: 7\n",
            "\n",
            "G selected. Cost: 5\n",
            "*** GOAL TEST SATISFIED ***\n",
            "\n"
          ]
        },
        {
          "output_type": "execute_result",
          "data": {
            "text/plain": [
              "(5, 'G', ['S', 'A', 'D', 'E', 'G'])"
            ]
          },
          "metadata": {},
          "execution_count": 5
        }
      ],
      "source": [
        "ucs('S', 'G', EX1) # change source and destination"
      ]
    },
    {
      "cell_type": "code",
      "execution_count": null,
      "metadata": {
        "id": "0mgZy0qRluY1"
      },
      "outputs": [],
      "source": [
        "# insert simulation of the ouput"
      ]
    },
    {
      "cell_type": "markdown",
      "metadata": {
        "id": "fKD43fSqluY2"
      },
      "source": [
        "# Greedy Best First Search"
      ]
    },
    {
      "cell_type": "code",
      "source": [
        "h1 = {'S':10,'A':8, 'B':5, 'C':5,\n",
        "     'D':4,'E':2, 'G':0}"
      ],
      "metadata": {
        "id": "Sl977GekTpLe"
      },
      "execution_count": null,
      "outputs": []
    },
    {
      "cell_type": "code",
      "source": [
        "h = {'Arad': 366, 'Zerind': 374, 'Oradea': 380, 'Sibiu': 253,\n",
        "    'Timisoara': 329, 'Lugoj': 244, 'Mehadia': 241,\n",
        "    'Drobeta': 242, 'Craiova': 160, 'Rimnicu': 193,\n",
        "    'Fagaras': 176, 'Pitesti': 100, 'Bucharest': 0,\n",
        "    'Giurgiu': 77, 'Urziceni': 80, 'Hirsova': 151,\n",
        "    'Eforie': 161, 'Vaslui': 199, 'Iasi': 226, 'Neamt': 234}"
      ],
      "metadata": {
        "id": "zl3pY0i-9S6i"
      },
      "execution_count": null,
      "outputs": []
    },
    {
      "cell_type": "code",
      "source": [
        "EX1 = {\n",
        "    'S': {'A': 1,'B': 2,'C': 1},\n",
        "    'A':{'C':1,'D':2,'G':6},\n",
        "    'B': {'D':2,'E':3},\n",
        "    'C':{'G':8},\n",
        "    'D':{'E':1},\n",
        "    'E':{'G':1},\n",
        "    'G':{}\n",
        "}"
      ],
      "metadata": {
        "id": "_TxdT1oNOXx9"
      },
      "execution_count": null,
      "outputs": []
    },
    {
      "cell_type": "code",
      "execution_count": null,
      "metadata": {
        "_cell_guid": "b1076dfc-b9ad-4769-8c92-a6c4dae69d19",
        "_uuid": "8f2839f25d086af736a60e9eeb907d3b93b6e0e5",
        "id": "h-1PIbWaluY4"
      },
      "outputs": [],
      "source": [
        "from queue import PriorityQueue\n",
        "\n",
        "def gbfs(start, goal, G, heru):\n",
        "    expanded = [] # to store expanded nodes\n",
        "    frontier = PriorityQueue()\n",
        "    frontier.put((heru[start],start,[start],0))\n",
        "    i = 1\n",
        "    while not frontier.empty():\n",
        "        node = frontier.get() # select a node for expansion\n",
        "        u = node[1]\n",
        "        if u in expanded:\n",
        "          continue\n",
        "        print()\n",
        "        print(u+ \" selected. Cost: \"+ str(node[0]))\n",
        "        if u == goal:# goal test\n",
        "            print(\"*** GOAL TEST SATISFIED ***\")\n",
        "            print()\n",
        "            return node # path\n",
        "        expanded.append(u)\n",
        "        print('['+str(i)+']: '+u+\" expanding...\")\n",
        "        i = i +1\n",
        "        for v in G[u].keys():#expanding\n",
        "            if v not in expanded:\n",
        "                pathcost = node[3] + G[u][v]\n",
        "                path = node[2] + [v]\n",
        "                frontier.put((heru[v],v,path,pathcost))\n",
        "                print(u + \"->\"+v +\" : \" + str(G[u][v]))\n",
        "        for n in frontier.queue:\n",
        "          print(n[1]+': '+ str(n[0]))\n",
        "    print('Failed')"
      ]
    },
    {
      "cell_type": "code",
      "execution_count": null,
      "metadata": {
        "id": "39lB5KBmluY6",
        "outputId": "8a4e23b4-039e-402c-af32-de43d010937e",
        "colab": {
          "base_uri": "https://localhost:8080/"
        }
      },
      "outputs": [
        {
          "output_type": "stream",
          "name": "stdout",
          "text": [
            "\n",
            "Arad selected. Cost: 366\n",
            "[1]: Arad expanding...\n",
            "Arad->Sibiu : 140\n",
            "Arad->Zerind : 75\n",
            "Arad->Timisoara : 118\n",
            "Sibiu: 253\n",
            "Zerind: 374\n",
            "Timisoara: 329\n",
            "\n",
            "Sibiu selected. Cost: 253\n",
            "[2]: Sibiu expanding...\n",
            "Sibiu->Oradea : 151\n",
            "Sibiu->Fagaras : 99\n",
            "Sibiu->Rimnicu : 80\n",
            "Fagaras: 176\n",
            "Rimnicu: 193\n",
            "Oradea: 380\n",
            "Zerind: 374\n",
            "Timisoara: 329\n",
            "\n",
            "Fagaras selected. Cost: 176\n",
            "[3]: Fagaras expanding...\n",
            "Fagaras->Bucharest : 211\n",
            "Bucharest: 0\n",
            "Rimnicu: 193\n",
            "Oradea: 380\n",
            "Zerind: 374\n",
            "Timisoara: 329\n",
            "\n",
            "Bucharest selected. Cost: 0\n",
            "*** GOAL TEST SATISFIED ***\n",
            "\n"
          ]
        },
        {
          "output_type": "execute_result",
          "data": {
            "text/plain": [
              "(0, 'Bucharest', ['Arad', 'Sibiu', 'Fagaras', 'Bucharest'], 450)"
            ]
          },
          "metadata": {},
          "execution_count": 20
        }
      ],
      "source": [
        "gbfs('Arad', 'Bucharest', romanian_map, h) # change source only"
      ]
    },
    {
      "cell_type": "code",
      "execution_count": null,
      "metadata": {
        "id": "E5uVkp26luY7",
        "colab": {
          "base_uri": "https://localhost:8080/"
        },
        "outputId": "1a0ffa3e-d002-467c-c616-efb5f1f50263"
      },
      "outputs": [
        {
          "output_type": "stream",
          "name": "stdout",
          "text": [
            "\n",
            "S selected. Cost: 10\n",
            "[1]: S expanding...\n",
            "S->A : 1\n",
            "S->B : 2\n",
            "S->C : 1\n",
            "B: 5\n",
            "A: 8\n",
            "C: 5\n",
            "\n",
            "B selected. Cost: 5\n",
            "[2]: B expanding...\n",
            "B->D : 2\n",
            "B->E : 3\n",
            "E: 2\n",
            "D: 4\n",
            "C: 5\n",
            "A: 8\n",
            "\n",
            "E selected. Cost: 2\n",
            "[3]: E expanding...\n",
            "E->G : 1\n",
            "G: 0\n",
            "D: 4\n",
            "C: 5\n",
            "A: 8\n",
            "\n",
            "G selected. Cost: 0\n",
            "*** GOAL TEST SATISFIED ***\n",
            "\n"
          ]
        },
        {
          "output_type": "execute_result",
          "data": {
            "text/plain": [
              "(0, 'G', ['S', 'B', 'E', 'G'], 6)"
            ]
          },
          "metadata": {},
          "execution_count": 22
        }
      ],
      "source": [
        "# insert simulation of the ouput\n",
        "gbfs('S', 'G', EX1, h1) # change source and destination"
      ]
    },
    {
      "cell_type": "markdown",
      "metadata": {
        "id": "dDpUIOyWluY8"
      },
      "source": [
        "# A*"
      ]
    },
    {
      "cell_type": "code",
      "source": [
        "h1 = {'S':10,'A':8, 'B':5, 'C':5,\n",
        "     'D':4,'E':2, 'G':0}"
      ],
      "metadata": {
        "id": "vxg1sGvslxpP"
      },
      "execution_count": null,
      "outputs": []
    },
    {
      "cell_type": "code",
      "source": [
        "h = {'Arad': 366, 'Zerind': 374, 'Oradea': 380, 'Sibiu': 253,\n",
        "    'Timisoara': 329, 'Lugoj': 244, 'Mehadia': 241,\n",
        "    'Drobeta': 242, 'Craiova': 160, 'Rimnicu': 193,\n",
        "    'Fagaras': 176, 'Pitesti': 100, 'Bucharest': 0,\n",
        "    'Giurgiu': 77, 'Urziceni': 80, 'Hirsova': 151,\n",
        "    'Eforie': 161, 'Vaslui': 199, 'Iasi': 226, 'Neamt': 234}"
      ],
      "metadata": {
        "id": "Sg0iwE1Al1yI"
      },
      "execution_count": null,
      "outputs": []
    },
    {
      "cell_type": "code",
      "source": [
        "EX1 = {\n",
        "    'S': {'A': 1,'B': 2,'C': 1},\n",
        "    'A':{'C':1,'D':2,'G':6},\n",
        "    'B': {'D':2,'E':3},\n",
        "    'C':{'G':8},\n",
        "    'D':{'E':1},\n",
        "    'E':{'G':1},\n",
        "    'G':{}\n",
        "}"
      ],
      "metadata": {
        "id": "-7pRkWaPl6DO"
      },
      "execution_count": null,
      "outputs": []
    },
    {
      "cell_type": "code",
      "execution_count": null,
      "metadata": {
        "id": "ddEDeRqPluY8"
      },
      "outputs": [],
      "source": [
        "# code A* here\n",
        "from queue import PriorityQueue\n",
        "def astar(start, goal, G, heru):\n",
        "\n",
        "    expanded = [] # to store expanded nodes\n",
        "    frontier = PriorityQueue()\n",
        "    frontier.put((heru[start], 0, start, [start], 0))\n",
        "    i = 1\n",
        "    while not frontier.empty():\n",
        "        node = frontier.get() # select a node for expansion\n",
        "        u = node[2]\n",
        "        if u in expanded:\n",
        "            continue\n",
        "        print()\n",
        "\n",
        "        print(u + \" selected. Cost: \" + str(node[4]))\n",
        "        if u == goal:  # goal test\n",
        "\n",
        "            print(\"*** GOAL TEST SATISFIED ***\")\n",
        "            print()\n",
        "            return node[3]  # path\n",
        "\n",
        "        expanded.append(u)\n",
        "        print('[' + str(i) + ']: ' + u + \" expanding...\")\n",
        "        i = i + 1\n",
        "        for v in G[u].keys():  # expanding\n",
        "\n",
        "            if v not in expanded:\n",
        "\n",
        "                pathcost = node[4] + G[u][v]\n",
        "                f_score = pathcost + heru[v]\n",
        "                path = node[3] + [v]\n",
        "                frontier.put((f_score, heru[v], v, path, pathcost))\n",
        "                print(u + \"->\" + v + \" : \" + str(G[u][v]))\n",
        "\n",
        "        for n in frontier.queue:\n",
        "            print(n[2] + ': ' + str(n[0]))\n",
        "\n",
        "    print('Failed')\n",
        "\n"
      ]
    },
    {
      "cell_type": "code",
      "source": [
        "astar('Arad', 'Bucharest', romanian_map, h)"
      ],
      "metadata": {
        "colab": {
          "base_uri": "https://localhost:8080/"
        },
        "id": "Ct9QfGtMSLcn",
        "outputId": "dbd2f9a3-232f-45be-a021-bc28e00feb4f"
      },
      "execution_count": null,
      "outputs": [
        {
          "output_type": "stream",
          "name": "stdout",
          "text": [
            "\n",
            "Arad selected. Cost: 0\n",
            "[1]: Arad expanding...\n",
            "Arad->Sibiu : 140\n",
            "Arad->Zerind : 75\n",
            "Arad->Timisoara : 118\n",
            "Sibiu: 393\n",
            "Zerind: 449\n",
            "Timisoara: 447\n",
            "\n",
            "Sibiu selected. Cost: 140\n",
            "[2]: Sibiu expanding...\n",
            "Sibiu->Oradea : 151\n",
            "Sibiu->Fagaras : 99\n",
            "Sibiu->Rimnicu : 80\n",
            "Rimnicu: 413\n",
            "Fagaras: 415\n",
            "Oradea: 671\n",
            "Zerind: 449\n",
            "Timisoara: 447\n",
            "\n",
            "Rimnicu selected. Cost: 220\n",
            "[3]: Rimnicu expanding...\n",
            "Rimnicu->Craiova : 146\n",
            "Rimnicu->Pitesti : 97\n",
            "Fagaras: 415\n",
            "Timisoara: 447\n",
            "Pitesti: 417\n",
            "Zerind: 449\n",
            "Craiova: 526\n",
            "Oradea: 671\n",
            "\n",
            "Fagaras selected. Cost: 239\n",
            "[4]: Fagaras expanding...\n",
            "Fagaras->Bucharest : 211\n",
            "Pitesti: 417\n",
            "Timisoara: 447\n",
            "Bucharest: 450\n",
            "Zerind: 449\n",
            "Craiova: 526\n",
            "Oradea: 671\n",
            "\n",
            "Pitesti selected. Cost: 317\n",
            "[5]: Pitesti expanding...\n",
            "Pitesti->Craiova : 138\n",
            "Pitesti->Bucharest : 101\n",
            "Bucharest: 418\n",
            "Zerind: 449\n",
            "Timisoara: 447\n",
            "Oradea: 671\n",
            "Craiova: 526\n",
            "Craiova: 615\n",
            "Bucharest: 450\n",
            "\n",
            "Bucharest selected. Cost: 418\n",
            "*** GOAL TEST SATISFIED ***\n",
            "\n"
          ]
        },
        {
          "output_type": "execute_result",
          "data": {
            "text/plain": [
              "['Arad', 'Sibiu', 'Rimnicu', 'Pitesti', 'Bucharest']"
            ]
          },
          "metadata": {},
          "execution_count": 31
        }
      ]
    },
    {
      "cell_type": "code",
      "source": [
        "astar('S', 'G', EX1, h1)"
      ],
      "metadata": {
        "colab": {
          "base_uri": "https://localhost:8080/"
        },
        "id": "XfSHdfEdR29i",
        "outputId": "e68d7075-5b6f-4296-c05f-ea06e835700d"
      },
      "execution_count": null,
      "outputs": [
        {
          "output_type": "stream",
          "name": "stdout",
          "text": [
            "\n",
            "S selected. Cost: 0\n",
            "[1]: S expanding...\n",
            "S->A : 1\n",
            "S->B : 2\n",
            "S->C : 1\n",
            "C: 6\n",
            "A: 9\n",
            "B: 7\n",
            "\n",
            "C selected. Cost: 1\n",
            "[2]: C expanding...\n",
            "C->G : 8\n",
            "B: 7\n",
            "A: 9\n",
            "G: 9\n",
            "\n",
            "B selected. Cost: 2\n",
            "[3]: B expanding...\n",
            "B->D : 2\n",
            "B->E : 3\n",
            "E: 7\n",
            "D: 8\n",
            "G: 9\n",
            "A: 9\n",
            "\n",
            "E selected. Cost: 5\n",
            "[4]: E expanding...\n",
            "E->G : 1\n",
            "G: 6\n",
            "D: 8\n",
            "G: 9\n",
            "A: 9\n",
            "\n",
            "G selected. Cost: 6\n",
            "*** GOAL TEST SATISFIED ***\n",
            "\n"
          ]
        },
        {
          "output_type": "execute_result",
          "data": {
            "text/plain": [
              "['S', 'B', 'E', 'G']"
            ]
          },
          "metadata": {},
          "execution_count": 32
        }
      ]
    },
    {
      "cell_type": "code",
      "execution_count": null,
      "metadata": {
        "id": "usP2NEKfluY9"
      },
      "outputs": [],
      "source": [
        "# insert simulation of the ouput (destination: Bucharest)"
      ]
    }
  ],
  "metadata": {
    "kernelspec": {
      "display_name": "Python 3",
      "language": "python",
      "name": "python3"
    },
    "language_info": {
      "codemirror_mode": {
        "name": "ipython",
        "version": 3
      },
      "file_extension": ".py",
      "mimetype": "text/x-python",
      "name": "python",
      "nbconvert_exporter": "python",
      "pygments_lexer": "ipython3",
      "version": "3.8.8"
    },
    "colab": {
      "provenance": []
    }
  },
  "nbformat": 4,
  "nbformat_minor": 0
}