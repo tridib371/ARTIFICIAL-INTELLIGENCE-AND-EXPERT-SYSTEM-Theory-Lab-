{
  "cells": [
    {
      "cell_type": "markdown",
      "metadata": {
        "id": "gVdgbvf19OA9"
      },
      "source": [
        "# About this notebook\n",
        "<p style=\"text-align: justify\"> Here, you will learn the basic statements of python and function. Some codes will be given for demonstration. Some other codes, you will do as excercise.</p>\n",
        "\n",
        "## Submission\n",
        "<p style=\"text-align: justify\">After completing the practice codes and exercises, download the notebook (.pynb file) and submit the notebook  to MS Teams inbox in the class period</p>\n",
        "<p> 1.<b> You must submit your own code</b>. If similarity found negative marking will be given.</p>\n",
        "<p> 2. Modify the file name writing your ID at the beigining of the file name.</p><p> <b>Example: 20-45961-3 Lab 02.ipynb</b></p>\n",
        "<p> 3. Other file format (except .pynb) or link will not be accepted.</p>"
      ]
    },
    {
      "cell_type": "markdown",
      "metadata": {
        "id": "sVSQpyqT9OBH"
      },
      "source": [
        "# User Input"
      ]
    },
    {
      "cell_type": "code",
      "execution_count": null,
      "metadata": {
        "colab": {
          "base_uri": "https://localhost:8080/"
        },
        "id": "JPTt3qbo9OBI",
        "outputId": "dc802d03-a505-4925-a1aa-7e4fa61a864f"
      },
      "outputs": [
        {
          "output_type": "stream",
          "name": "stdout",
          "text": [
            "32\n"
          ]
        }
      ],
      "source": [
        "a = 32\n",
        "print(a)"
      ]
    },
    {
      "cell_type": "code",
      "source": [
        "a = input()\n",
        "print(a)\n",
        "print(type(a))"
      ],
      "metadata": {
        "id": "YCouIBhhorBO",
        "colab": {
          "base_uri": "https://localhost:8080/"
        },
        "outputId": "0ceedb29-8320-488c-a145-c367832a85e3"
      },
      "execution_count": 5,
      "outputs": [
        {
          "output_type": "stream",
          "name": "stdout",
          "text": [
            "66\n",
            "66\n",
            "<class 'str'>\n"
          ]
        }
      ]
    },
    {
      "cell_type": "code",
      "execution_count": 6,
      "metadata": {
        "id": "WgnNFESa9OBL",
        "colab": {
          "base_uri": "https://localhost:8080/"
        },
        "outputId": "95b2ef21-fe3d-4668-9e98-292c0de8c685"
      },
      "outputs": [
        {
          "output_type": "stream",
          "name": "stdout",
          "text": [
            "Enter a value: 72\n",
            "The given value is 72\n",
            "<class 'str'>\n"
          ]
        }
      ],
      "source": [
        "a = input('Enter a value: ') # always returns string\n",
        "print('The given value is '+ a)\n",
        "print(type(a))"
      ]
    },
    {
      "cell_type": "code",
      "execution_count": 7,
      "metadata": {
        "id": "qGfffqzZ9OBM",
        "colab": {
          "base_uri": "https://localhost:8080/"
        },
        "outputId": "26f7dc1c-7bdd-4ab8-d94c-4be6d47b2842"
      },
      "outputs": [
        {
          "output_type": "stream",
          "name": "stdout",
          "text": [
            "Enter a number: 55\n",
            "The result is 66\n",
            "<class 'int'>\n"
          ]
        }
      ],
      "source": [
        "a = int(input('Enter a number: ')) # returns string but converted to int\n",
        "print(f'The result is {a+11}')\n",
        "print(type(a))"
      ]
    },
    {
      "cell_type": "code",
      "source": [
        "while True:\n",
        "  a = input('Enter your Birth Year:')\n",
        "  if a.isdigit():\n",
        "    print(f'You are {2024-int(a)} years old')\n",
        "    break\n",
        "  print('WRONG INPUT')"
      ],
      "metadata": {
        "id": "LhsfvXa7lAk8",
        "colab": {
          "base_uri": "https://localhost:8080/"
        },
        "outputId": "f36d0f15-e778-4543-e554-b99221d5b585"
      },
      "execution_count": 8,
      "outputs": [
        {
          "output_type": "stream",
          "name": "stdout",
          "text": [
            "Enter your Birth Year:2001\n",
            "You are 23 years old\n"
          ]
        }
      ]
    },
    {
      "cell_type": "markdown",
      "metadata": {
        "id": "yd5uai6a9OBO"
      },
      "source": [
        "# if statement\n",
        "There can be zero or more elif parts, and the else part is optional. The keyword ‘elif’ is short for ‘else if’"
      ]
    },
    {
      "cell_type": "code",
      "execution_count": 10,
      "metadata": {
        "colab": {
          "base_uri": "https://localhost:8080/"
        },
        "id": "bkNWtGEA9OBP",
        "outputId": "23d4bb57-bf29-4008-a708-28df3df0313e"
      },
      "outputs": [
        {
          "output_type": "stream",
          "name": "stdout",
          "text": [
            "bad\n",
            "okay\n"
          ]
        }
      ],
      "source": [
        "# indent\n",
        "i = 12\n",
        "if i < 5: # () not required, {} not required\n",
        "  print('good')\n",
        "  print('nice')\n",
        "  print('very')\n",
        "else:\n",
        "  print('bad')\n",
        "print('okay') # will be executed in each run"
      ]
    },
    {
      "cell_type": "code",
      "execution_count": 12,
      "metadata": {
        "colab": {
          "base_uri": "https://localhost:8080/"
        },
        "id": "4-2lHhfa9OBQ",
        "outputId": "d4dbec38-e044-48af-b9c7-1fa8d973a7aa"
      },
      "outputs": [
        {
          "output_type": "stream",
          "name": "stdout",
          "text": [
            "Please enter an integer: 1\n",
            "Single\n"
          ]
        }
      ],
      "source": [
        "x = int(input(\"Please enter an integer: \"))\n",
        "if x < 0:\n",
        "    x = 0\n",
        "    print('Negative changed to zero')\n",
        "elif x == 0:\n",
        "    print('Zero')\n",
        "elif x == 1:\n",
        "    print('Single')\n",
        "else:\n",
        "  print('More')"
      ]
    },
    {
      "cell_type": "markdown",
      "metadata": {
        "id": "CeTgipag9OBR"
      },
      "source": [
        "<b>Exercise 1:</b> Input a course mark (0-100) from user and use the <b>if</b> statement to print corresponding grade."
      ]
    },
    {
      "cell_type": "code",
      "execution_count": 13,
      "metadata": {
        "id": "75nu_spY9OBS",
        "colab": {
          "base_uri": "https://localhost:8080/"
        },
        "outputId": "bcde26a3-27dc-4cab-957d-e48957d5c178"
      },
      "outputs": [
        {
          "output_type": "stream",
          "name": "stdout",
          "text": [
            "Enter your course mark (0-100): 70\n",
            "Grade: C\n"
          ]
        }
      ],
      "source": [
        "mark = int(input(\"Enter your course mark (0-100): \"))\n",
        "\n",
        "if mark >= 90:\n",
        "    print(\"Grade: A\")\n",
        "elif mark >= 80:\n",
        "    print(\"Grade: B\")\n",
        "elif mark >= 70:\n",
        "    print(\"Grade: C\")\n",
        "elif mark >= 60:\n",
        "    print(\"Grade: D\")\n",
        "elif mark >= 50:\n",
        "    print(\"Grade: E\")\n",
        "else:\n",
        "    print(\"Grade: F\")\n"
      ]
    },
    {
      "cell_type": "markdown",
      "metadata": {
        "id": "BLPDtgWr9OBT"
      },
      "source": [
        "# for statement\n",
        "<p style=\"text-align: justify\">The for statement in Python differs a bit from what you may be used to in C or C++. Rather than always giving the user the ability to define both the iteration step and halting condition, Python’s for statement iterates over the items of any sequence (a list or a string), in the order that they appear in the sequence.</p>"
      ]
    },
    {
      "cell_type": "code",
      "execution_count": 16,
      "metadata": {
        "colab": {
          "base_uri": "https://localhost:8080/"
        },
        "id": "k6eiUKVF9OBU",
        "outputId": "fa124566-af03-4eb7-c354-a027d1ba3024"
      },
      "outputs": [
        {
          "output_type": "stream",
          "name": "stdout",
          "text": [
            "the word is:dinajpur\n",
            "the word is:dhaka\n",
            "the word is:ctg\n",
            "the word is:rangpur\n"
          ]
        }
      ],
      "source": [
        "# Measure some strings:\n",
        "cities = ['dinajpur', 'dhaka', 'ctg','rangpur']\n",
        "for a in cities:\n",
        "    print(f'the word is:{a}')"
      ]
    },
    {
      "cell_type": "code",
      "source": [
        "list(range(len(cities)))"
      ],
      "metadata": {
        "colab": {
          "base_uri": "https://localhost:8080/"
        },
        "id": "-FTCswVpc4Dd",
        "outputId": "64fa5c20-d2f1-4b84-aa30-36016d1ca407"
      },
      "execution_count": 17,
      "outputs": [
        {
          "output_type": "execute_result",
          "data": {
            "text/plain": [
              "[0, 1, 2, 3]"
            ]
          },
          "metadata": {},
          "execution_count": 17
        }
      ]
    },
    {
      "cell_type": "code",
      "source": [
        "cities = ['dinajpur', 'dhaka', 'ctg','rangpur']\n",
        "for i in range(len(cities)):\n",
        "    print(f'the word is:{cities[i]}')"
      ],
      "metadata": {
        "colab": {
          "base_uri": "https://localhost:8080/"
        },
        "id": "NdM3WOnovXx2",
        "outputId": "229674d6-0a43-4e65-ce2c-8d3f252ea90d"
      },
      "execution_count": 18,
      "outputs": [
        {
          "output_type": "stream",
          "name": "stdout",
          "text": [
            "the word is:dinajpur\n",
            "the word is:dhaka\n",
            "the word is:ctg\n",
            "the word is:rangpur\n"
          ]
        }
      ]
    },
    {
      "cell_type": "code",
      "source": [
        "list(range(4))"
      ],
      "metadata": {
        "colab": {
          "base_uri": "https://localhost:8080/"
        },
        "id": "B-5xBavXMl2m",
        "outputId": "e7bf35a1-e037-43d0-ca3b-a52ccb19d4d2"
      },
      "execution_count": 19,
      "outputs": [
        {
          "output_type": "execute_result",
          "data": {
            "text/plain": [
              "[0, 1, 2, 3]"
            ]
          },
          "metadata": {},
          "execution_count": 19
        }
      ]
    },
    {
      "cell_type": "code",
      "source": [
        "list(range(4,10))"
      ],
      "metadata": {
        "colab": {
          "base_uri": "https://localhost:8080/"
        },
        "id": "-XYDNRM5M6vy",
        "outputId": "b21e3e34-736b-4f07-d845-e4ce058e69dc"
      },
      "execution_count": null,
      "outputs": [
        {
          "output_type": "execute_result",
          "data": {
            "text/plain": [
              "[4, 5, 6, 7, 8, 9]"
            ]
          },
          "metadata": {},
          "execution_count": 7
        }
      ]
    },
    {
      "cell_type": "code",
      "source": [
        "list(range(4,10,2))"
      ],
      "metadata": {
        "colab": {
          "base_uri": "https://localhost:8080/"
        },
        "id": "lwn8tUUxNFbv",
        "outputId": "6b8e7046-6175-46b7-8e16-225f429174a5"
      },
      "execution_count": null,
      "outputs": [
        {
          "output_type": "execute_result",
          "data": {
            "text/plain": [
              "[4, 6, 8]"
            ]
          },
          "metadata": {},
          "execution_count": 8
        }
      ]
    },
    {
      "cell_type": "markdown",
      "metadata": {
        "id": "OnIIzz_29OBX"
      },
      "source": [
        "### The range() Function\n",
        "If you do need to iterate over a sequence of numbers, the built-in function range() comes in handy. It generates arithmetic progressions:"
      ]
    },
    {
      "cell_type": "code",
      "source": [
        "list(range(6,12,2))"
      ],
      "metadata": {
        "colab": {
          "base_uri": "https://localhost:8080/"
        },
        "id": "22etO_4J87wJ",
        "outputId": "cd9abaf4-111d-4e16-a4c3-e0de25872f9c"
      },
      "execution_count": 21,
      "outputs": [
        {
          "output_type": "execute_result",
          "data": {
            "text/plain": [
              "[6, 8, 10]"
            ]
          },
          "metadata": {},
          "execution_count": 21
        }
      ]
    },
    {
      "cell_type": "code",
      "execution_count": 23,
      "metadata": {
        "colab": {
          "base_uri": "https://localhost:8080/"
        },
        "id": "gxRxRU9B9OBW",
        "outputId": "7b261807-23c1-44ea-fc36-1f20c945e92a"
      },
      "outputs": [
        {
          "output_type": "stream",
          "name": "stdout",
          "text": [
            "11\n",
            "16\n",
            "18\n",
            "17\n"
          ]
        }
      ],
      "source": [
        "numbers = [1, 6, 8,7]\n",
        "\n",
        "for n in numbers:\n",
        "    print(n+10)"
      ]
    },
    {
      "cell_type": "code",
      "source": [
        "list(range(3))"
      ],
      "metadata": {
        "colab": {
          "base_uri": "https://localhost:8080/"
        },
        "id": "xM7Q3lOs1Zq1",
        "outputId": "607ab281-a0db-4c3d-c689-a8ad5474dfb8"
      },
      "execution_count": 24,
      "outputs": [
        {
          "output_type": "execute_result",
          "data": {
            "text/plain": [
              "[0, 1, 2]"
            ]
          },
          "metadata": {},
          "execution_count": 24
        }
      ]
    },
    {
      "cell_type": "code",
      "execution_count": 28,
      "metadata": {
        "colab": {
          "base_uri": "https://localhost:8080/"
        },
        "id": "eIvd_Nhy9OBY",
        "outputId": "327e001b-5d99-426e-86ba-81c572d72400"
      },
      "outputs": [
        {
          "output_type": "stream",
          "name": "stdout",
          "text": [
            "0\n",
            "2\n",
            "4\n",
            "6\n",
            "8\n",
            "10\n"
          ]
        }
      ],
      "source": [
        "# repeated for 0 to 4\n",
        " #for(i=0;i<5;i++)\n",
        "for i in range(0,12,2):\n",
        "    print(i)"
      ]
    },
    {
      "cell_type": "markdown",
      "source": [],
      "metadata": {
        "id": "AchXCJANSxdv"
      }
    },
    {
      "cell_type": "markdown",
      "metadata": {
        "id": "Tdu8trNj9OBZ"
      },
      "source": [
        "<p style=\"text-align: justify\">The given end point is never part of the generated sequence; range(10) generates 10 values, the legal indices for items of a sequence of length 10. It is possible to let the range start at another number, or to specify a different increment (even negative; sometimes this is called the ‘step’):</p>"
      ]
    },
    {
      "cell_type": "code",
      "execution_count": 30,
      "metadata": {
        "colab": {
          "base_uri": "https://localhost:8080/"
        },
        "id": "0l562ow69OBZ",
        "outputId": "e10b44ff-a885-4851-b2a4-cca874e080cd"
      },
      "outputs": [
        {
          "output_type": "execute_result",
          "data": {
            "text/plain": [
              "[5, 6, 7, 8, 9, 10, 11]"
            ]
          },
          "metadata": {},
          "execution_count": 30
        }
      ],
      "source": [
        "list(range(5, 12))"
      ]
    },
    {
      "cell_type": "code",
      "execution_count": 31,
      "metadata": {
        "colab": {
          "base_uri": "https://localhost:8080/"
        },
        "id": "7cGVhf0o9OBa",
        "outputId": "ae74faa6-8d3e-4e8f-88b9-ace410ef2acc"
      },
      "outputs": [
        {
          "output_type": "execute_result",
          "data": {
            "text/plain": [
              "[5]"
            ]
          },
          "metadata": {},
          "execution_count": 31
        }
      ],
      "source": [
        "list(range(5, 10, 8))"
      ]
    },
    {
      "cell_type": "code",
      "source": [
        "list(range(20, 3, -2))"
      ],
      "metadata": {
        "colab": {
          "base_uri": "https://localhost:8080/"
        },
        "id": "iJrB_nyirUin",
        "outputId": "fb640308-8383-4aeb-bcfa-371a60fb4e13"
      },
      "execution_count": 32,
      "outputs": [
        {
          "output_type": "execute_result",
          "data": {
            "text/plain": [
              "[20, 18, 16, 14, 12, 10, 8, 6, 4]"
            ]
          },
          "metadata": {},
          "execution_count": 32
        }
      ]
    },
    {
      "cell_type": "code",
      "execution_count": 33,
      "metadata": {
        "colab": {
          "base_uri": "https://localhost:8080/"
        },
        "id": "NySucrFE9OBa",
        "outputId": "6f765716-c131-46f3-c60a-08b4887b56bf"
      },
      "outputs": [
        {
          "output_type": "execute_result",
          "data": {
            "text/plain": [
              "[-6, -36, -66, -96, -126, -156, -186]"
            ]
          },
          "metadata": {},
          "execution_count": 33
        }
      ],
      "source": [
        "list(range(-6, -200, -30))"
      ]
    },
    {
      "cell_type": "code",
      "execution_count": 34,
      "metadata": {
        "colab": {
          "base_uri": "https://localhost:8080/"
        },
        "id": "XF2vWGQb9OBb",
        "outputId": "ba77e68b-14ce-4e10-e873-0d2bf79dd7a8"
      },
      "outputs": [
        {
          "output_type": "stream",
          "name": "stdout",
          "text": [
            "0 1\n",
            "1 6\n",
            "2 8\n",
            "3 7\n"
          ]
        }
      ],
      "source": [
        "for i in range(len(numbers)):\n",
        "    print(i, numbers[i])"
      ]
    },
    {
      "cell_type": "code",
      "execution_count": 35,
      "metadata": {
        "colab": {
          "base_uri": "https://localhost:8080/"
        },
        "id": "O4fHt_Qt9OBb",
        "outputId": "3af6612f-cd0a-4162-ffbd-e86411d69567"
      },
      "outputs": [
        {
          "output_type": "stream",
          "name": "stdout",
          "text": [
            "2,8,14,20,26,32,38,44,50,56,62,68,74,80,86,92,98,104,110,116,122,128,134,140,146,152,158,164,170,176,182,188,194,"
          ]
        }
      ],
      "source": [
        "for i in range(2,200,6):\n",
        "    print(i,end=',')"
      ]
    },
    {
      "cell_type": "markdown",
      "metadata": {
        "id": "_0M3Y1F09OBc"
      },
      "source": [
        "<b>Exercise 2:</b> Print all the even numbers between 0 to 100 using <b>for loop</b> and <b>range</b>."
      ]
    },
    {
      "cell_type": "code",
      "execution_count": 37,
      "metadata": {
        "id": "nzKgmsMy9OBc",
        "colab": {
          "base_uri": "https://localhost:8080/"
        },
        "outputId": "2d9fb308-d497-49d5-e17a-252cd7038c74"
      },
      "outputs": [
        {
          "output_type": "stream",
          "name": "stdout",
          "text": [
            "0, 2, 4, 6, 8, 10, 12, 14, 16, 18, 20, 22, 24, 26, 28, 30, 32, 34, 36, 38, 40, 42, 44, 46, 48, 50, 52, 54, 56, 58, 60, 62, 64, 66, 68, 70, 72, 74, 76, 78, 80, 82, 84, 86, 88, 90, 92, 94, 96, 98, 100, "
          ]
        }
      ],
      "source": [
        "for i in range(0, 101, 2):\n",
        "    print(i, end=', ')"
      ]
    },
    {
      "cell_type": "code",
      "execution_count": 38,
      "metadata": {
        "colab": {
          "base_uri": "https://localhost:8080/"
        },
        "id": "CxyodY3I9OBd",
        "outputId": "64ff262b-db02-4994-e0dc-17d0d2ccea9f"
      },
      "outputs": [
        {
          "output_type": "stream",
          "name": "stdout",
          "text": [
            "b a n g l a d e s h "
          ]
        }
      ],
      "source": [
        "country = \"bangladesh\"\n",
        "for xyz in country:\n",
        "    print(xyz,end=' ')"
      ]
    },
    {
      "cell_type": "markdown",
      "metadata": {
        "id": "UpWE7Kch9OBd"
      },
      "source": [
        "# Functions\n",
        "<p style=\"text-align: justify\">The keyword def introduces a function definition. It must be followed by the function name and the parenthesized list of formal parameters. The statements that form the body of the function start at the next line, and must be indented.</p>"
      ]
    },
    {
      "cell_type": "code",
      "source": [
        "from math import sqrt\n",
        "\n",
        "def is_prime(num):\n",
        "  if num <= 1:\n",
        "    return False\n",
        "  for i in range(2, int(sqrt(num)) + 1):\n",
        "    if num % i == 0:\n",
        "      return False\n",
        "  return True\n",
        "\n",
        "# Check if a few numbers are prime\n",
        "numbers = [2, 3, 4, 5, 6, 7, 8, 9, 10, 11,12,13,14]\n",
        "for num in numbers:\n",
        "  if is_prime(num):\n",
        "    print(f'{num} is a prime')\n",
        "  else:\n",
        "    print(f'{num} is not a prime')\n"
      ],
      "metadata": {
        "id": "YRU1pFyIKR5B",
        "colab": {
          "base_uri": "https://localhost:8080/"
        },
        "outputId": "9c25cecc-8d24-49a7-c229-147dbf70369b"
      },
      "execution_count": 39,
      "outputs": [
        {
          "output_type": "stream",
          "name": "stdout",
          "text": [
            "2 is a prime\n",
            "3 is a prime\n",
            "4 is not a prime\n",
            "5 is a prime\n",
            "6 is not a prime\n",
            "7 is a prime\n",
            "8 is not a prime\n",
            "9 is not a prime\n",
            "10 is not a prime\n",
            "11 is a prime\n",
            "12 is not a prime\n",
            "13 is a prime\n",
            "14 is not a prime\n"
          ]
        }
      ]
    },
    {
      "cell_type": "code",
      "execution_count": 41,
      "metadata": {
        "id": "zZaBBUgb9OBd"
      },
      "outputs": [],
      "source": [
        "def fib(n):    # write Fibonacci series up to n\n",
        "    lst = [0,1]\n",
        "    a, b = 0, 1\n",
        "    while True:\n",
        "        print(a, end=' ')\n",
        "        a, b = b, a+b\n",
        "        if b < n:\n",
        "          lst.append(b)\n",
        "        else:\n",
        "          break\n",
        "        print()\n",
        "    return lst\n"
      ]
    },
    {
      "cell_type": "code",
      "execution_count": 43,
      "metadata": {
        "colab": {
          "base_uri": "https://localhost:8080/"
        },
        "id": "aFCr3Pc99OBe",
        "outputId": "27f6fe4c-305c-4f6c-96f5-3548cec1f63a"
      },
      "outputs": [
        {
          "output_type": "stream",
          "name": "stdout",
          "text": [
            "0 \n",
            "1 \n",
            "1 \n",
            "2 \n",
            "3 \n",
            "5 \n",
            "8 \n",
            "13 \n",
            "21 \n",
            "34 \n",
            "55 [0, 1, 1, 2, 3, 5, 8, 13, 21, 34, 55, 89]\n"
          ]
        }
      ],
      "source": [
        "# Now call the function we just defined:\n",
        "r = fib(100)\n",
        "print(r)"
      ]
    },
    {
      "cell_type": "code",
      "execution_count": 48,
      "metadata": {
        "id": "_SueK7ww9OBe"
      },
      "outputs": [],
      "source": [
        "# define method\n",
        "def addnumbers(a, b): # add numbers and return result\n",
        "    # logic\n",
        "    c = a + b\n",
        "    return c"
      ]
    },
    {
      "cell_type": "code",
      "source": [
        "addnumbers(6,23)"
      ],
      "metadata": {
        "id": "8fRPogdbzLSI",
        "colab": {
          "base_uri": "https://localhost:8080/"
        },
        "outputId": "71ecc1e0-e502-4f0d-f658-3c391d286ced"
      },
      "execution_count": 49,
      "outputs": [
        {
          "output_type": "execute_result",
          "data": {
            "text/plain": [
              "29"
            ]
          },
          "metadata": {},
          "execution_count": 49
        }
      ]
    },
    {
      "cell_type": "code",
      "execution_count": 50,
      "metadata": {
        "colab": {
          "base_uri": "https://localhost:8080/"
        },
        "id": "WX14lRM59OBe",
        "outputId": "61b88439-eef2-44f7-af16-b67c9247758e"
      },
      "outputs": [
        {
          "output_type": "stream",
          "name": "stdout",
          "text": [
            "4090\n"
          ]
        }
      ],
      "source": [
        "y = addnumbers('40', '90') # use or call method\n",
        "print(y)"
      ]
    },
    {
      "cell_type": "code",
      "execution_count": 52,
      "metadata": {
        "id": "rVpfHNMo9OBf",
        "outputId": "b75e5795-0449-496e-bc93-fd9119575dcc",
        "colab": {
          "base_uri": "https://localhost:8080/"
        }
      },
      "outputs": [
        {
          "output_type": "execute_result",
          "data": {
            "text/plain": [
              "[33, 7, 6]"
            ]
          },
          "metadata": {},
          "execution_count": 52
        }
      ],
      "source": [
        "addnumbers([33,7], [6])"
      ]
    },
    {
      "cell_type": "code",
      "execution_count": 53,
      "metadata": {
        "id": "S1xGUH_N9OBf"
      },
      "outputs": [],
      "source": [
        "# add list values\n",
        "def addValues(num):\n",
        "    sum = 0\n",
        "    for n in num:\n",
        "        sum = sum+ n\n",
        "    return sum"
      ]
    },
    {
      "cell_type": "code",
      "source": [
        "addValues(range(20))"
      ],
      "metadata": {
        "colab": {
          "base_uri": "https://localhost:8080/"
        },
        "id": "I4W3uWLsrH-4",
        "outputId": "5ca594f4-5002-4d58-b47f-2b7c5fcd3f62"
      },
      "execution_count": 54,
      "outputs": [
        {
          "output_type": "execute_result",
          "data": {
            "text/plain": [
              "190"
            ]
          },
          "metadata": {},
          "execution_count": 54
        }
      ]
    },
    {
      "cell_type": "code",
      "execution_count": 55,
      "metadata": {
        "id": "CqJJSRvK9OBf",
        "colab": {
          "base_uri": "https://localhost:8080/"
        },
        "outputId": "c86a38f9-48d7-4475-b9d7-6fab0303801c"
      },
      "outputs": [
        {
          "output_type": "execute_result",
          "data": {
            "text/plain": [
              "0"
            ]
          },
          "metadata": {},
          "execution_count": 55
        }
      ],
      "source": [
        "addValues([])"
      ]
    },
    {
      "cell_type": "code",
      "execution_count": 56,
      "metadata": {
        "id": "egl16dJp9OBg",
        "colab": {
          "base_uri": "https://localhost:8080/"
        },
        "outputId": "b383249d-b87e-4213-c6d9-5b1a55917999"
      },
      "outputs": [
        {
          "output_type": "execute_result",
          "data": {
            "text/plain": [
              "8"
            ]
          },
          "metadata": {},
          "execution_count": 56
        }
      ],
      "source": [
        "v = [5, 2, 1]\n",
        "addValues(v)"
      ]
    },
    {
      "cell_type": "code",
      "execution_count": 57,
      "metadata": {
        "id": "HKIYxiaK9OBg",
        "colab": {
          "base_uri": "https://localhost:8080/"
        },
        "outputId": "48037118-137a-451f-aa1f-e47e62380a27"
      },
      "outputs": [
        {
          "output_type": "execute_result",
          "data": {
            "text/plain": [
              "56"
            ]
          },
          "metadata": {},
          "execution_count": 57
        }
      ],
      "source": [
        "v = [5, 4,12, 7, 5,4,12, 7]\n",
        "addValues(v)"
      ]
    },
    {
      "cell_type": "code",
      "execution_count": 61,
      "metadata": {
        "id": "SksLGPeh9OBh"
      },
      "outputs": [],
      "source": [
        "# method/function\n",
        "def multiTable(n, r=10):\n",
        "    for i in range(1,r+1):\n",
        "        print(\"{}x{}={}\".format(n,i,n*i))"
      ]
    },
    {
      "cell_type": "code",
      "execution_count": 62,
      "metadata": {
        "id": "5X6DqTib9OBh",
        "colab": {
          "base_uri": "https://localhost:8080/"
        },
        "outputId": "e4691ad9-323b-4fd6-cf23-f2afe106623f"
      },
      "outputs": [
        {
          "output_type": "stream",
          "name": "stdout",
          "text": [
            "2x1=2\n",
            "2x2=4\n",
            "2x3=6\n",
            "2x4=8\n",
            "2x5=10\n",
            "2x6=12\n",
            "2x7=14\n",
            "2x8=16\n",
            "2x9=18\n",
            "2x10=20\n"
          ]
        }
      ],
      "source": [
        "multiTable(2)"
      ]
    },
    {
      "cell_type": "code",
      "execution_count": 63,
      "metadata": {
        "id": "gfyLgPF29OBh",
        "colab": {
          "base_uri": "https://localhost:8080/"
        },
        "outputId": "d22af757-d887-4707-9363-84bec03e18f2"
      },
      "outputs": [
        {
          "output_type": "stream",
          "name": "stdout",
          "text": [
            "18x1=18\n",
            "18x2=36\n",
            "18x3=54\n",
            "18x4=72\n",
            "18x5=90\n",
            "18x6=108\n",
            "18x7=126\n",
            "18x8=144\n",
            "18x9=162\n",
            "18x10=180\n"
          ]
        }
      ],
      "source": [
        "multiTable(18)"
      ]
    },
    {
      "cell_type": "markdown",
      "metadata": {
        "id": "ICNPFsDQ9OBh"
      },
      "source": [
        "<b>Exercise 3:</b> Define a <b>method/function</b> which will take two lists of numbers and returns a list (sum of two lists)\n",
        "<p>Example:<br>\n",
        "    Input: [3,4,5,1] and [6,7,2,8]<br>\n",
        "    output: [9,11,7,9]</p>\n"
      ]
    },
    {
      "cell_type": "code",
      "execution_count": 65,
      "metadata": {
        "id": "5MPMcHnz9OBi",
        "colab": {
          "base_uri": "https://localhost:8080/"
        },
        "outputId": "eb1066bf-64a8-480c-c1c2-8048286ed078"
      },
      "outputs": [
        {
          "output_type": "stream",
          "name": "stdout",
          "text": [
            "[9, 11, 7, 9]\n"
          ]
        }
      ],
      "source": [
        "def sumLists(list1, list2):\n",
        "    return [a + b for a, b in zip(list1, list2)]\n",
        "\n",
        "list1 = [3, 4, 5, 1]\n",
        "list2 = [6, 7, 2, 8]\n",
        "\n",
        "output = sumLists(list1, list2)\n",
        "print(output)"
      ]
    },
    {
      "cell_type": "markdown",
      "metadata": {
        "id": "DSjaC86G9OBi"
      },
      "source": [
        "<b> Exercise 4:</b> Write a <b>method</b> which will take the <b>full name</b> as input and return both the first name and last name.\n",
        "<p>Example:<br>\n",
        "    Input: Arafat Rahman Sunny<br>\n",
        "    Output: First name: Arafat, Last name: Sunny</p>"
      ]
    },
    {
      "cell_type": "code",
      "execution_count": 70,
      "metadata": {
        "id": "HCpI48lj9OBi",
        "colab": {
          "base_uri": "https://localhost:8080/"
        },
        "outputId": "e559e228-c129-45bc-f489-2abaed152eb4"
      },
      "outputs": [
        {
          "output_type": "stream",
          "name": "stdout",
          "text": [
            "Enter Your Full Name: Tridib Sarkar\n",
            "Your Name is: Tridib Sarkar\n",
            "First Name: Tridib\n",
            "Last Name: Sarkar\n"
          ]
        }
      ],
      "source": [
        "def names(name):\n",
        "    name_parts = name.split()\n",
        "    return name_parts[0], name_parts[-1]\n",
        "name = input('Enter Your Full Name: ')\n",
        "print('Your Name is: ' +name)\n",
        "first_name, last_name = names(name)\n",
        "print(f\"First Name: {first_name}\")\n",
        "print(f\"Last Name: {last_name}\")"
      ]
    },
    {
      "cell_type": "markdown",
      "metadata": {
        "id": "rQ1Zq6Dm9OBj"
      },
      "source": [
        "# Output Formatting (Optional)\n",
        "Go to the [link](https://docs.python.org/3/tutorial/inputoutput.html#formatted-string-literals) and practice the codes below."
      ]
    },
    {
      "cell_type": "code",
      "execution_count": null,
      "metadata": {
        "id": "yFN0SVO29OBj"
      },
      "outputs": [],
      "source": [
        "# code here"
      ]
    }
  ],
  "metadata": {
    "kernelspec": {
      "display_name": "Python 3",
      "language": "python",
      "name": "python3"
    },
    "language_info": {
      "codemirror_mode": {
        "name": "ipython",
        "version": 3
      },
      "file_extension": ".py",
      "mimetype": "text/x-python",
      "name": "python",
      "nbconvert_exporter": "python",
      "pygments_lexer": "ipython3",
      "version": "3.8.5"
    },
    "colab": {
      "provenance": []
    }
  },
  "nbformat": 4,
  "nbformat_minor": 0
}