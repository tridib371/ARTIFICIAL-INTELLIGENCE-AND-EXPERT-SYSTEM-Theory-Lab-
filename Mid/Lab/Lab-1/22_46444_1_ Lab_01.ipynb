{
  "cells": [
    {
      "cell_type": "markdown",
      "metadata": {
        "id": "tUakohw5RzmN"
      },
      "source": [
        "# About this notebook\n",
        "<p style=\"text-align: justify\"> Here, you will learn the basic coding and data structures including numbers, strings, list, dictionaries and more. Some codes already done for demonstration. Some other codes, you will do as excercises.</p>\n",
        "\n",
        "## Submission\n",
        "<p style=\"text-align: justify\">After completing the practice codes and exercises, download the notebook (.pynb file) and submit the notebook  to MS Teams inbox in the class period</p>\n",
        "<p> 1.<b> You must submit your own code</b>. If similarity found negative marking will be given.</p>\n",
        "<p> 2. Modify the file name writing ID at the beigining of the file name. </p><p><b>Example: 20-45961-3 Lab 01.ipynb</b></p>\n",
        "<p> 3. Other file format (except .pynb) or link will not be accepted.</p>"
      ]
    },
    {
      "cell_type": "markdown",
      "source": [
        "# **INSTRUCTION**"
      ],
      "metadata": {
        "id": "7jKOIUPVzjYM"
      }
    },
    {
      "cell_type": "markdown",
      "metadata": {
        "id": "iQlhsnAxRzmQ"
      },
      "source": [
        "# Number"
      ]
    },
    {
      "cell_type": "code",
      "execution_count": null,
      "metadata": {
        "id": "EgjVFy62RzmR",
        "outputId": "8eb7a6c9-8724-49ea-aae6-1209fbaf66ca",
        "colab": {
          "base_uri": "https://localhost:8080/"
        }
      },
      "outputs": [
        {
          "output_type": "execute_result",
          "data": {
            "text/plain": [
              "14"
            ]
          },
          "metadata": {},
          "execution_count": 7
        }
      ],
      "source": [
        "# basic numeric operations\n",
        "32 - 18"
      ]
    },
    {
      "cell_type": "code",
      "execution_count": null,
      "metadata": {
        "id": "F0FimSxMRzmS",
        "outputId": "6f60e0a8-7eea-436a-86fc-c89f956a470a",
        "colab": {
          "base_uri": "https://localhost:8080/"
        }
      },
      "outputs": [
        {
          "output_type": "execute_result",
          "data": {
            "text/plain": [
              "4.0"
            ]
          },
          "metadata": {},
          "execution_count": 8
        }
      ],
      "source": [
        "# classic division returns a float\n",
        "32/8"
      ]
    },
    {
      "cell_type": "code",
      "execution_count": null,
      "metadata": {
        "id": "CjDuJ9zqRzmS",
        "outputId": "257b9b91-31d2-4be7-887a-a70020eca2f2",
        "colab": {
          "base_uri": "https://localhost:8080/"
        }
      },
      "outputs": [
        {
          "output_type": "execute_result",
          "data": {
            "text/plain": [
              "8"
            ]
          },
          "metadata": {},
          "execution_count": 10
        }
      ],
      "source": [
        "# floor division discards the fractional part\n",
        "52 // 6"
      ]
    },
    {
      "cell_type": "code",
      "execution_count": null,
      "metadata": {
        "id": "q8eSw206RzmT",
        "outputId": "9a8dc980-a8f2-4c41-cc38-c2ecdd2c4fdf",
        "colab": {
          "base_uri": "https://localhost:8080/"
        }
      },
      "outputs": [
        {
          "output_type": "stream",
          "name": "stdout",
          "text": [
            "50.0\n"
          ]
        }
      ],
      "source": [
        "# assigin value to variable for later use\n",
        "a = 500 / 10\n",
        "print(a)"
      ]
    },
    {
      "cell_type": "code",
      "execution_count": null,
      "metadata": {
        "id": "NiPvZZDiRzmT",
        "outputId": "eeedc9ff-7519-4a04-9b7a-b58619e51285",
        "colab": {
          "base_uri": "https://localhost:8080/"
        }
      },
      "outputs": [
        {
          "output_type": "stream",
          "name": "stdout",
          "text": [
            "250.0\n"
          ]
        }
      ],
      "source": [
        "# use the variable a for further operations\n",
        "b = a*5\n",
        "print(b)"
      ]
    },
    {
      "cell_type": "code",
      "execution_count": null,
      "metadata": {
        "id": "DxWMtt3-RzmU",
        "colab": {
          "base_uri": "https://localhost:8080/"
        },
        "outputId": "ea56c75f-7b08-4cc5-9490-7d2ef121fde7"
      },
      "outputs": [
        {
          "output_type": "stream",
          "name": "stdout",
          "text": [
            "1024\n"
          ]
        }
      ],
      "source": [
        "a=2 ** 10\n",
        "print(a)"
      ]
    },
    {
      "cell_type": "markdown",
      "metadata": {
        "id": "dh1UZFy3RzmU"
      },
      "source": [
        "<b>Exercise 1:</b> Assign values to some variables and perform different operations. Also print the results."
      ]
    },
    {
      "cell_type": "code",
      "execution_count": null,
      "metadata": {
        "id": "M7JxL3K4RzmV",
        "colab": {
          "base_uri": "https://localhost:8080/"
        },
        "outputId": "184d2521-14ee-46e4-846d-62e482b277da"
      },
      "outputs": [
        {
          "output_type": "stream",
          "name": "stdout",
          "text": [
            "100.0\n"
          ]
        }
      ],
      "source": [
        "# code here\n",
        "t=800\n",
        "b=8\n",
        "z=t/b\n",
        "print(z)"
      ]
    },
    {
      "cell_type": "markdown",
      "metadata": {
        "id": "fdbNBNHLRzmV"
      },
      "source": [
        "# Import Module\n",
        "<p style=\"text-align: justify\"> Python code in one module gains access to the code in another module by the process of importing it. The import statement is the most common way of invoking the import machinery.</p>\n",
        "\n",
        "<p style=\"text-align: justify\">Python’s standard library is very extensive, offering a wide range of facilities. The library contains built-in modules (written in C) that provide access to system functionality such as file I/O that would otherwise be inaccessible to Python programmers, as well as modules written in Python that provide standardized solutions for many problems that occur in everyday programming. Some of these modules are explicitly designed to encourage and enhance the portability of Python programs by abstracting away platform-specifics into platform-neutral APIs.</p>\n",
        "\n",
        "<b> Example:</b> Python has a built-in module that you can use for mathematical tasks. The math module has a set of methods and constants. The detail documentation can be found [here](https://docs.python.org/3/library/math.html)."
      ]
    },
    {
      "cell_type": "code",
      "execution_count": null,
      "metadata": {
        "id": "W_qIawhDRzmV",
        "outputId": "7685a409-489b-4b1c-bdca-b44c73a504d0",
        "colab": {
          "base_uri": "https://localhost:8080/"
        }
      },
      "outputs": [
        {
          "output_type": "stream",
          "name": "stdout",
          "text": [
            "6.283185307179586\n",
            "3.141592653589793\n"
          ]
        }
      ],
      "source": [
        "# importing the math module\n",
        "import math\n",
        "# accessing the constant π from math\n",
        "print(math.tau)\n",
        "print(math.pi)"
      ]
    },
    {
      "cell_type": "code",
      "execution_count": null,
      "metadata": {
        "id": "Q8HYTDiKRzmW",
        "outputId": "98a5023c-858e-40d8-a7e6-fadbe3cf9b2e",
        "colab": {
          "base_uri": "https://localhost:8080/"
        }
      },
      "outputs": [
        {
          "output_type": "execute_result",
          "data": {
            "text/plain": [
              "4.0"
            ]
          },
          "metadata": {},
          "execution_count": 24
        }
      ],
      "source": [
        "# using the method sqrt from math\n",
        "math.sqrt(16)"
      ]
    },
    {
      "cell_type": "code",
      "source": [
        "math.factorial(6)"
      ],
      "metadata": {
        "colab": {
          "base_uri": "https://localhost:8080/"
        },
        "id": "ZbVf51impuQM",
        "outputId": "db9533d1-08d0-4952-cd02-00448956daf0"
      },
      "execution_count": null,
      "outputs": [
        {
          "output_type": "execute_result",
          "data": {
            "text/plain": [
              "720"
            ]
          },
          "metadata": {},
          "execution_count": 25
        }
      ]
    },
    {
      "cell_type": "code",
      "source": [
        "math.prod([5,7,9])"
      ],
      "metadata": {
        "colab": {
          "base_uri": "https://localhost:8080/"
        },
        "id": "JLWVp6Opp_R7",
        "outputId": "ddf7bdb8-b1a3-4d58-a588-0d6e4f0857aa"
      },
      "execution_count": null,
      "outputs": [
        {
          "output_type": "execute_result",
          "data": {
            "text/plain": [
              "315"
            ]
          },
          "metadata": {},
          "execution_count": 26
        }
      ]
    },
    {
      "cell_type": "markdown",
      "metadata": {
        "id": "SKFSp-jyRzmW"
      },
      "source": [
        "<b>Remember:</b> A cell always outputs the value of last variable. If you want to show other values use print. See the below cell for an example."
      ]
    },
    {
      "cell_type": "code",
      "execution_count": null,
      "metadata": {
        "id": "LplYC6VURzmW",
        "outputId": "89dee718-d6f2-4385-ccf3-815d3ffd7fbf",
        "colab": {
          "base_uri": "https://localhost:8080/"
        }
      },
      "outputs": [
        {
          "output_type": "stream",
          "name": "stdout",
          "text": [
            "3\n",
            "4096\n",
            "128.0\n"
          ]
        }
      ],
      "source": [
        "print(1+2)\n",
        "print(a*4)\n",
        "print(a/b)"
      ]
    },
    {
      "cell_type": "markdown",
      "metadata": {
        "id": "h5jaMCJgRzmX"
      },
      "source": [
        "<b>Exercise 2:</b> Import a module of your choice (other than math) and show some operations.<br>\n",
        "You can find one from all python module list [Click here](https://docs.python.org/3/py-modindex.html)."
      ]
    },
    {
      "cell_type": "code",
      "execution_count": null,
      "metadata": {
        "id": "qxLjqbuIRzmX",
        "colab": {
          "base_uri": "https://localhost:8080/"
        },
        "outputId": "fcb3b8f0-07d4-425a-e4c6-d7f15ca6c7d7"
      },
      "outputs": [
        {
          "output_type": "stream",
          "name": "stdout",
          "text": [
            "62\n"
          ]
        }
      ],
      "source": [
        "# code here\n",
        "import random\n",
        "print(random.randint(32,63))"
      ]
    },
    {
      "cell_type": "markdown",
      "metadata": {
        "id": "mzYaXui8RzmX"
      },
      "source": [
        "# Object types\n",
        "The basic object types are Numbers, Strings, Lists, Dictionaries, Tuples, Files and Other types (Sets, types, None, Booleans etc.)"
      ]
    },
    {
      "cell_type": "code",
      "source": [
        "a=18.23"
      ],
      "metadata": {
        "id": "m9Ph-hDmteoA"
      },
      "execution_count": null,
      "outputs": []
    },
    {
      "cell_type": "code",
      "execution_count": null,
      "metadata": {
        "id": "2RVFS2BPRzmX",
        "outputId": "3d80aa84-f2cf-4ca9-93f9-3721b54ccd84",
        "colab": {
          "base_uri": "https://localhost:8080/"
        }
      },
      "outputs": [
        {
          "output_type": "stream",
          "name": "stdout",
          "text": [
            "<class 'float'>\n",
            "<class 'int'>\n"
          ]
        }
      ],
      "source": [
        "# Checking the type of an object\n",
        "print(type(a))\n",
        "print(type(b))"
      ]
    },
    {
      "cell_type": "code",
      "execution_count": null,
      "metadata": {
        "id": "AjtCCy6zRzmY",
        "outputId": "e5e6dbbe-6223-40f2-aebf-f8e190cf1fba",
        "colab": {
          "base_uri": "https://localhost:8080/"
        }
      },
      "outputs": [
        {
          "output_type": "stream",
          "name": "stdout",
          "text": [
            "<class 'int'>\n"
          ]
        }
      ],
      "source": [
        "c = 12\n",
        "print(type(c))"
      ]
    },
    {
      "cell_type": "code",
      "execution_count": null,
      "metadata": {
        "id": "VeL6GwnsRzmY",
        "outputId": "307224c9-4f08-4688-d244-dd9d8f629c83",
        "colab": {
          "base_uri": "https://localhost:8080/"
        }
      },
      "outputs": [
        {
          "output_type": "stream",
          "name": "stdout",
          "text": [
            "<class 'str'>\n"
          ]
        }
      ],
      "source": [
        "d = '6yt'\n",
        "print(type(d))"
      ]
    },
    {
      "cell_type": "code",
      "execution_count": null,
      "metadata": {
        "id": "9ok8T1AlRzmY",
        "outputId": "c9055719-7c81-4339-c28c-4ab689b69d69",
        "colab": {
          "base_uri": "https://localhost:8080/"
        }
      },
      "outputs": [
        {
          "output_type": "stream",
          "name": "stdout",
          "text": [
            "<class 'float'>\n"
          ]
        }
      ],
      "source": [
        "c = 72.90\n",
        "print(type(c))"
      ]
    },
    {
      "cell_type": "code",
      "execution_count": null,
      "metadata": {
        "id": "oqxDaWmCRzmY",
        "outputId": "7366b4dc-cfdd-4d75-fc0c-5e5dd72c1a6f",
        "colab": {
          "base_uri": "https://localhost:8080/"
        }
      },
      "outputs": [
        {
          "output_type": "stream",
          "name": "stdout",
          "text": [
            "<class 'float'>\n"
          ]
        }
      ],
      "source": [
        "a = 32\n",
        "d = 10.12+a\n",
        "print(type(d))"
      ]
    },
    {
      "cell_type": "markdown",
      "metadata": {
        "id": "_3kFNbooRzmZ"
      },
      "source": [
        "# String"
      ]
    },
    {
      "cell_type": "code",
      "execution_count": null,
      "metadata": {
        "id": "4RDuLVuHRzmZ",
        "colab": {
          "base_uri": "https://localhost:8080/"
        },
        "outputId": "7c3bf67b-07b0-47a0-b581-f4b8911d5d8d"
      },
      "outputs": [
        {
          "output_type": "stream",
          "name": "stdout",
          "text": [
            "Germany\n"
          ]
        }
      ],
      "source": [
        "# assign value to a variable. The value can be qouted using '' or \"\"\n",
        "s = \"Germany\"\n",
        "print(s)"
      ]
    },
    {
      "cell_type": "code",
      "execution_count": null,
      "metadata": {
        "id": "YgdInV-bRzmZ",
        "outputId": "4ca09a1a-1887-4b42-eaee-46af6983cbca",
        "colab": {
          "base_uri": "https://localhost:8080/",
          "height": 36
        }
      },
      "outputs": [
        {
          "output_type": "execute_result",
          "data": {
            "text/plain": [
              "'m'"
            ],
            "application/vnd.google.colaboratory.intrinsic+json": {
              "type": "string"
            }
          },
          "metadata": {},
          "execution_count": 56
        }
      ],
      "source": [
        "# index\n",
        "s[3]"
      ]
    },
    {
      "cell_type": "code",
      "execution_count": null,
      "metadata": {
        "id": "SApsog7_RzmZ",
        "outputId": "52af83c5-7836-4a65-c6c2-ef8f277e939a",
        "colab": {
          "base_uri": "https://localhost:8080/",
          "height": 36
        }
      },
      "outputs": [
        {
          "output_type": "execute_result",
          "data": {
            "text/plain": [
              "'i'"
            ],
            "application/vnd.google.colaboratory.intrinsic+json": {
              "type": "string"
            }
          },
          "metadata": {},
          "execution_count": 60
        }
      ],
      "source": [
        "# negative index\n",
        "s = \"Tridib\"\n",
        "s[-2]"
      ]
    },
    {
      "cell_type": "markdown",
      "metadata": {
        "id": "0eT9wh_LRzma"
      },
      "source": [
        "When to use ' ' or \" \" ?"
      ]
    },
    {
      "cell_type": "markdown",
      "metadata": {
        "id": "WoJmaAijRzma"
      },
      "source": [
        "string operations with * and +"
      ]
    },
    {
      "cell_type": "code",
      "execution_count": null,
      "metadata": {
        "id": "BfxzLD9HRzma",
        "outputId": "8135fae3-df75-4d73-eaee-0d287042ff45",
        "colab": {
          "base_uri": "https://localhost:8080/",
          "height": 36
        }
      },
      "outputs": [
        {
          "output_type": "execute_result",
          "data": {
            "text/plain": [
              "'Tridib Tridib Tridib Tridib Tridib Tridib '"
            ],
            "application/vnd.google.colaboratory.intrinsic+json": {
              "type": "string"
            }
          },
          "metadata": {},
          "execution_count": 63
        }
      ],
      "source": [
        "'Tridib ' * 6"
      ]
    },
    {
      "cell_type": "code",
      "execution_count": null,
      "metadata": {
        "id": "BNSbM0HNRzma",
        "outputId": "266f4916-9efc-4513-cf57-fcfd220d9782",
        "colab": {
          "base_uri": "https://localhost:8080/",
          "height": 36
        }
      },
      "outputs": [
        {
          "output_type": "execute_result",
          "data": {
            "text/plain": [
              "'GoodGoodGoodGood'"
            ],
            "application/vnd.google.colaboratory.intrinsic+json": {
              "type": "string"
            }
          },
          "metadata": {},
          "execution_count": 68
        }
      ],
      "source": [
        "name='Good'\n",
        "name*4"
      ]
    },
    {
      "cell_type": "code",
      "execution_count": null,
      "metadata": {
        "id": "v6WtfbxURzma",
        "outputId": "cae00bdc-78b5-404c-ab66-e654a2248689",
        "colab": {
          "base_uri": "https://localhost:8080/",
          "height": 36
        }
      },
      "outputs": [
        {
          "output_type": "execute_result",
          "data": {
            "text/plain": [
              "'Tridib Sarkar'"
            ],
            "application/vnd.google.colaboratory.intrinsic+json": {
              "type": "string"
            }
          },
          "metadata": {},
          "execution_count": 67
        }
      ],
      "source": [
        "'Tridib ' + 'Sarkar'"
      ]
    },
    {
      "cell_type": "code",
      "execution_count": null,
      "metadata": {
        "id": "itSLVn7SRzmb",
        "outputId": "686aa04f-9e86-45ae-8e26-add7e5475873",
        "colab": {
          "base_uri": "https://localhost:8080/",
          "height": 36
        }
      },
      "outputs": [
        {
          "output_type": "execute_result",
          "data": {
            "text/plain": [
              "'Good hasan'"
            ],
            "application/vnd.google.colaboratory.intrinsic+json": {
              "type": "string"
            }
          },
          "metadata": {},
          "execution_count": 69
        }
      ],
      "source": [
        "name + ' hasan'"
      ]
    },
    {
      "cell_type": "code",
      "execution_count": null,
      "metadata": {
        "id": "AaNhu8QMRzmb",
        "outputId": "e81718d6-97fc-435d-a65c-4e3e2aae16f6",
        "colab": {
          "base_uri": "https://localhost:8080/"
        }
      },
      "outputs": [
        {
          "output_type": "stream",
          "name": "stdout",
          "text": [
            "dib Sa\n",
            "b Sarkar\n",
            "Tridib\n",
            "ar\n",
            "ridib \n",
            "rakraS bidirT\n"
          ]
        }
      ],
      "source": [
        "# slicing\n",
        "name = 'Tridib Sarkar'\n",
        "print(name[3:9])\n",
        "print(name[5:])\n",
        "print(name[:6])\n",
        "print(name[-2:])\n",
        "print(name[1:7:1])\n",
        "print(name[-1: :-1])"
      ]
    },
    {
      "cell_type": "code",
      "execution_count": null,
      "metadata": {
        "id": "k9ICF4NARzmb",
        "outputId": "88d94183-5334-4488-fbc4-c613f7d5b976",
        "colab": {
          "base_uri": "https://localhost:8080/",
          "height": 36
        }
      },
      "outputs": [
        {
          "output_type": "execute_result",
          "data": {
            "text/plain": [
              "'Sar'"
            ],
            "application/vnd.google.colaboratory.intrinsic+json": {
              "type": "string"
            }
          },
          "metadata": {},
          "execution_count": 73
        }
      ],
      "source": [
        "name[-6:-3]"
      ]
    },
    {
      "cell_type": "code",
      "execution_count": null,
      "metadata": {
        "id": "J6Q9RXwSRzmb",
        "colab": {
          "base_uri": "https://localhost:8080/"
        },
        "outputId": "642a8d29-8543-440f-bb3a-f5bcfffee151"
      },
      "outputs": [
        {
          "output_type": "execute_result",
          "data": {
            "text/plain": [
              "['__add__',\n",
              " '__class__',\n",
              " '__contains__',\n",
              " '__delattr__',\n",
              " '__dir__',\n",
              " '__doc__',\n",
              " '__eq__',\n",
              " '__format__',\n",
              " '__ge__',\n",
              " '__getattribute__',\n",
              " '__getitem__',\n",
              " '__getnewargs__',\n",
              " '__gt__',\n",
              " '__hash__',\n",
              " '__init__',\n",
              " '__init_subclass__',\n",
              " '__iter__',\n",
              " '__le__',\n",
              " '__len__',\n",
              " '__lt__',\n",
              " '__mod__',\n",
              " '__mul__',\n",
              " '__ne__',\n",
              " '__new__',\n",
              " '__reduce__',\n",
              " '__reduce_ex__',\n",
              " '__repr__',\n",
              " '__rmod__',\n",
              " '__rmul__',\n",
              " '__setattr__',\n",
              " '__sizeof__',\n",
              " '__str__',\n",
              " '__subclasshook__',\n",
              " 'capitalize',\n",
              " 'casefold',\n",
              " 'center',\n",
              " 'count',\n",
              " 'encode',\n",
              " 'endswith',\n",
              " 'expandtabs',\n",
              " 'find',\n",
              " 'format',\n",
              " 'format_map',\n",
              " 'index',\n",
              " 'isalnum',\n",
              " 'isalpha',\n",
              " 'isascii',\n",
              " 'isdecimal',\n",
              " 'isdigit',\n",
              " 'isidentifier',\n",
              " 'islower',\n",
              " 'isnumeric',\n",
              " 'isprintable',\n",
              " 'isspace',\n",
              " 'istitle',\n",
              " 'isupper',\n",
              " 'join',\n",
              " 'ljust',\n",
              " 'lower',\n",
              " 'lstrip',\n",
              " 'maketrans',\n",
              " 'partition',\n",
              " 'removeprefix',\n",
              " 'removesuffix',\n",
              " 'replace',\n",
              " 'rfind',\n",
              " 'rindex',\n",
              " 'rjust',\n",
              " 'rpartition',\n",
              " 'rsplit',\n",
              " 'rstrip',\n",
              " 'split',\n",
              " 'splitlines',\n",
              " 'startswith',\n",
              " 'strip',\n",
              " 'swapcase',\n",
              " 'title',\n",
              " 'translate',\n",
              " 'upper',\n",
              " 'zfill']"
            ]
          },
          "metadata": {},
          "execution_count": 75
        }
      ],
      "source": [
        "dir(name)"
      ]
    },
    {
      "cell_type": "markdown",
      "metadata": {
        "id": "TGAKdDQtRzmb"
      },
      "source": [
        "Some examples of string methods"
      ]
    },
    {
      "cell_type": "code",
      "execution_count": null,
      "metadata": {
        "id": "63sdbV7gRzmb",
        "outputId": "b5358f23-81b8-4c9b-b7da-84655da8d15a",
        "colab": {
          "base_uri": "https://localhost:8080/"
        }
      },
      "outputs": [
        {
          "output_type": "execute_result",
          "data": {
            "text/plain": [
              "0"
            ]
          },
          "metadata": {},
          "execution_count": 82
        }
      ],
      "source": [
        "name = 'Tridib Sarkar Turzo'\n",
        "sub = 'Ka'\n",
        "name.count(sub)"
      ]
    },
    {
      "cell_type": "code",
      "source": [
        "help(name.count)"
      ],
      "metadata": {
        "colab": {
          "base_uri": "https://localhost:8080/"
        },
        "id": "rGRSEOhfpNZj",
        "outputId": "916300dc-c1dd-4970-b31a-cd09eeb293dd"
      },
      "execution_count": null,
      "outputs": [
        {
          "output_type": "stream",
          "name": "stdout",
          "text": [
            "Help on built-in function count:\n",
            "\n",
            "count(...) method of builtins.str instance\n",
            "    S.count(sub[, start[, end]]) -> int\n",
            "    \n",
            "    Return the number of non-overlapping occurrences of substring sub in\n",
            "    string S[start:end].  Optional arguments start and end are\n",
            "    interpreted as in slice notation.\n",
            "\n"
          ]
        }
      ]
    },
    {
      "cell_type": "code",
      "execution_count": null,
      "metadata": {
        "id": "WFTSySe3Rzmc",
        "outputId": "8873fe2d-4783-4ea4-e264-8eacee05f032",
        "colab": {
          "base_uri": "https://localhost:8080/"
        }
      },
      "outputs": [
        {
          "output_type": "stream",
          "name": "stdout",
          "text": [
            "Turzo\n"
          ]
        }
      ],
      "source": [
        "print(name.split()[-1])"
      ]
    },
    {
      "cell_type": "code",
      "execution_count": null,
      "metadata": {
        "id": "sc6pVggQRzmc",
        "outputId": "4dfb695f-b6bf-4cfb-9199-3d91efb3297c",
        "colab": {
          "base_uri": "https://localhost:8080/"
        }
      },
      "outputs": [
        {
          "output_type": "execute_result",
          "data": {
            "text/plain": [
              "False"
            ]
          },
          "metadata": {},
          "execution_count": 86
        }
      ],
      "source": [
        "name.islower()"
      ]
    },
    {
      "cell_type": "code",
      "execution_count": null,
      "metadata": {
        "id": "SLicn7tNRzmc",
        "outputId": "de8d2c50-038f-4b94-99a5-70e07a61db41",
        "colab": {
          "base_uri": "https://localhost:8080/"
        }
      },
      "outputs": [
        {
          "output_type": "execute_result",
          "data": {
            "text/plain": [
              "['I am good', 'He is bad', 'This is good']"
            ]
          },
          "metadata": {},
          "execution_count": 88
        }
      ],
      "source": [
        "mystring = 'I am good\\nHe is bad\\nThis is good'\n",
        "mystring.splitlines()"
      ]
    },
    {
      "cell_type": "code",
      "execution_count": null,
      "metadata": {
        "id": "lZa1oYLBRzmc",
        "outputId": "c52bb55d-93ea-44cf-9a6b-c696df519d66",
        "colab": {
          "base_uri": "https://localhost:8080/"
        }
      },
      "outputs": [
        {
          "output_type": "execute_result",
          "data": {
            "text/plain": [
              "['I', 'am', 'fine\\nGood', 'Morning\\nThank', 'You']"
            ]
          },
          "metadata": {},
          "execution_count": 92
        }
      ],
      "source": [
        "mystring = 'I am fine\\nGood Morning\\nThank You'\n",
        "mystring.split(' ')"
      ]
    },
    {
      "cell_type": "code",
      "execution_count": null,
      "metadata": {
        "id": "ykc0YfK6Rzmc",
        "outputId": "d0204e88-ee2c-446a-d56d-ba50f35d272f",
        "colab": {
          "base_uri": "https://localhost:8080/",
          "height": 36
        }
      },
      "outputs": [
        {
          "output_type": "execute_result",
          "data": {
            "text/plain": [
              "'Cat??Dog??Goat??Ant'"
            ],
            "application/vnd.google.colaboratory.intrinsic+json": {
              "type": "string"
            }
          },
          "metadata": {},
          "execution_count": 94
        }
      ],
      "source": [
        "separator = '??'\n",
        "mystrings = ['Cat', 'Dog', 'Goat', 'Ant']\n",
        "separator.join(mystrings)"
      ]
    },
    {
      "cell_type": "code",
      "execution_count": null,
      "metadata": {
        "id": "6HTmr471Rzmc",
        "colab": {
          "base_uri": "https://localhost:8080/"
        },
        "outputId": "bd970faf-621d-48a0-9694-5ac155f04440"
      },
      "outputs": [
        {
          "output_type": "stream",
          "name": "stdout",
          "text": [
            "Help on built-in function count:\n",
            "\n",
            "count(...) method of builtins.str instance\n",
            "    S.count(sub[, start[, end]]) -> int\n",
            "    \n",
            "    Return the number of non-overlapping occurrences of substring sub in\n",
            "    string S[start:end].  Optional arguments start and end are\n",
            "    interpreted as in slice notation.\n",
            "\n"
          ]
        }
      ],
      "source": [
        "help(mystring.count)"
      ]
    },
    {
      "cell_type": "code",
      "execution_count": null,
      "metadata": {
        "id": "wbIi_KpeRzmc",
        "outputId": "ca7bd387-4a24-4fd9-c99d-617d882e4bff",
        "colab": {
          "base_uri": "https://localhost:8080/"
        }
      },
      "outputs": [
        {
          "output_type": "execute_result",
          "data": {
            "text/plain": [
              "19"
            ]
          },
          "metadata": {},
          "execution_count": 100
        }
      ],
      "source": [
        "len(name)"
      ]
    },
    {
      "cell_type": "code",
      "source": [
        "# check which functions you can use with variable 'name'\n",
        "dir(name)"
      ],
      "metadata": {
        "colab": {
          "base_uri": "https://localhost:8080/"
        },
        "id": "L5ZJ-zcJ872r",
        "outputId": "79e55c6d-0bb2-44a6-b1fc-24cb75753ef5"
      },
      "execution_count": null,
      "outputs": [
        {
          "output_type": "execute_result",
          "data": {
            "text/plain": [
              "['__add__',\n",
              " '__class__',\n",
              " '__contains__',\n",
              " '__delattr__',\n",
              " '__dir__',\n",
              " '__doc__',\n",
              " '__eq__',\n",
              " '__format__',\n",
              " '__ge__',\n",
              " '__getattribute__',\n",
              " '__getitem__',\n",
              " '__getnewargs__',\n",
              " '__gt__',\n",
              " '__hash__',\n",
              " '__init__',\n",
              " '__init_subclass__',\n",
              " '__iter__',\n",
              " '__le__',\n",
              " '__len__',\n",
              " '__lt__',\n",
              " '__mod__',\n",
              " '__mul__',\n",
              " '__ne__',\n",
              " '__new__',\n",
              " '__reduce__',\n",
              " '__reduce_ex__',\n",
              " '__repr__',\n",
              " '__rmod__',\n",
              " '__rmul__',\n",
              " '__setattr__',\n",
              " '__sizeof__',\n",
              " '__str__',\n",
              " '__subclasshook__',\n",
              " 'capitalize',\n",
              " 'casefold',\n",
              " 'center',\n",
              " 'count',\n",
              " 'encode',\n",
              " 'endswith',\n",
              " 'expandtabs',\n",
              " 'find',\n",
              " 'format',\n",
              " 'format_map',\n",
              " 'index',\n",
              " 'isalnum',\n",
              " 'isalpha',\n",
              " 'isascii',\n",
              " 'isdecimal',\n",
              " 'isdigit',\n",
              " 'isidentifier',\n",
              " 'islower',\n",
              " 'isnumeric',\n",
              " 'isprintable',\n",
              " 'isspace',\n",
              " 'istitle',\n",
              " 'isupper',\n",
              " 'join',\n",
              " 'ljust',\n",
              " 'lower',\n",
              " 'lstrip',\n",
              " 'maketrans',\n",
              " 'partition',\n",
              " 'removeprefix',\n",
              " 'removesuffix',\n",
              " 'replace',\n",
              " 'rfind',\n",
              " 'rindex',\n",
              " 'rjust',\n",
              " 'rpartition',\n",
              " 'rsplit',\n",
              " 'rstrip',\n",
              " 'split',\n",
              " 'splitlines',\n",
              " 'startswith',\n",
              " 'strip',\n",
              " 'swapcase',\n",
              " 'title',\n",
              " 'translate',\n",
              " 'upper',\n",
              " 'zfill']"
            ]
          },
          "metadata": {},
          "execution_count": 101
        }
      ]
    },
    {
      "cell_type": "code",
      "source": [
        "help(name.split)"
      ],
      "metadata": {
        "colab": {
          "base_uri": "https://localhost:8080/"
        },
        "id": "LB96x9cM9Z9_",
        "outputId": "d8ddbe36-e5be-42e6-e400-17324b21739c"
      },
      "execution_count": null,
      "outputs": [
        {
          "output_type": "stream",
          "name": "stdout",
          "text": [
            "Help on built-in function split:\n",
            "\n",
            "split(sep=None, maxsplit=-1) method of builtins.str instance\n",
            "    Return a list of the substrings in the string, using sep as the separator string.\n",
            "    \n",
            "      sep\n",
            "        The separator used to split the string.\n",
            "    \n",
            "        When set to None (the default value), will split on any whitespace\n",
            "        character (including \\\\n \\\\r \\\\t \\\\f and spaces) and will discard\n",
            "        empty strings from the result.\n",
            "      maxsplit\n",
            "        Maximum number of splits (starting from the left).\n",
            "        -1 (the default value) means no limit.\n",
            "    \n",
            "    Note, str.split() is mainly useful for data that has been intentionally\n",
            "    delimited.  With natural text that includes punctuation, consider using\n",
            "    the regular expression module.\n",
            "\n"
          ]
        }
      ]
    },
    {
      "cell_type": "markdown",
      "metadata": {
        "id": "tmPN3EFcRzmd"
      },
      "source": [
        "<b>Exercise 3:</b> Demonstrate some string operations. Also, show uses of some string methods."
      ]
    },
    {
      "cell_type": "code",
      "execution_count": null,
      "metadata": {
        "id": "aHc4MuaTRzmd",
        "colab": {
          "base_uri": "https://localhost:8080/"
        },
        "outputId": "1ccb9c96-321d-424e-fc24-cb40cfcee4a8"
      },
      "outputs": [
        {
          "output_type": "stream",
          "name": "stdout",
          "text": [
            "Hello World\n",
            "Hi! Hi! Hi! \n",
            "6\n",
            "Hello\n"
          ]
        }
      ],
      "source": [
        "# Code here\n",
        "str1 = \"Hello\"\n",
        "str2 = \"World\"\n",
        "result = str1 + \" \" + str2\n",
        "print(result)\n",
        "\n",
        "str1 = \"Hi! \"\n",
        "result = str1 * 3\n",
        "print(result)\n",
        "\n",
        "str1 = \"Python\"\n",
        "print(len(str1))\n",
        "\n",
        "str1 = \"Hello World\"\n",
        "result = str1[0:5]\n",
        "print(result)\n"
      ]
    },
    {
      "cell_type": "markdown",
      "metadata": {
        "id": "6gr5VKcARzmd"
      },
      "source": [
        "# List\n",
        "<p style=\"text-align: justify\">Python knows a number of compound data types, used to group together other values. The most versatile is the list, which can be written as a list of comma-separated values (items) between square brackets. Lists might contain items of different types, but usually the items all have the same type.</p>"
      ]
    },
    {
      "cell_type": "code",
      "execution_count": 3,
      "metadata": {
        "id": "1Upn_AwwRzmd",
        "outputId": "10cfd07b-529d-47b0-a580-78619050e655",
        "colab": {
          "base_uri": "https://localhost:8080/"
        }
      },
      "outputs": [
        {
          "output_type": "execute_result",
          "data": {
            "text/plain": [
              "[2, 4, 9, 18, 32]"
            ]
          },
          "metadata": {},
          "execution_count": 3
        }
      ],
      "source": [
        "squares = [2, 4, 9, 18, 32]\n",
        "squares"
      ]
    },
    {
      "cell_type": "code",
      "execution_count": 4,
      "metadata": {
        "id": "MSN71x4NRzmd",
        "colab": {
          "base_uri": "https://localhost:8080/"
        },
        "outputId": "aa4e0ae6-eed8-4718-c5cd-ce34ef94dd45"
      },
      "outputs": [
        {
          "output_type": "stream",
          "name": "stdout",
          "text": [
            "[2, 'abc', 6, ['bcd', 52800], 72.5, 'gggg']\n"
          ]
        }
      ],
      "source": [
        "data = [2, 'abc', ['bcd', 52800] ,72.5, 'gggg']\n",
        "data.insert(2,6)\n",
        "print(data)"
      ]
    },
    {
      "cell_type": "markdown",
      "metadata": {
        "id": "EAZkybb9Rzmd"
      },
      "source": [
        "Like strings (and all other built-in sequence types), lists can be indexed and sliced:"
      ]
    },
    {
      "cell_type": "code",
      "execution_count": 5,
      "metadata": {
        "id": "mroJxa8xRzmd",
        "outputId": "b376792e-d9f4-4a8e-ecdd-3ba411266870",
        "colab": {
          "base_uri": "https://localhost:8080/"
        }
      },
      "outputs": [
        {
          "output_type": "execute_result",
          "data": {
            "text/plain": [
              "52800"
            ]
          },
          "metadata": {},
          "execution_count": 5
        }
      ],
      "source": [
        "data[-3][1]"
      ]
    },
    {
      "cell_type": "code",
      "execution_count": 6,
      "metadata": {
        "id": "9hZ2VcSURzmd",
        "outputId": "f4a428b9-f77c-4ebe-f03a-7e1fe7664242",
        "colab": {
          "base_uri": "https://localhost:8080/",
          "height": 36
        }
      },
      "outputs": [
        {
          "output_type": "execute_result",
          "data": {
            "text/plain": [
              "'gggg'"
            ],
            "application/vnd.google.colaboratory.intrinsic+json": {
              "type": "string"
            }
          },
          "metadata": {},
          "execution_count": 6
        }
      ],
      "source": [
        "data[-1]"
      ]
    },
    {
      "cell_type": "code",
      "execution_count": 7,
      "metadata": {
        "id": "7OTvEEpmRzme",
        "outputId": "6eaf57c3-a97b-4951-8369-b27b16b5cec7",
        "colab": {
          "base_uri": "https://localhost:8080/"
        }
      },
      "outputs": [
        {
          "output_type": "execute_result",
          "data": {
            "text/plain": [
              "['abc', 6]"
            ]
          },
          "metadata": {},
          "execution_count": 7
        }
      ],
      "source": [
        "data[1:3]"
      ]
    },
    {
      "cell_type": "code",
      "execution_count": 8,
      "metadata": {
        "id": "CNJjqWtzRzme",
        "outputId": "dd55ac61-77cd-44fe-f722-879a2ca53e12",
        "colab": {
          "base_uri": "https://localhost:8080/"
        }
      },
      "outputs": [
        {
          "output_type": "execute_result",
          "data": {
            "text/plain": [
              "['bcd', 52800]"
            ]
          },
          "metadata": {},
          "execution_count": 8
        }
      ],
      "source": [
        "data[3]"
      ]
    },
    {
      "cell_type": "code",
      "execution_count": 9,
      "metadata": {
        "id": "DyOJ1nzPRzme",
        "outputId": "f283ebc7-37e2-401f-dff2-8d049b797b37",
        "colab": {
          "base_uri": "https://localhost:8080/",
          "height": 36
        }
      },
      "outputs": [
        {
          "output_type": "execute_result",
          "data": {
            "text/plain": [
              "'bcd'"
            ],
            "application/vnd.google.colaboratory.intrinsic+json": {
              "type": "string"
            }
          },
          "metadata": {},
          "execution_count": 9
        }
      ],
      "source": [
        "data[3][0]"
      ]
    },
    {
      "cell_type": "code",
      "execution_count": 10,
      "metadata": {
        "id": "ODxFEFb6Rzme",
        "outputId": "f943eda8-46dc-4967-dd61-2c21c34e2b0e",
        "colab": {
          "base_uri": "https://localhost:8080/"
        }
      },
      "outputs": [
        {
          "output_type": "execute_result",
          "data": {
            "text/plain": [
              "6"
            ]
          },
          "metadata": {},
          "execution_count": 10
        }
      ],
      "source": [
        "len(data)"
      ]
    },
    {
      "cell_type": "code",
      "execution_count": 11,
      "metadata": {
        "id": "k8zOnP5zRzme",
        "outputId": "19a98c92-1735-465b-a017-42f110bbe055",
        "colab": {
          "base_uri": "https://localhost:8080/"
        }
      },
      "outputs": [
        {
          "output_type": "execute_result",
          "data": {
            "text/plain": [
              "[2, 'abc', 6, ['bcd', 52800], 72.5, 'gggg']"
            ]
          },
          "metadata": {},
          "execution_count": 11
        }
      ],
      "source": [
        "data"
      ]
    },
    {
      "cell_type": "markdown",
      "metadata": {
        "id": "UgYmz8egRzme"
      },
      "source": [
        "Some list methods"
      ]
    },
    {
      "cell_type": "code",
      "execution_count": 12,
      "metadata": {
        "id": "Jv-Oj-oNRzme",
        "outputId": "597a81a0-4294-4c7e-b36b-73e895c9e0d2",
        "colab": {
          "base_uri": "https://localhost:8080/"
        }
      },
      "outputs": [
        {
          "output_type": "stream",
          "name": "stdout",
          "text": [
            "[21, 'Manager', ['Manager', 12], 6.6, 'Dhaka', 55]\n"
          ]
        }
      ],
      "source": [
        "data = [21, 'Manager', ['Manager', 12] ,6.60, 'Dhaka']\n",
        "data.append(55)\n",
        "print(data)"
      ]
    },
    {
      "cell_type": "code",
      "source": [
        "data = [21, 'Manager', ['Manager', 89000] ,4.50, 'Dhaka']\n",
        "data.insert(2,10)\n",
        "print(data)"
      ],
      "metadata": {
        "colab": {
          "base_uri": "https://localhost:8080/"
        },
        "id": "M5aM4EXeQMIZ",
        "outputId": "2b16de75-31ae-4b18-da04-91262dbb10da"
      },
      "execution_count": 13,
      "outputs": [
        {
          "output_type": "stream",
          "name": "stdout",
          "text": [
            "[21, 'Manager', 10, ['Manager', 89000], 4.5, 'Dhaka']\n"
          ]
        }
      ]
    },
    {
      "cell_type": "code",
      "execution_count": 14,
      "metadata": {
        "id": "CZ6yqnLARzmf",
        "outputId": "eb30a0ad-ec31-4333-cca8-9c14dc61d2df",
        "colab": {
          "base_uri": "https://localhost:8080/"
        }
      },
      "outputs": [
        {
          "output_type": "stream",
          "name": "stdout",
          "text": [
            "[21, ['Manager', 89000], 4.5, 'Dhaka']\n"
          ]
        }
      ],
      "source": [
        "data = [21, 'Manager', ['Manager', 89000], 4.50, 'Dhaka']\n",
        "data.remove('Manager')\n",
        "print(data)"
      ]
    },
    {
      "cell_type": "code",
      "execution_count": 15,
      "metadata": {
        "id": "tKqaqnIBRzmf",
        "outputId": "d0587bdb-9b72-42a3-a098-b995afcaa9ac",
        "colab": {
          "base_uri": "https://localhost:8080/"
        }
      },
      "outputs": [
        {
          "output_type": "stream",
          "name": "stdout",
          "text": [
            "[21, 'Manager', ['Manager', 89000], 4.5]\n"
          ]
        }
      ],
      "source": [
        "data = [21, 'Manager', ['Manager', 89000] ,4.50, 'Dhaka']\n",
        "data.pop()\n",
        "print(data)"
      ]
    },
    {
      "cell_type": "code",
      "execution_count": 16,
      "metadata": {
        "id": "VFtxe-7pRzmf",
        "colab": {
          "base_uri": "https://localhost:8080/"
        },
        "outputId": "d6ff0b21-2c52-4e5e-931b-4aa29bd136b5"
      },
      "outputs": [
        {
          "output_type": "execute_result",
          "data": {
            "text/plain": [
              "['__add__',\n",
              " '__class__',\n",
              " '__class_getitem__',\n",
              " '__contains__',\n",
              " '__delattr__',\n",
              " '__delitem__',\n",
              " '__dir__',\n",
              " '__doc__',\n",
              " '__eq__',\n",
              " '__format__',\n",
              " '__ge__',\n",
              " '__getattribute__',\n",
              " '__getitem__',\n",
              " '__gt__',\n",
              " '__hash__',\n",
              " '__iadd__',\n",
              " '__imul__',\n",
              " '__init__',\n",
              " '__init_subclass__',\n",
              " '__iter__',\n",
              " '__le__',\n",
              " '__len__',\n",
              " '__lt__',\n",
              " '__mul__',\n",
              " '__ne__',\n",
              " '__new__',\n",
              " '__reduce__',\n",
              " '__reduce_ex__',\n",
              " '__repr__',\n",
              " '__reversed__',\n",
              " '__rmul__',\n",
              " '__setattr__',\n",
              " '__setitem__',\n",
              " '__sizeof__',\n",
              " '__str__',\n",
              " '__subclasshook__',\n",
              " 'append',\n",
              " 'clear',\n",
              " 'copy',\n",
              " 'count',\n",
              " 'extend',\n",
              " 'index',\n",
              " 'insert',\n",
              " 'pop',\n",
              " 'remove',\n",
              " 'reverse',\n",
              " 'sort']"
            ]
          },
          "metadata": {},
          "execution_count": 16
        }
      ],
      "source": [
        "dir(data)"
      ]
    },
    {
      "cell_type": "code",
      "execution_count": 17,
      "metadata": {
        "id": "8EW2S40DRzmf",
        "colab": {
          "base_uri": "https://localhost:8080/"
        },
        "outputId": "32e00a75-f1a6-4d96-c138-601aaae1cbf6"
      },
      "outputs": [
        {
          "output_type": "stream",
          "name": "stdout",
          "text": [
            "Help on built-in function insert:\n",
            "\n",
            "insert(index, object, /) method of builtins.list instance\n",
            "    Insert object before index.\n",
            "\n"
          ]
        }
      ],
      "source": [
        "help(data.insert)"
      ]
    },
    {
      "cell_type": "markdown",
      "metadata": {
        "id": "7SDG91olRzmf"
      },
      "source": [
        "Lists also support operations like concatenation"
      ]
    },
    {
      "cell_type": "code",
      "execution_count": 18,
      "metadata": {
        "id": "yyLLhPTYRzmf",
        "outputId": "006a38e9-e1d1-43b9-92ed-0ab782a51907",
        "colab": {
          "base_uri": "https://localhost:8080/"
        }
      },
      "outputs": [
        {
          "output_type": "execute_result",
          "data": {
            "text/plain": [
              "[2, 4, 9, 18, 32, 21, 'Manager', ['Manager', 89000], 4.5]"
            ]
          },
          "metadata": {},
          "execution_count": 18
        }
      ],
      "source": [
        "squares + data"
      ]
    },
    {
      "cell_type": "markdown",
      "metadata": {
        "id": "s235DeNcRzmf"
      },
      "source": [
        "<b> Exercise 4:</b> Implement stack using list\n",
        "<p><b>Hints:</b> The list methods make it very easy to use a list as a stack, where the last element added is the first element retrieved (“last-in, first-out”). To add an item to the top of the stack, use append(). To retrieve an item from the top of the stack, use pop() without an explicit index</p>"
      ]
    },
    {
      "cell_type": "code",
      "execution_count": 22,
      "metadata": {
        "id": "Ch_6MsYeRzmf",
        "colab": {
          "base_uri": "https://localhost:8080/"
        },
        "outputId": "0ec7e256-9b1f-4cb6-9ca1-ce0fd06239f1"
      },
      "outputs": [
        {
          "output_type": "stream",
          "name": "stdout",
          "text": [
            "Stack after pushing elements: [23, 32, 12]\n",
            "Popped element: 12\n",
            "Stack after popping an element: [23, 32]\n"
          ]
        }
      ],
      "source": [
        "stack = []\n",
        "\n",
        "stack.append(23)\n",
        "stack.append(32)\n",
        "stack.append(12)\n",
        "\n",
        "print(\"Stack after pushing elements:\", stack)\n",
        "\n",
        "top_element = stack.pop()\n",
        "print(\"Popped element:\", top_element)\n",
        "print(\"Stack after popping an element:\", stack)"
      ]
    },
    {
      "cell_type": "markdown",
      "metadata": {
        "id": "8IBYDynXRzmg"
      },
      "source": [
        "<b> Exercise 5:</b> Implement queue using list\n",
        "<p><b>Hints:</b> It is also possible to use a list as a queue, where the first element added is the first element retrieved (“first-in, first-out”)</p>"
      ]
    },
    {
      "cell_type": "code",
      "execution_count": 23,
      "metadata": {
        "id": "g5EYaRjnRzmg",
        "colab": {
          "base_uri": "https://localhost:8080/"
        },
        "outputId": "25722bb4-c853-482d-e9c7-09609ff76818"
      },
      "outputs": [
        {
          "output_type": "stream",
          "name": "stdout",
          "text": [
            "Queue after enqueueing elements: [12, 23, 32]\n",
            "Dequeued element: 12\n",
            "Queue after dequeuing an element: [23, 32]\n"
          ]
        }
      ],
      "source": [
        "queue = []\n",
        "\n",
        "queue.append(12)\n",
        "queue.append(23)\n",
        "queue.append(32)\n",
        "\n",
        "print(\"Queue after enqueueing elements:\", queue)\n",
        "\n",
        "first_element = queue.pop(0)\n",
        "print(\"Dequeued element:\", first_element)\n",
        "print(\"Queue after dequeuing an element:\", queue)"
      ]
    },
    {
      "cell_type": "markdown",
      "metadata": {
        "id": "TQ0Azt_2Rzmg"
      },
      "source": [
        "# Dictionary\n",
        "<p style=\"text-align: justify\">Dictionaries are sometimes found in other languages as “associative memories” or “associative arrays”. Unlike sequences, which are indexed by a range of numbers, dictionaries are indexed by keys, which can be any immutable type; strings and numbers can always be keys.</p>\n",
        "\n",
        "<p style=\"text-align: justify\">It is best to think of a dictionary as a set of key: value pairs, with the requirement that the keys are unique (within one dictionary). A pair of braces creates an empty dictionary: {}. Placing a comma-separated list of key:value pairs within the braces adds initial key:value pairs to the dictionary; this is also the way dictionaries are written on output.</p>"
      ]
    },
    {
      "cell_type": "code",
      "execution_count": 29,
      "metadata": {
        "id": "re9nWSYYRzmg"
      },
      "outputs": [],
      "source": [
        "tel = {'oppen': 4550, 'heimer': 6000}"
      ]
    },
    {
      "cell_type": "code",
      "source": [
        "list(tel.keys())[0]\n"
      ],
      "metadata": {
        "colab": {
          "base_uri": "https://localhost:8080/",
          "height": 36
        },
        "id": "If-U0e50Ihle",
        "outputId": "db756018-7a74-4684-949b-d1622299514e"
      },
      "execution_count": 31,
      "outputs": [
        {
          "output_type": "execute_result",
          "data": {
            "text/plain": [
              "'oppen'"
            ],
            "application/vnd.google.colaboratory.intrinsic+json": {
              "type": "string"
            }
          },
          "metadata": {},
          "execution_count": 31
        }
      ]
    },
    {
      "cell_type": "code",
      "execution_count": 33,
      "metadata": {
        "id": "2GNIumzqRzmg",
        "outputId": "63a886d6-0858-4750-862b-e8ba22ccea75",
        "colab": {
          "base_uri": "https://localhost:8080/"
        }
      },
      "outputs": [
        {
          "output_type": "execute_result",
          "data": {
            "text/plain": [
              "{'oppen': 4550, 'heimer': 6000, 'guido': 7000}"
            ]
          },
          "metadata": {},
          "execution_count": 33
        }
      ],
      "source": [
        "tel['guido'] = 7000\n",
        "tel"
      ]
    },
    {
      "cell_type": "code",
      "execution_count": 35,
      "metadata": {
        "id": "KzHZZf9ERzmg"
      },
      "outputs": [],
      "source": [
        "person = {'Age':23,'Name':['tridib','sarkar'], 'Salary':60000, 'Rating':4.00}"
      ]
    },
    {
      "cell_type": "code",
      "execution_count": 39,
      "metadata": {
        "id": "onihNMhoRzmg",
        "outputId": "3530f603-4727-4234-c0aa-8e58dc0f48e2",
        "colab": {
          "base_uri": "https://localhost:8080/"
        }
      },
      "outputs": [
        {
          "output_type": "execute_result",
          "data": {
            "text/plain": [
              "23"
            ]
          },
          "metadata": {},
          "execution_count": 39
        }
      ],
      "source": [
        "person['Age']"
      ]
    },
    {
      "cell_type": "code",
      "execution_count": 40,
      "metadata": {
        "id": "SII5SLdbRzmg",
        "outputId": "31c70716-7856-4014-f2b2-1def13d29d5d",
        "colab": {
          "base_uri": "https://localhost:8080/"
        }
      },
      "outputs": [
        {
          "output_type": "execute_result",
          "data": {
            "text/plain": [
              "4"
            ]
          },
          "metadata": {},
          "execution_count": 40
        }
      ],
      "source": [
        "len(person)"
      ]
    },
    {
      "cell_type": "code",
      "execution_count": 41,
      "metadata": {
        "id": "x2Zc_drHRzmh",
        "outputId": "252df62c-8e38-4870-b08f-59f986b53825",
        "colab": {
          "base_uri": "https://localhost:8080/"
        }
      },
      "outputs": [
        {
          "output_type": "execute_result",
          "data": {
            "text/plain": [
              "dict_keys(['Age', 'Name', 'Salary', 'Rating'])"
            ]
          },
          "metadata": {},
          "execution_count": 41
        }
      ],
      "source": [
        "person.keys()"
      ]
    },
    {
      "cell_type": "code",
      "execution_count": 42,
      "metadata": {
        "id": "l_yR04F0Rzmh",
        "outputId": "de6e9bbb-e064-4187-edf1-8b1f187ba2e6",
        "colab": {
          "base_uri": "https://localhost:8080/"
        }
      },
      "outputs": [
        {
          "output_type": "execute_result",
          "data": {
            "text/plain": [
              "True"
            ]
          },
          "metadata": {},
          "execution_count": 42
        }
      ],
      "source": [
        "#person.has_key('Name')\n",
        "'Name' in person.keys()"
      ]
    },
    {
      "cell_type": "code",
      "execution_count": 44,
      "metadata": {
        "id": "Enge3DbtRzmh",
        "outputId": "478978f1-fd5a-4294-9dae-02c120cb5c78",
        "colab": {
          "base_uri": "https://localhost:8080/"
        }
      },
      "outputs": [
        {
          "output_type": "execute_result",
          "data": {
            "text/plain": [
              "False"
            ]
          },
          "metadata": {},
          "execution_count": 44
        }
      ],
      "source": [
        "'turzo' in person['Name']"
      ]
    },
    {
      "cell_type": "code",
      "execution_count": 45,
      "metadata": {
        "id": "Lp68r5LJRzmh",
        "colab": {
          "base_uri": "https://localhost:8080/"
        },
        "outputId": "2fe0cf08-e4ed-48e0-eac6-e93a82efdb69"
      },
      "outputs": [
        {
          "output_type": "execute_result",
          "data": {
            "text/plain": [
              "['__class__',\n",
              " '__class_getitem__',\n",
              " '__contains__',\n",
              " '__delattr__',\n",
              " '__delitem__',\n",
              " '__dir__',\n",
              " '__doc__',\n",
              " '__eq__',\n",
              " '__format__',\n",
              " '__ge__',\n",
              " '__getattribute__',\n",
              " '__getitem__',\n",
              " '__gt__',\n",
              " '__hash__',\n",
              " '__init__',\n",
              " '__init_subclass__',\n",
              " '__ior__',\n",
              " '__iter__',\n",
              " '__le__',\n",
              " '__len__',\n",
              " '__lt__',\n",
              " '__ne__',\n",
              " '__new__',\n",
              " '__or__',\n",
              " '__reduce__',\n",
              " '__reduce_ex__',\n",
              " '__repr__',\n",
              " '__reversed__',\n",
              " '__ror__',\n",
              " '__setattr__',\n",
              " '__setitem__',\n",
              " '__sizeof__',\n",
              " '__str__',\n",
              " '__subclasshook__',\n",
              " 'clear',\n",
              " 'copy',\n",
              " 'fromkeys',\n",
              " 'get',\n",
              " 'items',\n",
              " 'keys',\n",
              " 'pop',\n",
              " 'popitem',\n",
              " 'setdefault',\n",
              " 'update',\n",
              " 'values']"
            ]
          },
          "metadata": {},
          "execution_count": 45
        }
      ],
      "source": [
        "dir(person)"
      ]
    },
    {
      "cell_type": "markdown",
      "metadata": {
        "id": "6-O7lD6gRzmh"
      },
      "source": [
        "<b> Exercise 6:</b> Define a dictionary to store the details of persons. Also, print some data from the dictionary.\n",
        " <p><b>Hint:</b> You may require nesting dictionary, lists, string inside the dictionary.</p>"
      ]
    },
    {
      "cell_type": "code",
      "execution_count": 48,
      "metadata": {
        "id": "UNx0mYDNRzmh",
        "colab": {
          "base_uri": "https://localhost:8080/"
        },
        "outputId": "7721b8f8-e197-4101-e42f-f399649018e6"
      },
      "outputs": [
        {
          "output_type": "stream",
          "name": "stdout",
          "text": [
            "Details of Person 1:\n",
            "Name: ABC\n",
            "Age: 30\n",
            "Salary: 50000\n",
            "Skills: ['Python', 'Java']\n",
            "\n",
            "Details of Person 2:\n",
            "Name: BCD\n",
            "Age: 25\n",
            "Salary: 45000\n",
            "Skills: ['HTML', 'CSS']\n"
          ]
        }
      ],
      "source": [
        "people = {\n",
        "    'person1': {\n",
        "        'Name': 'ABC',\n",
        "        'Age': 30,\n",
        "        'Salary': 50000,\n",
        "        'Skills': ['Python', 'Java']\n",
        "    },\n",
        "\n",
        "    'person2': {\n",
        "        'Name': 'BCD',\n",
        "        'Age': 25,\n",
        "        'Salary': 45000,\n",
        "        'Skills': ['HTML', 'CSS']\n",
        "    }\n",
        "}\n",
        "\n",
        "print(\"Details of Person 1:\")\n",
        "print(\"Name:\", people['person1']['Name'])\n",
        "print(\"Age:\", people['person1']['Age'])\n",
        "print(\"Salary:\", people['person1']['Salary'])\n",
        "print(\"Skills:\", people['person1']['Skills'])\n",
        "\n",
        "print(\"\\nDetails of Person 2:\")\n",
        "print(\"Name:\", people['person2']['Name'])\n",
        "print(\"Age:\", people['person2']['Age'])\n",
        "print(\"Salary:\", people['person2']['Salary'])\n",
        "print(\"Skills:\", people['person2']['Skills'])"
      ]
    },
    {
      "cell_type": "markdown",
      "metadata": {
        "id": "4S_g-H7rRzmh"
      },
      "source": [
        "# Tuples and Sets\n",
        "<b>Exercise 7: (Optional)</b> Use the content from [here](https://docs.python.org/3/tutorial/datastructures.html#tuples-and-sequences) to follow some examples on tuple and set."
      ]
    },
    {
      "cell_type": "code",
      "execution_count": 58,
      "metadata": {
        "id": "LpzjdV5RRzmh",
        "colab": {
          "base_uri": "https://localhost:8080/"
        },
        "outputId": "744cd2f6-edef-473e-f2e2-362b7afd2bf9"
      },
      "outputs": [
        {
          "output_type": "stream",
          "name": "stdout",
          "text": [
            "My Tuple: (1, 2, 3, 'apple', 'banana')\n"
          ]
        }
      ],
      "source": [
        "my_tuple = (1, 2, 3, 'apple', 'banana')\n",
        "\n",
        "print(\"My Tuple:\", my_tuple)"
      ]
    },
    {
      "cell_type": "code",
      "source": [
        "first_element = my_tuple[0]\n",
        "print(\"First element:\", first_element)"
      ],
      "metadata": {
        "colab": {
          "base_uri": "https://localhost:8080/"
        },
        "id": "8s4NJ32-u_uZ",
        "outputId": "b2a6e3c0-1397-4e57-cde2-8351f4b9f6ba"
      },
      "execution_count": 59,
      "outputs": [
        {
          "output_type": "stream",
          "name": "stdout",
          "text": [
            "First element: 1\n"
          ]
        }
      ]
    }
  ],
  "metadata": {
    "kernelspec": {
      "display_name": "Python 3",
      "language": "python",
      "name": "python3"
    },
    "language_info": {
      "codemirror_mode": {
        "name": "ipython",
        "version": 3
      },
      "file_extension": ".py",
      "mimetype": "text/x-python",
      "name": "python",
      "nbconvert_exporter": "python",
      "pygments_lexer": "ipython3",
      "version": "3.8.5"
    },
    "colab": {
      "provenance": []
    }
  },
  "nbformat": 4,
  "nbformat_minor": 0
}